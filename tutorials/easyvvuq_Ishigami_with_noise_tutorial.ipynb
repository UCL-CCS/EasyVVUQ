{
 "cells": [
  {
   "attachments": {},
   "cell_type": "markdown",
   "metadata": {},
   "source": [
    "Run an EasyVVUQ campaign to analyze the sensitivity of the Ishigami function with noise\n",
    "\n",
    "This is done with PCE providing a normal distributed noise value"
   ]
  },
  {
   "cell_type": "code",
   "execution_count": 1,
   "metadata": {
    "ExecuteTime": {
     "end_time": "2021-12-10T08:41:19.729525Z",
     "start_time": "2021-12-10T08:41:14.617602Z"
    },
    "code_folding": []
   },
   "outputs": [],
   "source": [
    "# Run an EasyVVUQ campaign to analyze the sensitivity for the Ishigami function with noise\n",
    "# This is done with PCE providing a normal distributed noise value.\n",
    "import os\n",
    "import easyvvuq as uq\n",
    "import chaospy as cp\n",
    "import pickle\n",
    "import numpy as np\n",
    "import matplotlib.pylab as plt\n",
    "import time\n",
    "import pandas as pd"
   ]
  },
  {
   "cell_type": "code",
   "execution_count": 2,
   "metadata": {
    "ExecuteTime": {
     "end_time": "2021-12-10T08:41:19.734097Z",
     "start_time": "2021-12-10T08:41:19.730725Z"
    },
    "code_folding": [
     0,
     1
    ]
   },
   "outputs": [],
   "source": [
    "# Define the Ishigami function\n",
    "def ishigamiSA(a,b):\n",
    "    '''Exact sensitivity indices of the Ishigami function for given a and b.\n",
    "    From https://openturns.github.io/openturns/master/examples/meta_modeling/chaos_ishigami.html\n",
    "    '''\n",
    "    var = 1.0/2 + a**2/8 + b*np.pi**4/5 + b**2*np.pi**8/18\n",
    "    S1 = (1.0/2 + b*np.pi**4/5+b**2*np.pi**8/50)/var\n",
    "    S2 = (a**2/8)/var\n",
    "    S3 = 0\n",
    "    S13 = b**2*np.pi**8/2*(1.0/9-1.0/25)/var\n",
    "    exact = {\n",
    "            'expectation' : a/2,\n",
    "            'variance' : var,\n",
    "            'S1' : (1.0/2 + b*np.pi**4/5+b**2*np.pi**8.0/50)/var,\n",
    "            'S2' : (a**2/8)/var,\n",
    "            'S3' : 0,\n",
    "            'S12' : 0,\n",
    "            'S23' : 0,\n",
    "            'S13' : S13,\n",
    "            'S123' : 0,\n",
    "            'ST1' : S1 + S13,\n",
    "            'ST2' : S2,\n",
    "            'ST3' : S3 + S13\n",
    "            }\n",
    "    return exact\n",
    "\n",
    "Ishigami_a = 7.0\n",
    "Ishigami_b = 0.1\n",
    "exact = ishigamiSA(Ishigami_a, Ishigami_b)"
   ]
  },
  {
   "cell_type": "code",
   "execution_count": 3,
   "metadata": {
    "ExecuteTime": {
     "end_time": "2021-12-10T08:41:19.736546Z",
     "start_time": "2021-12-10T08:41:19.734786Z"
    },
    "code_folding": [
     0
    ]
   },
   "outputs": [],
   "source": [
    "# define a model to run the Ishigami code directly from python, expecting a dictionary and returning a dictionary\n",
    "def run_ishigami_model(input):\n",
    "    import Ishigami\n",
    "    qois = [\"Ishigami\"]\n",
    "    del input['out_file']\n",
    "    N = input['N']\n",
    "    del input['N']\n",
    "    return {qois[0]: Ishigami.evaluate(**input)+N}"
   ]
  },
  {
   "cell_type": "code",
   "execution_count": 4,
   "metadata": {
    "ExecuteTime": {
     "end_time": "2021-12-10T08:41:19.740153Z",
     "start_time": "2021-12-10T08:41:19.737318Z"
    },
    "code_folding": [
     0
    ]
   },
   "outputs": [],
   "source": [
    "# Define parameter space\n",
    "def define_params():\n",
    "    return {\n",
    "        \"x1\":       {\"type\": \"float\",   \"min\": -np.pi,     \"max\": np.pi,      \"default\": 0.0},\n",
    "        \"x2\":       {\"type\": \"float\",   \"min\": -np.pi,     \"max\": np.pi,      \"default\": 0.0},\n",
    "        \"x3\":       {\"type\": \"float\",   \"min\": -np.pi,     \"max\": np.pi,      \"default\": 0.0},\n",
    "        \"a\":        {\"type\": \"float\",   \"min\": Ishigami_a, \"max\": Ishigami_a, \"default\": Ishigami_a},\n",
    "        \"b\":        {\"type\": \"float\",   \"min\": Ishigami_b, \"max\": Ishigami_b, \"default\": Ishigami_b},\n",
    "        \"N\":        {\"type\": \"float\",   \"min\": -100.0,     \"max\": 100.0,      \"default\": 0.0},\n",
    "        \"out_file\": {\"type\": \"string\",  \"default\": \"output.csv\"}\n",
    "    }"
   ]
  },
  {
   "cell_type": "code",
   "execution_count": 5,
   "metadata": {
    "ExecuteTime": {
     "end_time": "2021-12-10T08:41:19.744486Z",
     "start_time": "2021-12-10T08:41:19.741899Z"
    },
    "code_folding": []
   },
   "outputs": [],
   "source": [
    "# Define varying space\n",
    "def define_vary():\n",
    "    return {\n",
    "        \"x1\":   cp.Uniform(-np.pi, np.pi),\n",
    "        \"x2\":   cp.Uniform(-np.pi, np.pi),\n",
    "        \"x3\":   cp.Uniform(-np.pi, np.pi),\n",
    "        \"N\":    cp.Normal(0, 10.0)\n",
    "    }"
   ]
  },
  {
   "cell_type": "code",
   "execution_count": 6,
   "metadata": {
    "ExecuteTime": {
     "end_time": "2021-12-10T08:41:19.752409Z",
     "start_time": "2021-12-10T08:41:19.745560Z"
    },
    "code_folding": [
     0
    ]
   },
   "outputs": [],
   "source": [
    "# Set up and run a campaign\n",
    "def run_campaign(pce_order=2, use_files=False):\n",
    "\n",
    "    times = np.zeros(7)\n",
    "\n",
    "    time_start = time.time()\n",
    "    time_start_whole = time_start\n",
    "\n",
    "    # Set up a fresh campaign called \"Ishigami_pce.\"\n",
    "    my_campaign = uq.Campaign(name='Ishigami_pce.')\n",
    "\n",
    "    # Create an encoder and decoder for PCE test app\n",
    "    if use_files:\n",
    "        encoder = uq.encoders.GenericEncoder(template_fname='Ishigami.template',\n",
    "                                             delimiter='$',\n",
    "                                             target_filename='Ishigami_in.json')\n",
    "\n",
    "        decoder = uq.decoders.SimpleCSV(target_filename=\"output.csv\",\n",
    "                                        output_columns=[\"Ishigami\"])\n",
    "\n",
    "        execute = uq.actions.ExecuteLocal('python3 %s/Ishigami.py Ishigami_in.json' % (os.getcwd()))\n",
    "\n",
    "        actions = uq.actions.Actions(uq.actions.CreateRunDirectory('/tmp'), \n",
    "                          uq.actions.Encode(encoder), execute, uq.actions.Decode(decoder))\n",
    "    else:\n",
    "        actions = uq.actions.Actions(uq.actions.ExecutePython(run_ishigami_model))\n",
    "\n",
    "    # Add the app (automatically set as current app)\n",
    "    my_campaign.add_app(name=\"Ishigami\", params=define_params(), actions=actions)\n",
    "\n",
    "    # Create the sampler\n",
    "    time_end = time.time()\n",
    "    times[1] = time_end-time_start\n",
    "    print('Time for phase 1 = %.3f' % (times[1]))\n",
    "\n",
    "    time_start = time.time()\n",
    "    # Associate a sampler with the campaign\n",
    "    Sampler_PCE = uq.sampling.PCESampler(vary=define_vary(), polynomial_order=pce_order)\n",
    "    my_campaign.set_sampler(Sampler_PCE)\n",
    "\n",
    "    # Will draw all (of the finite set of samples)\n",
    "    my_campaign.draw_samples()\n",
    "    print('PCE order = %s' % pce_order)\n",
    "    print('Number of samples = %s' % my_campaign.get_active_sampler().count)\n",
    "\n",
    "    time_end = time.time()\n",
    "    times[2] = time_end-time_start\n",
    "    print('Time for phase 2 = %.3f' % (times[2]))\n",
    "\n",
    "    time_start = time.time()\n",
    "    # Run the cases\n",
    "    my_campaign.execute(sequential=True).collate(progress_bar=True)\n",
    "\n",
    "    time_end = time.time()\n",
    "    times[3] = time_end-time_start\n",
    "    print('Time for phase 3 = %.3f' % (times[3]))\n",
    "\n",
    "    time_start = time.time()\n",
    "    # Get the results\n",
    "    results_df = my_campaign.get_collation_result()\n",
    "\n",
    "    time_end = time.time()\n",
    "    times[4] = time_end-time_start\n",
    "    print('Time for phase 4 = %.3f' % (times[4]))\n",
    "\n",
    "    time_start = time.time()\n",
    "    # Post-processing analysis\n",
    "    results = my_campaign.analyse(qoi_cols=[\"Ishigami\"])\n",
    "    \n",
    "    time_end = time.time()\n",
    "    times[5] = time_end-time_start\n",
    "    print('Time for phase 5 = %.3f' % (times[5]))\n",
    "\n",
    "    time_start = time.time()\n",
    "    # Save the results\n",
    "    pickle.dump(results, open('Ishigami_results.pickle','bw'))\n",
    "    time_end = time.time()\n",
    "    times[6] = time_end-time_start\n",
    "    print('Time for phase 6 = %.3f' % (times[6]))\n",
    "\n",
    "    times[0] = time_end - time_start_whole\n",
    "\n",
    "    return results_df, results, times, pce_order, my_campaign.get_active_sampler().count"
   ]
  },
  {
   "cell_type": "code",
   "execution_count": 7,
   "metadata": {
    "ExecuteTime": {
     "end_time": "2021-12-10T08:47:01.246304Z",
     "start_time": "2021-12-10T08:41:19.753371Z"
    },
    "code_folding": [
     0
    ],
    "scrolled": true
   },
   "outputs": [
    {
     "name": "stdout",
     "output_type": "stream",
     "text": [
      "Time for phase 1 = 0.026\n",
      "PCE order = 1\n",
      "Number of samples = 16\n",
      "Time for phase 2 = 0.070\n"
     ]
    },
    {
     "name": "stderr",
     "output_type": "stream",
     "text": [
      "100%|████████████████████████████████████████████████| 16/16 [00:00<00:00, 2804.15it/s]"
     ]
    },
    {
     "name": "stdout",
     "output_type": "stream",
     "text": [
      "Time for phase 3 = 0.021\n",
      "Time for phase 4 = 0.032\n",
      "Time for phase 5 = 0.054\n",
      "Time for phase 6 = 0.003\n",
      "Time for phase 1 = 0.011\n"
     ]
    },
    {
     "name": "stderr",
     "output_type": "stream",
     "text": [
      "\n"
     ]
    },
    {
     "name": "stdout",
     "output_type": "stream",
     "text": [
      "PCE order = 2\n",
      "Number of samples = 81\n",
      "Time for phase 2 = 0.124\n"
     ]
    },
    {
     "name": "stderr",
     "output_type": "stream",
     "text": [
      "100%|████████████████████████████████████████████████| 81/81 [00:00<00:00, 3330.87it/s]"
     ]
    },
    {
     "name": "stdout",
     "output_type": "stream",
     "text": [
      "Time for phase 3 = 0.033\n",
      "Time for phase 4 = 0.004\n",
      "Time for phase 5 = 0.133\n",
      "Time for phase 6 = 0.001\n",
      "Time for phase 1 = 0.008\n"
     ]
    },
    {
     "name": "stderr",
     "output_type": "stream",
     "text": [
      "\n"
     ]
    },
    {
     "name": "stdout",
     "output_type": "stream",
     "text": [
      "PCE order = 3\n",
      "Number of samples = 256\n",
      "Time for phase 2 = 0.207\n"
     ]
    },
    {
     "name": "stderr",
     "output_type": "stream",
     "text": [
      "100%|██████████████████████████████████████████████| 256/256 [00:00<00:00, 4990.55it/s]"
     ]
    },
    {
     "name": "stdout",
     "output_type": "stream",
     "text": [
      "Time for phase 3 = 0.062\n",
      "Time for phase 4 = 0.005\n"
     ]
    },
    {
     "name": "stderr",
     "output_type": "stream",
     "text": [
      "\n"
     ]
    },
    {
     "name": "stdout",
     "output_type": "stream",
     "text": [
      "Time for phase 5 = 0.269\n",
      "Time for phase 6 = 0.001\n",
      "Time for phase 1 = 0.008\n",
      "PCE order = 4\n",
      "Number of samples = 625\n",
      "Time for phase 2 = 0.421\n"
     ]
    },
    {
     "name": "stderr",
     "output_type": "stream",
     "text": [
      "100%|██████████████████████████████████████████████| 625/625 [00:00<00:00, 5099.29it/s]"
     ]
    },
    {
     "name": "stdout",
     "output_type": "stream",
     "text": [
      "Time for phase 3 = 0.143\n",
      "Time for phase 4 = 0.012\n"
     ]
    },
    {
     "name": "stderr",
     "output_type": "stream",
     "text": [
      "\n"
     ]
    },
    {
     "name": "stdout",
     "output_type": "stream",
     "text": [
      "Time for phase 5 = 0.656\n",
      "Time for phase 6 = 0.001\n",
      "Time for phase 1 = 0.007\n",
      "PCE order = 5\n",
      "Number of samples = 1296\n",
      "Time for phase 2 = 0.774\n"
     ]
    },
    {
     "name": "stderr",
     "output_type": "stream",
     "text": [
      "100%|████████████████████████████████████████████| 1296/1296 [00:00<00:00, 2887.71it/s]\n"
     ]
    },
    {
     "name": "stdout",
     "output_type": "stream",
     "text": [
      "Time for phase 3 = 0.498\n",
      "Time for phase 4 = 0.109\n",
      "Time for phase 5 = 2.258\n",
      "Time for phase 6 = 0.002\n",
      "Time for phase 1 = 0.018\n",
      "PCE order = 6\n",
      "Number of samples = 2401\n",
      "Time for phase 2 = 1.281\n"
     ]
    },
    {
     "name": "stderr",
     "output_type": "stream",
     "text": [
      "100%|████████████████████████████████████████████| 2401/2401 [00:00<00:00, 4844.01it/s]\n"
     ]
    },
    {
     "name": "stdout",
     "output_type": "stream",
     "text": [
      "Time for phase 3 = 0.560\n",
      "Time for phase 4 = 0.092\n",
      "Time for phase 5 = 5.140\n",
      "Time for phase 6 = 0.002\n",
      "Time for phase 1 = 0.015\n",
      "PCE order = 7\n",
      "Number of samples = 4096\n",
      "Time for phase 2 = 1.867\n"
     ]
    },
    {
     "name": "stderr",
     "output_type": "stream",
     "text": [
      "100%|████████████████████████████████████████████| 4096/4096 [00:00<00:00, 5006.41it/s]\n"
     ]
    },
    {
     "name": "stdout",
     "output_type": "stream",
     "text": [
      "Time for phase 3 = 0.943\n",
      "Time for phase 4 = 0.107\n",
      "Time for phase 5 = 13.187\n",
      "Time for phase 6 = 0.014\n",
      "Time for phase 1 = 0.024\n",
      "PCE order = 8\n",
      "Number of samples = 6561\n",
      "Time for phase 2 = 3.065\n"
     ]
    },
    {
     "name": "stderr",
     "output_type": "stream",
     "text": [
      "100%|████████████████████████████████████████████| 6561/6561 [00:01<00:00, 5320.48it/s]\n"
     ]
    },
    {
     "name": "stdout",
     "output_type": "stream",
     "text": [
      "Time for phase 3 = 1.469\n",
      "Time for phase 4 = 0.089\n",
      "Time for phase 5 = 34.744\n",
      "Time for phase 6 = 0.005\n",
      "Time for phase 1 = 0.019\n",
      "PCE order = 9\n",
      "Number of samples = 10000\n",
      "Time for phase 2 = 4.579\n"
     ]
    },
    {
     "name": "stderr",
     "output_type": "stream",
     "text": [
      "100%|██████████████████████████████████████████| 10000/10000 [00:01<00:00, 5055.38it/s]\n"
     ]
    },
    {
     "name": "stdout",
     "output_type": "stream",
     "text": [
      "Time for phase 3 = 2.305\n",
      "Time for phase 4 = 0.256\n",
      "Time for phase 5 = 85.647\n",
      "Time for phase 6 = 0.008\n",
      "Time for phase 1 = 0.016\n",
      "PCE order = 10\n",
      "Number of samples = 14641\n",
      "Time for phase 2 = 7.401\n"
     ]
    },
    {
     "name": "stderr",
     "output_type": "stream",
     "text": [
      "100%|██████████████████████████████████████████| 14641/14641 [00:02<00:00, 5216.68it/s]\n"
     ]
    },
    {
     "name": "stdout",
     "output_type": "stream",
     "text": [
      "Time for phase 3 = 3.314\n",
      "Time for phase 4 = 0.266\n",
      "Time for phase 5 = 169.084\n",
      "Time for phase 6 = 0.009\n"
     ]
    }
   ],
   "source": [
    "# Calculate the polynomial chaos expansion for a range of orders\n",
    "\n",
    "R = {}\n",
    "for pce_order in range(1, 11):\n",
    "    R[pce_order] = {}\n",
    "    (R[pce_order]['results_df'], \n",
    "     R[pce_order]['results'], \n",
    "     R[pce_order]['times'], \n",
    "     R[pce_order]['order'], \n",
    "     R[pce_order]['number_of_samples']) = run_campaign(pce_order=pce_order, use_files=False)"
   ]
  },
  {
   "cell_type": "code",
   "execution_count": 8,
   "metadata": {
    "ExecuteTime": {
     "end_time": "2021-12-10T08:47:01.296719Z",
     "start_time": "2021-12-10T08:47:01.247807Z"
    },
    "code_folding": [
     0
    ]
   },
   "outputs": [],
   "source": [
    "# save the results\n",
    "\n",
    "pickle.dump(R, open('collected_results.pickle','bw'))"
   ]
  },
  {
   "cell_type": "code",
   "execution_count": 9,
   "metadata": {
    "ExecuteTime": {
     "end_time": "2021-12-10T08:47:01.372146Z",
     "start_time": "2021-12-10T08:47:01.297577Z"
    },
    "code_folding": [
     0
    ]
   },
   "outputs": [
    {
     "data": {
      "text/html": [
       "<div>\n",
       "<style scoped>\n",
       "    .dataframe tbody tr th:only-of-type {\n",
       "        vertical-align: middle;\n",
       "    }\n",
       "\n",
       "    .dataframe tbody tr th {\n",
       "        vertical-align: top;\n",
       "    }\n",
       "\n",
       "    .dataframe thead th {\n",
       "        text-align: right;\n",
       "    }\n",
       "</style>\n",
       "<table border=\"1\" class=\"dataframe\">\n",
       "  <thead>\n",
       "    <tr style=\"text-align: right;\">\n",
       "      <th></th>\n",
       "      <th>Total</th>\n",
       "      <th>Phase 1</th>\n",
       "      <th>Phase 2</th>\n",
       "      <th>Phase 3</th>\n",
       "      <th>Phase 4</th>\n",
       "      <th>Phase 5</th>\n",
       "      <th>Phase 6</th>\n",
       "    </tr>\n",
       "  </thead>\n",
       "  <tbody>\n",
       "    <tr>\n",
       "      <th>1</th>\n",
       "      <td>0.206571</td>\n",
       "      <td>0.026080</td>\n",
       "      <td>0.070131</td>\n",
       "      <td>0.020785</td>\n",
       "      <td>0.032049</td>\n",
       "      <td>0.054390</td>\n",
       "      <td>0.002557</td>\n",
       "    </tr>\n",
       "    <tr>\n",
       "      <th>2</th>\n",
       "      <td>0.305832</td>\n",
       "      <td>0.010971</td>\n",
       "      <td>0.124241</td>\n",
       "      <td>0.033282</td>\n",
       "      <td>0.003821</td>\n",
       "      <td>0.132683</td>\n",
       "      <td>0.000605</td>\n",
       "    </tr>\n",
       "    <tr>\n",
       "      <th>3</th>\n",
       "      <td>0.552754</td>\n",
       "      <td>0.007502</td>\n",
       "      <td>0.207028</td>\n",
       "      <td>0.062329</td>\n",
       "      <td>0.005470</td>\n",
       "      <td>0.269407</td>\n",
       "      <td>0.000714</td>\n",
       "    </tr>\n",
       "    <tr>\n",
       "      <th>4</th>\n",
       "      <td>1.240322</td>\n",
       "      <td>0.008090</td>\n",
       "      <td>0.421225</td>\n",
       "      <td>0.142600</td>\n",
       "      <td>0.011607</td>\n",
       "      <td>0.655824</td>\n",
       "      <td>0.000745</td>\n",
       "    </tr>\n",
       "    <tr>\n",
       "      <th>5</th>\n",
       "      <td>3.649108</td>\n",
       "      <td>0.007265</td>\n",
       "      <td>0.773599</td>\n",
       "      <td>0.498296</td>\n",
       "      <td>0.108962</td>\n",
       "      <td>2.258257</td>\n",
       "      <td>0.001887</td>\n",
       "    </tr>\n",
       "    <tr>\n",
       "      <th>6</th>\n",
       "      <td>7.094146</td>\n",
       "      <td>0.018417</td>\n",
       "      <td>1.280857</td>\n",
       "      <td>0.559989</td>\n",
       "      <td>0.092320</td>\n",
       "      <td>5.140118</td>\n",
       "      <td>0.001978</td>\n",
       "    </tr>\n",
       "    <tr>\n",
       "      <th>7</th>\n",
       "      <td>16.133547</td>\n",
       "      <td>0.015276</td>\n",
       "      <td>1.867243</td>\n",
       "      <td>0.943253</td>\n",
       "      <td>0.106865</td>\n",
       "      <td>13.186906</td>\n",
       "      <td>0.013542</td>\n",
       "    </tr>\n",
       "    <tr>\n",
       "      <th>8</th>\n",
       "      <td>39.397349</td>\n",
       "      <td>0.024417</td>\n",
       "      <td>3.064570</td>\n",
       "      <td>1.469353</td>\n",
       "      <td>0.088808</td>\n",
       "      <td>34.744386</td>\n",
       "      <td>0.005351</td>\n",
       "    </tr>\n",
       "    <tr>\n",
       "      <th>9</th>\n",
       "      <td>92.814330</td>\n",
       "      <td>0.019228</td>\n",
       "      <td>4.578781</td>\n",
       "      <td>2.305010</td>\n",
       "      <td>0.255850</td>\n",
       "      <td>85.646646</td>\n",
       "      <td>0.008496</td>\n",
       "    </tr>\n",
       "    <tr>\n",
       "      <th>10</th>\n",
       "      <td>180.090970</td>\n",
       "      <td>0.015762</td>\n",
       "      <td>7.400623</td>\n",
       "      <td>3.313908</td>\n",
       "      <td>0.265976</td>\n",
       "      <td>169.084253</td>\n",
       "      <td>0.009452</td>\n",
       "    </tr>\n",
       "  </tbody>\n",
       "</table>\n",
       "</div>"
      ],
      "text/plain": [
       "         Total   Phase 1   Phase 2   Phase 3   Phase 4     Phase 5   Phase 6\n",
       "1     0.206571  0.026080  0.070131  0.020785  0.032049    0.054390  0.002557\n",
       "2     0.305832  0.010971  0.124241  0.033282  0.003821    0.132683  0.000605\n",
       "3     0.552754  0.007502  0.207028  0.062329  0.005470    0.269407  0.000714\n",
       "4     1.240322  0.008090  0.421225  0.142600  0.011607    0.655824  0.000745\n",
       "5     3.649108  0.007265  0.773599  0.498296  0.108962    2.258257  0.001887\n",
       "6     7.094146  0.018417  1.280857  0.559989  0.092320    5.140118  0.001978\n",
       "7    16.133547  0.015276  1.867243  0.943253  0.106865   13.186906  0.013542\n",
       "8    39.397349  0.024417  3.064570  1.469353  0.088808   34.744386  0.005351\n",
       "9    92.814330  0.019228  4.578781  2.305010  0.255850   85.646646  0.008496\n",
       "10  180.090970  0.015762  7.400623  3.313908  0.265976  169.084253  0.009452"
      ]
     },
     "metadata": {},
     "output_type": "display_data"
    }
   ],
   "source": [
    "# produce a table of the time taken for various phases\n",
    "# the phases are:\n",
    "#   1: creation of campaign\n",
    "#   2: creation of samples\n",
    "#   3: running the cases\n",
    "#   4: calculation of statistics including Sobols\n",
    "#   5: returning of analysed results\n",
    "#   6: saving campaign and pickled results\n",
    "\n",
    "Timings = pd.DataFrame(np.array([R[r]['times'] for r in list(R.keys())]), \n",
    "             columns=['Total', 'Phase 1', 'Phase 2', 'Phase 3', 'Phase 4', 'Phase 5', 'Phase 6'], \n",
    "             index=[R[r]['order'] for r in list(R.keys())])\n",
    "Timings.to_csv(open('Timings.csv', 'w'))\n",
    "display(Timings)"
   ]
  },
  {
   "cell_type": "code",
   "execution_count": 10,
   "metadata": {
    "ExecuteTime": {
     "end_time": "2021-12-10T08:47:01.538700Z",
     "start_time": "2021-12-10T08:47:01.372805Z"
    }
   },
   "outputs": [
    {
     "name": "stderr",
     "output_type": "stream",
     "text": [
      "/Volumes/Samsung8TB/dpc/GIT/EasyVVUQ/env/lib/python3.9/site-packages/easyvvuq-1.1+0.g6b4d4dda.dirty-py3.9.egg/easyvvuq/analysis/results.py:417: UserWarning: Matplotlib is currently using module://matplotlib_inline.backend_inline, which is a non-GUI backend, so cannot show the figure.\n",
      "  fig.show()\n"
     ]
    },
    {
     "data": {
      "image/png": "[encoded data removed]",
      "text/plain": [
       "<Figure size 720x720 with 1 Axes>"
      ]
     },
     "metadata": {
      "needs_background": "light"
     },
     "output_type": "display_data"
    }
   ],
   "source": [
    "R[10]['results'].plot_sobols_treemap('Ishigami')"
   ]
  },
  {
   "cell_type": "code",
   "execution_count": 11,
   "metadata": {
    "ExecuteTime": {
     "end_time": "2021-12-10T08:47:01.542229Z",
     "start_time": "2021-12-10T08:47:01.539399Z"
    }
   },
   "outputs": [
    {
     "data": {
      "text/plain": [
       "({'Ishigami': {'x1': array([0.03817368]),\n",
       "   'x2': array([0.05380603]),\n",
       "   'x3': array([1.60762508e-29]),\n",
       "   'N': array([0.87838626])}},\n",
       " {'Ishigami': {'x1': array([0.06780771]),\n",
       "   'x2': array([0.05380603]),\n",
       "   'x3': array([0.02963403]),\n",
       "   'N': array([0.87838626])}})"
      ]
     },
     "execution_count": 11,
     "metadata": {},
     "output_type": "execute_result"
    }
   ],
   "source": [
    "R[10]['results'].sobols_first(), R[10]['results'].sobols_total()"
   ]
  },
  {
   "cell_type": "code",
   "execution_count": 12,
   "metadata": {
    "ExecuteTime": {
     "end_time": "2021-12-10T08:47:02.215700Z",
     "start_time": "2021-12-10T08:47:01.542892Z"
    },
    "code_folding": []
   },
   "outputs": [
    {
     "data": {
      "image/png": "[encoded data removed]",
      "text/plain": [
       "<Figure size 432x288 with 1 Axes>"
      ]
     },
     "metadata": {
      "needs_background": "light"
     },
     "output_type": "display_data"
    }
   ],
   "source": [
    "# plot the convergence of the mean and standard deviation to the analytic result\n",
    "\n",
    "mean_analytic = exact['expectation']\n",
    "std_analytic = np.sqrt(exact['variance'])\n",
    "\n",
    "O = [R[r]['order'] for r in list(R.keys())]\n",
    "plt.figure()\n",
    "plt.semilogy([o for o in O], \n",
    "             [np.abs(R[o]['results'].describe('Ishigami', 'mean') - mean_analytic) for o in O],\n",
    "             'o-', label='mean')\n",
    "plt.semilogy([o for o in O], \n",
    "             [np.abs(R[o]['results'].describe('Ishigami', 'std') - std_analytic) for o in O],\n",
    "             'o-', label='std')\n",
    "plt.xlabel('PCE order')\n",
    "plt.ylabel('RMSerror compared to analytic')\n",
    "plt.legend(loc=0)\n",
    "plt.savefig('Convergence_mean_std.png')\n",
    "plt.savefig('Convergence_mean_std.pdf')"
   ]
  },
  {
   "cell_type": "code",
   "execution_count": 13,
   "metadata": {
    "ExecuteTime": {
     "end_time": "2021-12-10T08:47:02.475338Z",
     "start_time": "2021-12-10T08:47:02.216434Z"
    },
    "code_folding": [
     0
    ]
   },
   "outputs": [
    {
     "data": {
      "image/png": "[encoded data removed]",
      "text/plain": [
       "<Figure size 432x288 with 1 Axes>"
      ]
     },
     "metadata": {
      "needs_background": "light"
     },
     "output_type": "display_data"
    }
   ],
   "source": [
    "# plot the first Sobols as a function of PCE order\n",
    "O = [R[r]['order'] for r in list(R.keys())]\n",
    "plt.figure()\n",
    "for v in list(R[O[0]]['results'].sobols_first('Ishigami').keys()):\n",
    "    plt.semilogy([o for o in O],\n",
    "                 [R[o]['results'].sobols_first('Ishigami')[v] for o in O],\n",
    "                 'o-',\n",
    "                 label=v)\n",
    "plt.xlabel('PCE order')\n",
    "plt.ylabel('1st sobol')\n",
    "plt.ylim(1e-2,10)\n",
    "plt.legend(loc=0)\n",
    "plt.savefig('Convergence_sobol_first.png')\n",
    "plt.savefig('Convergence_sobol_first.pdf')"
   ]
  },
  {
   "cell_type": "code",
   "execution_count": 14,
   "metadata": {
    "ExecuteTime": {
     "end_time": "2021-12-10T08:47:02.735073Z",
     "start_time": "2021-12-10T08:47:02.477460Z"
    },
    "code_folding": [
     0
    ]
   },
   "outputs": [
    {
     "data": {
      "image/png": "[encoded data removed]",
      "text/plain": [
       "<Figure size 432x288 with 1 Axes>"
      ]
     },
     "metadata": {
      "needs_background": "light"
     },
     "output_type": "display_data"
    }
   ],
   "source": [
    "# plot the total Sobols as a function of PCE order\n",
    "O = [R[r]['order'] for r in list(R.keys())]\n",
    "plt.figure()\n",
    "for v in list(R[O[0]]['results'].sobols_total('Ishigami').keys()):\n",
    "    plt.semilogy([o for o in O],\n",
    "                 [R[o]['results'].sobols_total('Ishigami')[v] for o in O],\n",
    "                 'o-',\n",
    "                 label=v)\n",
    "plt.xlabel('PCE order')\n",
    "plt.ylabel('total sobol')\n",
    "plt.ylim(1e-2,10)\n",
    "plt.legend(loc=0)\n",
    "plt.savefig('Convergence_sobol_total.png')\n",
    "plt.savefig('Convergence_sobol_total.pdf')"
   ]
  },
  {
   "cell_type": "code",
   "execution_count": 15,
   "metadata": {
    "ExecuteTime": {
     "end_time": "2021-12-10T08:47:02.943687Z",
     "start_time": "2021-12-10T08:47:02.735811Z"
    },
    "code_folding": []
   },
   "outputs": [
    {
     "data": {
      "image/png": "[encoded data removed]",
      "text/plain": [
       "<Figure size 432x288 with 1 Axes>"
      ]
     },
     "metadata": {
      "needs_background": "light"
     },
     "output_type": "display_data"
    }
   ],
   "source": [
    "# plot the distribution function\n",
    "\n",
    "results_df = R[O[-1]]['results_df']\n",
    "results = R[O[-1]]['results']\n",
    "Ishigami_dist = results.raw_data['output_distributions']['Ishigami']\n",
    "\n",
    "plt.figure()\n",
    "plt.hist(results_df.Ishigami[0], density=True, bins=50, label='histogram of raw samples', alpha=0.25)\n",
    "if hasattr(Ishigami_dist, 'samples'):\n",
    "    plt.hist(Ishigami_dist.samples[0], density=True, bins=50, label='histogram of kde samples', alpha=0.25)\n",
    "t1 = Ishigami_dist[0]\n",
    "plt.plot(np.linspace(t1.lower, t1.upper), t1.pdf(np.linspace(t1.lower, t1.upper)), label='PDF')\n",
    "plt.legend(loc=0)\n",
    "plt.xlabel('Ishigami')\n",
    "plt.savefig('Ishigami_distribution_function.png')"
   ]
  },
  {
   "cell_type": "code",
   "execution_count": 21,
   "metadata": {
    "ExecuteTime": {
     "end_time": "2021-12-10T18:01:30.914454Z",
     "start_time": "2021-12-10T18:01:30.761815Z"
    }
   },
   "outputs": [
    {
     "data": {
      "text/plain": [
       "0       -52.525277\n",
       "1       -40.006931\n",
       "2       -29.296497\n",
       "3       -19.405615\n",
       "4        -9.933955\n",
       "           ...    \n",
       "14636     9.999347\n",
       "14637    19.471007\n",
       "14638    29.361888\n",
       "14639    40.072323\n",
       "14640    52.590669\n",
       "Name: 0, Length: 14641, dtype: float64"
      ]
     },
     "execution_count": 21,
     "metadata": {},
     "output_type": "execute_result"
    }
   ],
   "source": [
    "results_df.Ishigami[0]"
   ]
  },
  {
   "cell_type": "code",
   "execution_count": 17,
   "metadata": {
    "ExecuteTime": {
     "end_time": "2021-12-10T08:47:03.625057Z",
     "start_time": "2021-12-10T08:47:02.949261Z"
    },
    "code_folding": [
     0
    ]
   },
   "outputs": [
    {
     "data": {
      "image/png": "[encoded data removed]",
      "text/plain": [
       "<Figure size 432x288 with 1 Axes>"
      ]
     },
     "metadata": {
      "needs_background": "light"
     },
     "output_type": "display_data"
    }
   ],
   "source": [
    "# plot the RMS surrogate error at the PCE sample points\n",
    "_o = []\n",
    "_RMS = []\n",
    "for r in R.values():\n",
    "    results_df = r['results_df']\n",
    "    results = r['results']\n",
    "    Ishigami_surrogate = np.squeeze(np.array(results.surrogate()(results_df[results.inputs])['Ishigami']))\n",
    "    Ishigami_samples = np.squeeze(np.array(results_df['Ishigami']))\n",
    "    _RMS.append((np.sqrt((((Ishigami_surrogate - Ishigami_samples))**2).mean())))\n",
    "    _o.append(r['order'])\n",
    "\n",
    "plt.figure()\n",
    "plt.semilogy(_o, _RMS, 'o-')\n",
    "plt.xlabel('PCE order')\n",
    "plt.ylabel('RMS error for the PCE surrogate')\n",
    "plt.legend(loc=0)\n",
    "plt.savefig('Convergence_surrogate.png')\n",
    "plt.savefig('Convergence_surrogate.pdf')"
   ]
  },
  {
   "cell_type": "code",
   "execution_count": 18,
   "metadata": {
    "ExecuteTime": {
     "end_time": "2021-12-10T08:47:04.695307Z",
     "start_time": "2021-12-10T08:47:03.625838Z"
    },
    "code_folding": [
     0
    ]
   },
   "outputs": [
    {
     "name": "stderr",
     "output_type": "stream",
     "text": [
      "100%|████████████████████████████████████████████| 1000/1000 [00:00<00:00, 5315.98it/s]\n"
     ]
    }
   ],
   "source": [
    "# prepare the test data\n",
    "test_campaign = uq.Campaign(name='Ishigami.')        \n",
    "test_campaign.add_app(name=\"Ishigami\", params=define_params(), \n",
    "                      actions=uq.actions.Actions(uq.actions.ExecutePython(run_ishigami_model)))\n",
    "test_campaign.set_sampler(uq.sampling.quasirandom.LHCSampler(vary=define_vary(), count=100))\n",
    "test_campaign.execute(nsamples=1000, sequential=True).collate(progress_bar=True)\n",
    "test_df = test_campaign.get_collation_result()"
   ]
  },
  {
   "cell_type": "code",
   "execution_count": 19,
   "metadata": {
    "ExecuteTime": {
     "end_time": "2021-12-10T08:47:04.774788Z",
     "start_time": "2021-12-10T08:47:04.696114Z"
    },
    "code_folding": [
     0
    ]
   },
   "outputs": [],
   "source": [
    "# calculate the PCE surrogates\n",
    "test_points = test_df[test_campaign.get_active_sampler().vary.get_keys()]\n",
    "test_results = np.squeeze(test_df['Ishigami'].values)\n",
    "test_predictions = {}\n",
    "for i in list(R.keys()):\n",
    "    test_predictions[i] = np.squeeze(np.array(R[i]['results'].surrogate()(test_points)['Ishigami']))"
   ]
  },
  {
   "cell_type": "code",
   "execution_count": 20,
   "metadata": {
    "ExecuteTime": {
     "end_time": "2021-12-10T08:47:05.019483Z",
     "start_time": "2021-12-10T08:47:04.775561Z"
    },
    "code_folding": [
     0
    ]
   },
   "outputs": [
    {
     "data": {
      "image/png": "[encoded data removed]",
      "text/plain": [
       "<Figure size 432x288 with 1 Axes>"
      ]
     },
     "metadata": {
      "needs_background": "light"
     },
     "output_type": "display_data"
    }
   ],
   "source": [
    "# plot the convergence of the surrogate\n",
    "_o = []\n",
    "_RMS = []\n",
    "for r in R.values():\n",
    "    _RMS.append((np.sqrt((((test_predictions[r['order']] - test_results))**2).mean())))\n",
    "    _o.append(r['order'])\n",
    "\n",
    "plt.figure()\n",
    "plt.semilogy(_o, _RMS, 'o-')\n",
    "plt.xlabel('PCE order')\n",
    "plt.ylabel('RMS error for the PCE surrogate')\n",
    "plt.legend(loc=0)\n",
    "plt.savefig('Convergence_PCE_surrogate.png')\n",
    "plt.savefig('Convergence_PCE_surrogate.pdf')"
   ]
  },
  {
   "cell_type": "code",
   "execution_count": null,
   "metadata": {},
   "outputs": [],
   "source": []
  }
 ],
 "metadata": {
  "jupytext": {
   "cell_metadata_filter": "-all",
   "executable": " /usr/bin/env python",
   "main_language": "python",
   "notebook_metadata_filter": "-all"
  },
  "kernelspec": {
   "display_name": "Python 3 (ipykernel)",
   "language": "python",
   "name": "python3"
  },
  "language_info": {
   "codemirror_mode": {
    "name": "ipython",
    "version": 3
   },
   "file_extension": ".py",
   "mimetype": "text/x-python",
   "name": "python",
   "nbconvert_exporter": "python",
   "pygments_lexer": "ipython3",
   "version": "3.9.1"
  },
  "latex_envs": {
   "LaTeX_envs_menu_present": true,
   "autoclose": false,
   "autocomplete": true,
   "bibliofile": "biblio.bib",
   "cite_by": "apalike",
   "current_citInitial": 1,
   "eqLabelWithNumbers": true,
   "eqNumInitial": 1,
   "hotkeys": {
    "equation": "Ctrl-E",
    "itemize": "Ctrl-I"
   },
   "labels_anchors": false,
   "latex_user_defs": false,
   "report_style_numbering": false,
   "user_envs_cfg": false
  }
 },
 "nbformat": 4,
 "nbformat_minor": 4
}
