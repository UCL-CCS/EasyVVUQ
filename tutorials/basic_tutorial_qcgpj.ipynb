{
 "cells": [
  {
   "cell_type": "markdown",
   "metadata": {},
   "source": [
    "# Running EasyVVUQ on HPC resources with QCG-PilotJob"
   ]
  },
  {
   "cell_type": "markdown",
   "metadata": {},
   "source": [
    "**Author**: Bartosz Bosak, PSNC (bbosak@man.poznan.pl)"
   ]
  },
  {
   "cell_type": "markdown",
   "metadata": {},
   "source": [
    "If this is your first Jupyter Notebook - you can execute code cells by selecting them and pressing ```Shift+Enter```. Just have in mind that the order of execution might matter (if later cells depend on things done in earlier ones)."
   ]
  },
  {
   "attachments": {},
   "cell_type": "markdown",
   "metadata": {},
   "source": [
    "As defined in the [VECMA glossary](https://wiki.vecma.eu/glossary), uncertainty quantification UQ is a “discipline, which seeks to estimate the \n",
    "uncertainty in the model input and output parameters, to analyse the sources of these uncertainties, \n",
    "and to reduce their quantities.” However, this process can quickly become cumbersome because just \n",
    "a few uncertain inputs could require hundreds or even thousands of samples. If a single sample is a demanding simulation, such as the number of tasks that cannot be performed effectively without (1) adequate \n",
    "computational resources, (2) a dedicated approach and (3) specialised programming solutions. \n",
    "\n",
    "EasyVVUQ has been designed as a modular software that can benefit from the solutions providing\n",
    "advanced capabilities for the execution of demanding operations on computational resources. One such solution is [QCG-PilotJob](https://qcg-pilotjob.readthedocs.io)](https://qcg-pilotjob.readthedocs.io), which allows to efficiently run a number of tasks inside a single large allocation on a Slurm cluster.\n",
    "\n",
    "In this tutorial, based on the scenario presented in the basic tutorial, we demonstrate how EasyVVUQ workflows \n",
    "can be adapted to enable their executions with QCG-PilotJob on HPC machines. \n",
    "As it will be shown the adaptation is quite easy.   "
   ]
  },
  {
   "cell_type": "markdown",
   "metadata": {},
   "source": [
    "## Prerequisites\n",
    "You need to have EasyVVUQ installed in your environment. There is no need to install QCG-PilotJob's packages separately since they are installed as EasyVVUQ's dependencies. "
   ]
  },
  {
   "cell_type": "code",
   "execution_count": 3,
   "metadata": {},
   "outputs": [
    {
     "name": "stdout",
     "output_type": "stream",
     "text": [
      "Collecting easyvvuq\n",
      "  Using cached easyvvuq-1.0-py3-none-any.whl (199 kB)\n",
      "Collecting chaospy==4.3.2\n",
      "  Using cached chaospy-4.3.2-py3-none-any.whl (247 kB)\n",
      "Collecting scikit-learn\n",
      "  Using cached scikit_learn-0.24.2-cp37-cp37m-manylinux2010_x86_64.whl (22.3 MB)\n",
      "Collecting kubernetes\n",
      "  Using cached kubernetes-17.17.0-py3-none-any.whl (1.8 MB)\n",
      "Requirement already satisfied: qcg-pilotjob~=0.12.0 in /opt/conda/lib/python3.7/site-packages (from easyvvuq) (0.12.1+4.g46d0d03)\n",
      "Collecting numpoly==1.1.3\n",
      "  Using cached numpoly-1.1.3-py3-none-any.whl (138 kB)\n",
      "Collecting dill\n",
      "  Using cached dill-0.3.4-py2.py3-none-any.whl (86 kB)\n",
      "Collecting dask-jobqueue\n",
      "  Using cached dask_jobqueue-0.7.2-py2.py3-none-any.whl (39 kB)\n",
      "Processing /home/jovyan/.cache/pip/wheels/b1/f5/ee/9c072cedde5286a5f4b27e07269ad83a67878ff249794c8c97/pytest_pep8-1.0.6-py3-none-any.whl\n",
      "Requirement already satisfied: SQLAlchemy in /opt/conda/lib/python3.7/site-packages (from easyvvuq) (1.3.13)\n",
      "Processing /home/jovyan/.cache/pip/wheels/6c/bd/4b/a3b7dcd0bc718e601a9ba7cba5f7c1d73fd777b6dc48d6eaa0/Cerberus-1.3.4-py3-none-any.whl\n",
      "Processing /home/jovyan/.cache/pip/wheels/7e/72/eb/c96a0b4b22f42d092914ba8fe7b4c639443ef02b529dbbefcf/pytest_dependency-0.5.1-py3-none-any.whl\n",
      "Collecting pytest-benchmark\n",
      "  Using cached pytest_benchmark-3.4.1-py2.py3-none-any.whl (50 kB)\n",
      "Collecting pandas\n",
      "  Using cached pandas-1.3.0-cp37-cp37m-manylinux_2_5_x86_64.manylinux1_x86_64.whl (10.8 MB)\n",
      "Collecting autopep8\n",
      "  Using cached autopep8-1.5.7-py2.py3-none-any.whl (45 kB)\n",
      "Collecting squarify\n",
      "  Using cached squarify-0.4.3-py3-none-any.whl (4.3 kB)\n",
      "Collecting scipy\n",
      "  Using cached scipy-1.7.0-cp37-cp37m-manylinux_2_5_x86_64.manylinux1_x86_64.whl (28.5 MB)\n",
      "Requirement already satisfied: tqdm in /opt/conda/lib/python3.7/site-packages (from easyvvuq) (4.42.0)\n",
      "Requirement already satisfied: jinja2 in /opt/conda/lib/python3.7/site-packages (from easyvvuq) (2.11.0)\n",
      "Collecting qcg-pilotjob-executor-api~=0.12.0\n",
      "  Using cached qcg_pilotjob_executor_api-0.12.1-py3-none-any.whl (7.0 kB)\n",
      "Collecting numpy\n",
      "  Using cached numpy-1.21.0-cp37-cp37m-manylinux_2_12_x86_64.manylinux2010_x86_64.whl (15.7 MB)\n",
      "Requirement already satisfied: wheel in /opt/conda/lib/python3.7/site-packages (from easyvvuq) (0.34.1)\n",
      "Collecting dask[complete]\n",
      "  Using cached dask-2021.7.0-py3-none-any.whl (977 kB)\n",
      "Collecting pytest\n",
      "  Using cached pytest-6.2.4-py3-none-any.whl (280 kB)\n",
      "Collecting cloudpickle\n",
      "  Using cached cloudpickle-1.6.0-py3-none-any.whl (23 kB)\n",
      "Processing /home/jovyan/.cache/pip/wheels/24/21/f7/50d0bf40bf7980c92b63c7108d801fdaaef5374de63454f921/SALib-1.4.0.2-py2.py3-none-any.whl\n",
      "Collecting joblib>=0.11\n",
      "  Using cached joblib-1.0.1-py3-none-any.whl (303 kB)\n",
      "Collecting threadpoolctl>=2.0.0\n",
      "  Using cached threadpoolctl-2.2.0-py3-none-any.whl (12 kB)\n",
      "Collecting websocket-client!=0.40.0,!=0.41.*,!=0.42.*,>=0.32.0\n",
      "  Using cached websocket_client-1.1.0-py2.py3-none-any.whl (68 kB)\n",
      "Requirement already satisfied: setuptools>=21.0.0 in /opt/conda/lib/python3.7/site-packages (from kubernetes->easyvvuq) (45.1.0.post20200119)\n",
      "Requirement already satisfied: six>=1.9.0 in /opt/conda/lib/python3.7/site-packages (from kubernetes->easyvvuq) (1.14.0)\n",
      "Requirement already satisfied: certifi>=14.05.14 in /opt/conda/lib/python3.7/site-packages (from kubernetes->easyvvuq) (2019.11.28)\n",
      "Requirement already satisfied: urllib3>=1.24.2 in /opt/conda/lib/python3.7/site-packages (from kubernetes->easyvvuq) (1.25.7)\n",
      "Requirement already satisfied: requests in /opt/conda/lib/python3.7/site-packages (from kubernetes->easyvvuq) (2.22.0)\n",
      "Collecting pyyaml>=3.12\n",
      "  Using cached PyYAML-5.4.1-cp37-cp37m-manylinux1_x86_64.whl (636 kB)\n",
      "Collecting requests-oauthlib\n",
      "  Using cached requests_oauthlib-1.3.0-py2.py3-none-any.whl (23 kB)\n",
      "Collecting google-auth>=1.0.1\n",
      "  Downloading google_auth-1.33.0-py2.py3-none-any.whl (151 kB)\n",
      "\u001b[K     |████████████████████████████████| 151 kB 2.8 MB/s eta 0:00:01\n",
      "\u001b[?25hRequirement already satisfied: python-dateutil>=2.5.3 in /opt/conda/lib/python3.7/site-packages (from kubernetes->easyvvuq) (2.8.1)\n",
      "Requirement already satisfied: click in /opt/conda/lib/python3.7/site-packages (from qcg-pilotjob~=0.12.0->easyvvuq) (8.0.1)\n",
      "Requirement already satisfied: zmq in /opt/conda/lib/python3.7/site-packages (from qcg-pilotjob~=0.12.0->easyvvuq) (0.0.0)\n",
      "Requirement already satisfied: psutil in /opt/conda/lib/python3.7/site-packages (from qcg-pilotjob~=0.12.0->easyvvuq) (5.8.0)\n",
      "Collecting distributed>=2.19\n",
      "  Using cached distributed-2021.7.0-py3-none-any.whl (1.0 MB)\n",
      "Collecting pep8>=1.3\n",
      "  Using cached pep8-1.7.1-py2.py3-none-any.whl (41 kB)\n",
      "Processing /home/jovyan/.cache/pip/wheels/76/fb/36/4304dce3f49d3aecf92d63f079db516641a8061a83a0b5a292/pytest_cache-1.0-py3-none-any.whl\n",
      "Processing /home/jovyan/.cache/pip/wheels/d2/f1/1f/041add21dc9c4220157f1bd2bd6afe1f1a49524c3396b94401/py_cpuinfo-8.0.0-py3-none-any.whl\n",
      "Collecting pytz>=2017.3\n",
      "  Using cached pytz-2021.1-py2.py3-none-any.whl (510 kB)\n",
      "Collecting pycodestyle>=2.7.0\n",
      "  Using cached pycodestyle-2.7.0-py2.py3-none-any.whl (41 kB)\n",
      "Collecting toml\n",
      "  Using cached toml-0.10.2-py2.py3-none-any.whl (16 kB)\n",
      "Requirement already satisfied: MarkupSafe>=0.23 in /opt/conda/lib/python3.7/site-packages (from jinja2->easyvvuq) (1.1.1)\n",
      "Collecting fsspec>=0.6.0\n",
      "  Using cached fsspec-2021.7.0-py3-none-any.whl (118 kB)\n",
      "Collecting partd>=0.3.10\n",
      "  Using cached partd-1.2.0-py3-none-any.whl (19 kB)\n",
      "Collecting toolz>=0.8.2\n",
      "  Using cached toolz-0.11.1-py3-none-any.whl (55 kB)\n",
      "Processing /home/jovyan/.cache/pip/wheels/57/e3/79/051e58e8a3d9076de99bdd7d68d463289e28c18329933984ff/bokeh-2.3.3-py3-none-any.whl\n",
      "Requirement already satisfied: attrs>=19.2.0 in /opt/conda/lib/python3.7/site-packages (from pytest->easyvvuq) (19.3.0)\n",
      "Collecting iniconfig\n",
      "  Using cached iniconfig-1.1.1-py2.py3-none-any.whl (5.0 kB)\n",
      "Collecting pluggy<1.0.0a1,>=0.12\n",
      "  Using cached pluggy-0.13.1-py2.py3-none-any.whl (18 kB)\n",
      "Requirement already satisfied: importlib-metadata>=0.12; python_version < \"3.8\" in /opt/conda/lib/python3.7/site-packages (from pytest->easyvvuq) (4.6.1)\n",
      "Collecting packaging\n",
      "  Using cached packaging-21.0-py3-none-any.whl (40 kB)\n",
      "Collecting py>=1.8.2\n",
      "  Using cached py-1.10.0-py2.py3-none-any.whl (97 kB)\n",
      "Collecting matplotlib\n",
      "  Using cached matplotlib-3.4.2-cp37-cp37m-manylinux1_x86_64.whl (10.3 MB)\n",
      "Collecting pathos\n",
      "  Using cached pathos-0.2.8-py2.py3-none-any.whl (81 kB)\n",
      "Requirement already satisfied: chardet<3.1.0,>=3.0.2 in /opt/conda/lib/python3.7/site-packages (from requests->kubernetes->easyvvuq) (3.0.4)\n",
      "Requirement already satisfied: idna<2.9,>=2.5 in /opt/conda/lib/python3.7/site-packages (from requests->kubernetes->easyvvuq) (2.8)\n",
      "Requirement already satisfied: oauthlib>=3.0.0 in /opt/conda/lib/python3.7/site-packages (from requests-oauthlib->kubernetes->easyvvuq) (3.0.1)\n",
      "Collecting pyasn1-modules>=0.2.1\n",
      "  Using cached pyasn1_modules-0.2.8-py2.py3-none-any.whl (155 kB)\n",
      "Collecting cachetools<5.0,>=2.0.0\n",
      "  Using cached cachetools-4.2.2-py3-none-any.whl (11 kB)\n",
      "Collecting rsa<5,>=3.1.4; python_version >= \"3.6\"\n",
      "  Using cached rsa-4.7.2-py3-none-any.whl (34 kB)\n",
      "Requirement already satisfied: pyzmq in /opt/conda/lib/python3.7/site-packages (from zmq->qcg-pilotjob~=0.12.0->easyvvuq) (22.1.0)\n",
      "Requirement already satisfied: tornado>=5; python_version < \"3.8\" in /opt/conda/lib/python3.7/site-packages (from distributed>=2.19->dask-jobqueue->easyvvuq) (6.0.3)\n",
      "Collecting zict>=0.1.3\n",
      "  Using cached zict-2.0.0-py3-none-any.whl (10 kB)\n",
      "Collecting msgpack>=0.6.0\n",
      "  Using cached msgpack-1.0.2-cp37-cp37m-manylinux1_x86_64.whl (273 kB)\n",
      "Collecting sortedcontainers!=2.0.0,!=2.0.1\n",
      "  Using cached sortedcontainers-2.4.0-py2.py3-none-any.whl (29 kB)\n",
      "Collecting tblib>=1.6.0\n",
      "  Using cached tblib-1.7.0-py2.py3-none-any.whl (12 kB)\n",
      "Collecting execnet>=1.1.dev1\n",
      "  Using cached execnet-1.9.0-py2.py3-none-any.whl (39 kB)\n",
      "Collecting locket\n",
      "  Using cached locket-0.2.1-py2.py3-none-any.whl (4.1 kB)\n",
      "Collecting pillow>=7.1.0\n",
      "  Using cached Pillow-8.3.1-cp37-cp37m-manylinux_2_5_x86_64.manylinux1_x86_64.whl (3.0 MB)\n",
      "Requirement already satisfied: typing-extensions>=3.7.4 in /opt/conda/lib/python3.7/site-packages (from bokeh!=2.0.0,>=1.0.0; extra == \"complete\"->dask[complete]->easyvvuq) (3.10.0.0)\n",
      "Requirement already satisfied: zipp>=0.5 in /opt/conda/lib/python3.7/site-packages (from importlib-metadata>=0.12; python_version < \"3.8\"->pytest->easyvvuq) (3.5.0)\n",
      "Collecting pyparsing>=2.0.2\n",
      "  Using cached pyparsing-2.4.7-py2.py3-none-any.whl (67 kB)\n",
      "Collecting cycler>=0.10\n",
      "  Using cached cycler-0.10.0-py2.py3-none-any.whl (6.5 kB)\n",
      "Collecting kiwisolver>=1.0.1\n",
      "  Using cached kiwisolver-1.3.1-cp37-cp37m-manylinux1_x86_64.whl (1.1 MB)\n",
      "Collecting ppft>=1.6.6.4\n",
      "  Using cached ppft-1.6.6.4-py3-none-any.whl (65 kB)\n",
      "Collecting pox>=0.3.0\n",
      "  Using cached pox-0.3.0-py2.py3-none-any.whl (30 kB)\n",
      "Collecting multiprocess>=0.70.12\n",
      "  Using cached multiprocess-0.70.12.2-py37-none-any.whl (112 kB)\n",
      "Collecting pyasn1<0.5.0,>=0.4.6\n",
      "  Using cached pyasn1-0.4.8-py2.py3-none-any.whl (77 kB)\n",
      "Collecting heapdict\n",
      "  Using cached HeapDict-1.0.1-py3-none-any.whl (3.9 kB)\n",
      "Installing collected packages: numpy, scipy, numpoly, chaospy, joblib, threadpoolctl, scikit-learn, websocket-client, pyyaml, requests-oauthlib, pyasn1, pyasn1-modules, cachetools, rsa, google-auth, kubernetes, dill, heapdict, zict, msgpack, sortedcontainers, tblib, toolz, cloudpickle, fsspec, locket, partd, pytz, pandas, pillow, pyparsing, packaging, bokeh, dask, distributed, dask-jobqueue, pep8, iniconfig, pluggy, py, toml, pytest, execnet, pytest-cache, pytest-pep8, cerberus, pytest-dependency, py-cpuinfo, pytest-benchmark, pycodestyle, autopep8, squarify, qcg-pilotjob-executor-api, cycler, kiwisolver, matplotlib, ppft, pox, multiprocess, pathos, SALib, easyvvuq\n",
      "Successfully installed SALib-1.4.0.2 autopep8-1.5.7 bokeh-2.3.3 cachetools-4.2.2 cerberus-1.3.4 chaospy-4.3.2 cloudpickle-1.6.0 cycler-0.10.0 dask-2021.7.0 dask-jobqueue-0.7.2 dill-0.3.4 distributed-2021.7.0 easyvvuq-1.0 execnet-1.9.0 fsspec-2021.7.0 google-auth-1.33.0 heapdict-1.0.1 iniconfig-1.1.1 joblib-1.0.1 kiwisolver-1.3.1 kubernetes-17.17.0 locket-0.2.1 matplotlib-3.4.2 msgpack-1.0.2 multiprocess-0.70.12.2 numpoly-1.1.3 numpy-1.21.0 packaging-21.0 pandas-1.3.0 partd-1.2.0 pathos-0.2.8 pep8-1.7.1 pillow-8.3.1 pluggy-0.13.1 pox-0.3.0 ppft-1.6.6.4 py-1.10.0 py-cpuinfo-8.0.0 pyasn1-0.4.8 pyasn1-modules-0.2.8 pycodestyle-2.7.0 pyparsing-2.4.7 pytest-6.2.4 pytest-benchmark-3.4.1 pytest-cache-1.0 pytest-dependency-0.5.1 pytest-pep8-1.0.6 pytz-2021.1 pyyaml-5.4.1 qcg-pilotjob-executor-api-0.12.1 requests-oauthlib-1.3.0 rsa-4.7.2 scikit-learn-0.24.2 scipy-1.7.0 sortedcontainers-2.4.0 squarify-0.4.3 tblib-1.7.0 threadpoolctl-2.2.0 toml-0.10.2 toolz-0.11.1 websocket-client-1.1.0 zict-2.0.0\n",
      "Note: you may need to restart the kernel to use updated packages.\n"
     ]
    }
   ],
   "source": [
    "pip install easyvvuq"
   ]
  },
  {
   "attachments": {},
   "cell_type": "markdown",
   "metadata": {},
   "source": [
    "## Application scenario\n",
    "Let's remind the basic use case. It is a simulation of a vertical deflection of a round metal \n",
    "tube suspended on each end in response to a force applied at certain point ```a``` along its length. \n",
    "Our goal is to determine the influence of the input parameters on the vertical deflection at point ```a```."
   ]
  },
  {
   "attachments": {},
   "cell_type": "markdown",
   "metadata": {},
   "source": [
    "The usage of the application is:\n",
    "\n",
    "```beam <input_file>```\n",
    "\n",
    "It outputs calculated displacements to a file called `output.json`. Its content will look like \n",
    "\n",
    "```{'g1': x, 'g2': y, 'g3': y}```\n",
    "\n",
    "To produce statistically significant results, EasyVVUQ needs to run several model evaluations\n",
    "appropriately selecting input arguments from a given sample parameter space. \n",
    "Once selected, input parameters need to be transformed into a format understandable by the application. \n",
    "Our application takes a single file as an input and the transformation may be based on a single template file,\n",
    "called `beam.template`, with the following content:\n",
    "\n",
    "```{\"outfile\": \"$outfile\", \"F\": $F, \"L\": $L, \"a\": $a, \"D\": $D, \"d\": $d, \"E\": $E}```\n",
    "\n",
    "The template will be used to generate files called `input.json` that will be the input to each run of the beam.\n",
    "All placeholders (signified by the $ delimiter) will be replaced by concrete values from the sample parameter space. "
   ]
  },
  {
   "cell_type": "markdown",
   "metadata": {},
   "source": [
    "So, for example (commands preceded by an exclamation mark are treated as shell commands):"
   ]
  },
  {
   "cell_type": "code",
   "execution_count": 3,
   "metadata": {},
   "outputs": [
    {
     "name": "stdout",
     "output_type": "stream",
     "text": [
      "/home/jovyan/tutorials/VECMAtk/BEAM\n"
     ]
    }
   ],
   "source": [
    "!pwd\n",
    "!echo \"{\\\"outfile\\\": \\\"output.json\\\", \\\"F\\\": 1.0, \\\"L\\\": 1.5, \\\"a\\\": 1.0, \\\"D\\\": 0.8, \\\"d\\\": 0.1, \\\"E\\\": 200000}\" > input.json"
   ]
  },
  {
   "cell_type": "code",
   "execution_count": 4,
   "metadata": {},
   "outputs": [],
   "source": [
    "!./beam input.json"
   ]
  },
  {
   "cell_type": "code",
   "execution_count": 5,
   "metadata": {},
   "outputs": [
    {
     "name": "stdout",
     "output_type": "stream",
     "text": [
      "{\"g1\": -6.909453505549654e-06, \"g2\": -1.3818907011099308e-05, \"g3\": 1.7273633763874136e-05}"
     ]
    }
   ],
   "source": [
    "!cat output.json"
   ]
  },
  {
   "attachments": {},
   "cell_type": "markdown",
   "metadata": {},
   "source": [
    "In this tutorial, in a similar fashion as in the basic one, \n",
    "we will demonstrate how to use EasyVVUQ to do a variance-based sensitivity analysis of `beam` application using stochastic collocation. \n",
    "\n",
    "Nevertheless, the way the usage of QCG-PilotJob in EasyVVUQ is generic and will look the same also for other applications and other supported by EasyVVUQ methods."
   ]
  },
  {
   "cell_type": "markdown",
   "metadata": {},
   "source": [
    "## Campaign"
   ]
  },
  {
   "attachments": {},
   "cell_type": "markdown",
   "metadata": {},
   "source": [
    "To use EasyVVUQ, we need to configure the EasyVVUQ Campaign object. We do this in almost the same way as in the case of the basic use case. \n",
    "Firstly we import the same set of libraries as in the original example:"
   ]
  },
  {
   "cell_type": "code",
   "execution_count": 5,
   "metadata": {},
   "outputs": [],
   "source": [
    "import os\n",
    "import easyvvuq as uq\n",
    "import chaospy as cp\n",
    "import matplotlib.pyplot as plt\n",
    "from easyvvuq.actions import CreateRunDirectory, Encode, Decode, CleanUp, ExecuteLocal, Actions"
   ]
  },
  {
   "cell_type": "markdown",
   "metadata": {},
   "source": [
    "We only extend this set of imports with a module for the QCG-PilotJob pool:"
   ]
  },
  {
   "cell_type": "code",
   "execution_count": 6,
   "metadata": {},
   "outputs": [],
   "source": [
    "from easyvvuq.actions import QCGPJPool"
   ]
  },
  {
   "attachments": {},
   "cell_type": "markdown",
   "metadata": {},
   "source": [
    "Then, we can continue the code from the basic workflow. For validation purposes, we describe a set of parameters used by the application:"
   ]
  },
  {
   "cell_type": "code",
   "execution_count": 7,
   "metadata": {},
   "outputs": [],
   "source": [
    "params = {\n",
    "    \"F\": {\"type\": \"float\", \"default\": 1.0}, \n",
    "    \"L\": {\"type\": \"float\", \"default\": 1.5}, \n",
    "    \"a\": {\"type\": \"float\", \"min\": 0.7, \"max\": 1.2, \"default\": 1.0}, \n",
    "    \"D\": {\"type\": \"float\", \"min\": 0.75, \"max\": 0.85, \"default\": 0.8},\n",
    "    \"d\": {\"type\": \"float\", \"default\": 0.1},\n",
    "    \"E\": {\"type\": \"float\", \"default\": 200000},\n",
    "    \"outfile\": {\"type\": \"string\", \"default\": \"output.json\"}\n",
    "}"
   ]
  },
  {
   "attachments": {},
   "cell_type": "markdown",
   "metadata": {},
   "source": [
    "and, by the specification of encoder and decoder, define how EasyVVUQ should convert data between its internal and the application logic:"
   ]
  },
  {
   "cell_type": "code",
   "execution_count": 8,
   "metadata": {},
   "outputs": [],
   "source": [
    "encoder = uq.encoders.GenericEncoder(template_fname='beam.template', delimiter='$', target_filename='input.json')\n",
    "decoder = uq.decoders.JSONDecoder(target_filename='output.json', output_columns=['g1'])"
   ]
  },
  {
   "attachments": {},
   "cell_type": "markdown",
   "metadata": {},
   "source": [
    "Hence our application takes and produces very simple data structures, we use built-in Encoder and Decoder classes, but you can provide custom implementations of encoders and decoders that will fit your use case. \n",
    "\n",
    "The next step is a definition of an executed action that will be used to run the `beam` application with a prepared input file. "
   ]
  },
  {
   "cell_type": "code",
   "execution_count": 9,
   "metadata": {},
   "outputs": [],
   "source": [
    "execute = ExecuteLocal('{}/beam input.json'.format(os.getcwd()))"
   ]
  },
  {
   "cell_type": "markdown",
   "metadata": {},
   "source": [
    "Now we are allowed to push all actions we want to execute for samples into the Actions object:"
   ]
  },
  {
   "cell_type": "code",
   "execution_count": 10,
   "metadata": {},
   "outputs": [],
   "source": [
    "actions = Actions(CreateRunDirectory('/tmp'), \n",
    "                  Encode(encoder), execute, Decode(decoder))"
   ]
  },
  {
   "attachments": {},
   "cell_type": "markdown",
   "metadata": {},
   "source": [
    "and finally, create EasyVVUQ Campaign:"
   ]
  },
  {
   "cell_type": "code",
   "execution_count": 11,
   "metadata": {},
   "outputs": [],
   "source": [
    "campaign = uq.Campaign(name='beam', params=params, actions=actions)"
   ]
  },
  {
   "attachments": {},
   "cell_type": "markdown",
   "metadata": {},
   "source": [
    "The remaining steps to configure the campaign object are to define distributions for the input parameters and initialise a sampler. This code is the same regardless we use or not QCG-PilotJob:"
   ]
  },
  {
   "cell_type": "code",
   "execution_count": 12,
   "metadata": {},
   "outputs": [],
   "source": [
    "vary = {\n",
    "    \"F\": cp.Normal(1, 0.1),\n",
    "    \"L\": cp.Normal(1.5, 0.01),\n",
    "    \"a\": cp.Uniform(0.7, 1.2),\n",
    "    \"D\": cp.Triangle(0.75, 0.8, 0.85)\n",
    "}\n",
    "campaign.set_sampler(uq.sampling.SCSampler(vary=vary, polynomial_order=1))"
   ]
  },
  {
   "attachments": {},
   "cell_type": "markdown",
   "metadata": {},
   "source": [
    "## QCGPJ-Pool\n",
    "Now we can execute all evaluations. However, in contrast to the basic tutorial, where the code was prepared to be run on a local machine, our target here is to demonstrate how to use QCG-PilotJob to execute evaluations on an HPC cluster. \n",
    "\n",
    "To this end, we need to create a QCGPJPool object and provide it to the campaign's execute method. In the most simplistic configuration, we can initialise `QCGPjPool` within the `with` the statement and don't provide any arguments to the constructor:"
   ]
  },
  {
   "cell_type": "code",
   "execution_count": 13,
   "metadata": {},
   "outputs": [],
   "source": [
    "with QCGPJPool() as qcgpj:\n",
    "    campaign.execute(pool=qcgpj).collate()"
   ]
  },
  {
   "attachments": {},
   "cell_type": "markdown",
   "metadata": {},
   "source": [
    "An empty list of QCGPJPool constructor's parameters leads to the default settings of the pool and execution of all evaluations with a default task template. This may be sufficient for basic use cases, but to support more advanced execution scenarios, \n",
    "several parameters may need to be provided to the constructor:\n",
    "* `qcgpj-executor` - allows to set up of specific parameters of the QCG-PilotJob service by the creation of a custom QCGPJExecutor instance. For example, if we skip this parameter, QCG-PilotJob will automatically set up to execute on all available resources, which is perfectly fine if we run the code on HPC resources since it will take care of proper and efficient scheduling of tasks to the resources available in the allocation. However, if we would like to make some tests on a local machine, it may be more optimal to define virtual resources, and this may be defined with the `resources` parameter to the `QCGPJExecutor` constructor.\n",
    "* `template` and `template_params` - by default the tasks use a predefined template (`EasyVVUQBasicTemplate)` that leads to the execution of QCG-PilotJob's tasks in a default mode, only on a single core. It could be altered by providing a custom task `template`` and `template_params`. \n",
    "* `polling_interval` - allows changing the default interval between queries asking about the status of tasks to the QCG-PilotJob Manager service.\n",
    "\n",
    "Let us show how to modify this example to demonstrate the usage of these more advanced options. "
   ]
  },
  {
   "attachments": {},
   "cell_type": "markdown",
   "metadata": {},
   "source": [
    "## Parallel Tasks\n",
    "Firstly, we would change the `template` and `template_params` to enable the execution of tasks on many resources. Thus, instead of a default template class, we will employ `EasyVVUQParallelTemplate` which allows us also to set `numCores` and `numNodes` parameters. To demonstrate it, we have to have a clean situation and therefore we need to initialise a new campaign:"
   ]
  },
  {
   "cell_type": "code",
   "execution_count": 14,
   "metadata": {},
   "outputs": [],
   "source": [
    "campaign = uq.Campaign(name='beam', params=params, actions=actions)\n",
    "campaign.set_sampler(uq.sampling.SCSampler(vary=vary, polynomial_order=1))"
   ]
  },
  {
   "attachments": {},
   "cell_type": "markdown",
   "metadata": {},
   "source": [
    "Now we can execute campaign actions once again. This time it looks as follows: "
   ]
  },
  {
   "cell_type": "code",
   "execution_count": 15,
   "metadata": {},
   "outputs": [],
   "source": [
    "from easyvvuq.actions.execute_qcgpj import EasyVVUQParallelTemplate\n",
    "\n",
    "with QCGPJPool(\n",
    "        template=EasyVVUQParallelTemplate(), \n",
    "        template_params={'numCores': 4}) as qcgpj:\n",
    "    campaign.execute(pool=qcgpj).collate()"
   ]
  },
  {
   "attachments": {},
   "cell_type": "markdown",
   "metadata": {},
   "source": [
    "We have set `numCores` to 4, which is one of the parameters supported by `EasyVVUQParallelTemplate`. It results in assigning 4 cores for each task. Please note that this setting is not optimal for our example `beam` code, which is not parallel - in the case of such codes, single-core tasks are perfectly fine. Nevertheless, the possibility to define `numCores` and `numNodes` is essential for the proper execution of MPI or OpenMP applications. **Note:** To run parallel code inside a QCG-PilotJob task, a full command for the paralleled run should be given to the ExecuteLocal action \n",
    "(e.g. `mpirun -n 4 NAME_OF_PROGRAM`). \n",
    "\n",
    "Now let's try to set a larger number of nodes:"
   ]
  },
  {
   "cell_type": "code",
   "execution_count": 38,
   "metadata": {},
   "outputs": [
    {
     "name": "stdout",
     "output_type": "stream",
     "text": [
      "Request failed - Not enough resources for job 1\n"
     ]
    }
   ],
   "source": [
    "campaign = uq.Campaign(name='beam', params=params, actions=actions)\n",
    "campaign.set_sampler(uq.sampling.SCSampler(vary=vary, polynomial_order=1))\n",
    "\n",
    "try:\n",
    "    with QCGPJPool(\n",
    "            template=EasyVVUQParallelTemplate(), \n",
    "            template_params={'numNodes': 2, 'numCores': 4}) as qcgpj:\n",
    "        campaign.execute(pool=qcgpj).collate()\n",
    "except Exception as e:\n",
    "    print(e)"
   ]
  },
  {
   "attachments": {},
   "cell_type": "markdown",
   "metadata": {},
   "source": [
    "If you see that the exception saying that there are not enough resources has been caught, it is not a surprise. Well, we don't have 2 nodes to use and QCG-PilotJob reports that our task is too big. "
   ]
  },
  {
   "attachments": {},
   "cell_type": "markdown",
   "metadata": {},
   "source": [
    "## Local / virtualised mode of execution\n",
    "What if we want to prepare and test the workflow on a local machine before it will be transferred to the HPC environment? QCG-PilotJob has a solution for this which is called *Local Mode* and allows the definition of virtual resources. Let's modify our example a bit: "
   ]
  },
  {
   "cell_type": "code",
   "execution_count": null,
   "metadata": {},
   "outputs": [],
   "source": [
    "campaign = uq.Campaign(name='beam', params=params, actions=actions)\n",
    "campaign.set_sampler(uq.sampling.SCSampler(vary=vary, polynomial_order=1))\n",
    "\n",
    "from qcg.pilotjob.executor_api.qcgpj_executor import QCGPJExecutor\n",
    "\n",
    "with QCGPJPool(\n",
    "        qcgpj_executor=QCGPJExecutor(resources=\"node1:4,node2:4\"),\n",
    "        template=EasyVVUQParallelTemplate(), \n",
    "        template_params={'numNodes': 2, 'numCores': 4}) as qcgpj:\n",
    "    campaign.execute(pool=qcgpj).collate()"
   ]
  },
  {
   "attachments": {},
   "cell_type": "markdown",
   "metadata": {},
   "source": [
    "As it can be seen, we added `qcpj_executor` parameter to the `QCGPJPool` constructor. The parameter is set to the customised `QCGPJExecutor` instance, which has been created\n",
    "with parameter `resources` set to `node1:4,node2:4`. In this way we have defined two virtual nodes, each with 4 cores. In a result, this example can been executed successfully. "
   ]
  },
  {
   "attachments": {},
   "cell_type": "markdown",
   "metadata": {},
   "source": [
    "## Tasks templates\n",
    "You can get more information about the parameters available in the templates with the following way:"
   ]
  },
  {
   "cell_type": "code",
   "execution_count": 38,
   "metadata": {},
   "outputs": [
    {
     "name": "stdout",
     "output_type": "stream",
     "text": [
      "\n",
      "            {\n",
      "                'name': '${name}',\n",
      "                'execution': {\n",
      "                    'exec': '${exec}',\n",
      "                    'args': ${args},\n",
      "                    'stdout': '${stdout}',\n",
      "                    'stderr': '${stderr}',\n",
      "                    'venv': '${venv}',\n",
      "                    'model': '${model}',\n",
      "                    'model_opts': ${model_opts}\n",
      "                },\n",
      "                'resources': {\n",
      "                    'numCores': {\n",
      "                        'exact': ${numCores}\n",
      "                    },\n",
      "                    'numNodes': {\n",
      "                        'exact': ${numNodes}\n",
      "                    }\n",
      "                }\n",
      "            }\n",
      "             \n"
     ]
    }
   ],
   "source": [
    "print(EasyVVUQParallelTemplate().template()[0])"
   ]
  },
  {
   "cell_type": "markdown",
   "metadata": {},
   "source": [
    "You can also easily get information about default values for the keys:"
   ]
  },
  {
   "cell_type": "code",
   "execution_count": 40,
   "metadata": {},
   "outputs": [
    {
     "data": {
      "text/plain": [
       "{'args': [],\n",
       " 'stdout': 'stdout',\n",
       " 'stderr': 'stderr',\n",
       " 'venv': '',\n",
       " 'model': 'default',\n",
       " 'model_opts': {},\n",
       " 'numCores': 1,\n",
       " 'numNodes': 1}"
      ]
     },
     "execution_count": 40,
     "metadata": {},
     "output_type": "execute_result"
    }
   ],
   "source": [
    "EasyVVUQParallelTemplate().template()[1]"
   ]
  },
  {
   "attachments": {},
   "cell_type": "markdown",
   "metadata": {},
   "source": [
    "* **Note 1:** If the functionality of built-in templates is not sufficient, you can always create a new one by extensions of existing ones.\n",
    "* **Note 2:** The keys `name`, `stdout` and `stderr` are necessary for the code to work properly, so newly created templates must analogously define these keys as they are defined in the existing templates. It is also not possible to set these keys to custom values because they are substituted automatically by the internal software logic."
   ]
  },
  {
   "attachments": {},
   "cell_type": "markdown",
   "metadata": {},
   "source": [
    "## Analysis\n",
    "At this moment we should have our evaluations ready and their results collated and stored in the campaing's database. Since we have used `QCGPJPool` inside the `with` the statement it has been already cleaned up and we don't need any other code specific for QCG-PilotJob's execution. Thus the remaining part of the tutorial can be no different from its basic version. In other words, starting now, we have all data needed to perform analysis in a typical for EasyVVUQ way.\n",
    "\n",
    "At the beginning we can display the collattion results:"
   ]
  },
  {
   "cell_type": "code",
   "execution_count": 16,
   "metadata": {},
   "outputs": [
    {
     "data": {
      "text/html": [
       "<div>\n",
       "<style scoped>\n",
       "    .dataframe tbody tr th:only-of-type {\n",
       "        vertical-align: middle;\n",
       "    }\n",
       "\n",
       "    .dataframe tbody tr th {\n",
       "        vertical-align: top;\n",
       "    }\n",
       "\n",
       "    .dataframe thead tr th {\n",
       "        text-align: left;\n",
       "    }\n",
       "</style>\n",
       "<table border=\"1\" class=\"dataframe\">\n",
       "  <thead>\n",
       "    <tr>\n",
       "      <th></th>\n",
       "      <th>run_id</th>\n",
       "      <th>iteration</th>\n",
       "      <th>F</th>\n",
       "      <th>L</th>\n",
       "      <th>a</th>\n",
       "      <th>D</th>\n",
       "      <th>d</th>\n",
       "      <th>E</th>\n",
       "      <th>outfile</th>\n",
       "      <th>g1</th>\n",
       "    </tr>\n",
       "    <tr>\n",
       "      <th></th>\n",
       "      <th>0</th>\n",
       "      <th>0</th>\n",
       "      <th>0</th>\n",
       "      <th>0</th>\n",
       "      <th>0</th>\n",
       "      <th>0</th>\n",
       "      <th>0</th>\n",
       "      <th>0</th>\n",
       "      <th>0</th>\n",
       "      <th>0</th>\n",
       "    </tr>\n",
       "  </thead>\n",
       "  <tbody>\n",
       "    <tr>\n",
       "      <th>0</th>\n",
       "      <td>1</td>\n",
       "      <td>0</td>\n",
       "      <td>0.9</td>\n",
       "      <td>1.49</td>\n",
       "      <td>0.805662</td>\n",
       "      <td>0.779588</td>\n",
       "      <td>0.1</td>\n",
       "      <td>200000</td>\n",
       "      <td>output.json</td>\n",
       "      <td>-0.000008</td>\n",
       "    </tr>\n",
       "    <tr>\n",
       "      <th>1</th>\n",
       "      <td>2</td>\n",
       "      <td>0</td>\n",
       "      <td>0.9</td>\n",
       "      <td>1.49</td>\n",
       "      <td>0.805662</td>\n",
       "      <td>0.820412</td>\n",
       "      <td>0.1</td>\n",
       "      <td>200000</td>\n",
       "      <td>output.json</td>\n",
       "      <td>-0.000007</td>\n",
       "    </tr>\n",
       "    <tr>\n",
       "      <th>2</th>\n",
       "      <td>3</td>\n",
       "      <td>0</td>\n",
       "      <td>0.9</td>\n",
       "      <td>1.49</td>\n",
       "      <td>1.094338</td>\n",
       "      <td>0.779588</td>\n",
       "      <td>0.1</td>\n",
       "      <td>200000</td>\n",
       "      <td>output.json</td>\n",
       "      <td>-0.000005</td>\n",
       "    </tr>\n",
       "    <tr>\n",
       "      <th>3</th>\n",
       "      <td>4</td>\n",
       "      <td>0</td>\n",
       "      <td>0.9</td>\n",
       "      <td>1.49</td>\n",
       "      <td>1.094338</td>\n",
       "      <td>0.820412</td>\n",
       "      <td>0.1</td>\n",
       "      <td>200000</td>\n",
       "      <td>output.json</td>\n",
       "      <td>-0.000004</td>\n",
       "    </tr>\n",
       "    <tr>\n",
       "      <th>4</th>\n",
       "      <td>5</td>\n",
       "      <td>0</td>\n",
       "      <td>0.9</td>\n",
       "      <td>1.51</td>\n",
       "      <td>0.805662</td>\n",
       "      <td>0.779588</td>\n",
       "      <td>0.1</td>\n",
       "      <td>200000</td>\n",
       "      <td>output.json</td>\n",
       "      <td>-0.000009</td>\n",
       "    </tr>\n",
       "    <tr>\n",
       "      <th>5</th>\n",
       "      <td>6</td>\n",
       "      <td>0</td>\n",
       "      <td>0.9</td>\n",
       "      <td>1.51</td>\n",
       "      <td>0.805662</td>\n",
       "      <td>0.820412</td>\n",
       "      <td>0.1</td>\n",
       "      <td>200000</td>\n",
       "      <td>output.json</td>\n",
       "      <td>-0.000007</td>\n",
       "    </tr>\n",
       "    <tr>\n",
       "      <th>6</th>\n",
       "      <td>7</td>\n",
       "      <td>0</td>\n",
       "      <td>0.9</td>\n",
       "      <td>1.51</td>\n",
       "      <td>1.094338</td>\n",
       "      <td>0.779588</td>\n",
       "      <td>0.1</td>\n",
       "      <td>200000</td>\n",
       "      <td>output.json</td>\n",
       "      <td>-0.000006</td>\n",
       "    </tr>\n",
       "    <tr>\n",
       "      <th>7</th>\n",
       "      <td>8</td>\n",
       "      <td>0</td>\n",
       "      <td>0.9</td>\n",
       "      <td>1.51</td>\n",
       "      <td>1.094338</td>\n",
       "      <td>0.820412</td>\n",
       "      <td>0.1</td>\n",
       "      <td>200000</td>\n",
       "      <td>output.json</td>\n",
       "      <td>-0.000005</td>\n",
       "    </tr>\n",
       "    <tr>\n",
       "      <th>8</th>\n",
       "      <td>9</td>\n",
       "      <td>0</td>\n",
       "      <td>1.1</td>\n",
       "      <td>1.49</td>\n",
       "      <td>0.805662</td>\n",
       "      <td>0.779588</td>\n",
       "      <td>0.1</td>\n",
       "      <td>200000</td>\n",
       "      <td>output.json</td>\n",
       "      <td>-0.000010</td>\n",
       "    </tr>\n",
       "    <tr>\n",
       "      <th>9</th>\n",
       "      <td>10</td>\n",
       "      <td>0</td>\n",
       "      <td>1.1</td>\n",
       "      <td>1.49</td>\n",
       "      <td>0.805662</td>\n",
       "      <td>0.820412</td>\n",
       "      <td>0.1</td>\n",
       "      <td>200000</td>\n",
       "      <td>output.json</td>\n",
       "      <td>-0.000008</td>\n",
       "    </tr>\n",
       "    <tr>\n",
       "      <th>10</th>\n",
       "      <td>11</td>\n",
       "      <td>0</td>\n",
       "      <td>1.1</td>\n",
       "      <td>1.49</td>\n",
       "      <td>1.094338</td>\n",
       "      <td>0.779588</td>\n",
       "      <td>0.1</td>\n",
       "      <td>200000</td>\n",
       "      <td>output.json</td>\n",
       "      <td>-0.000006</td>\n",
       "    </tr>\n",
       "    <tr>\n",
       "      <th>11</th>\n",
       "      <td>12</td>\n",
       "      <td>0</td>\n",
       "      <td>1.1</td>\n",
       "      <td>1.49</td>\n",
       "      <td>1.094338</td>\n",
       "      <td>0.820412</td>\n",
       "      <td>0.1</td>\n",
       "      <td>200000</td>\n",
       "      <td>output.json</td>\n",
       "      <td>-0.000005</td>\n",
       "    </tr>\n",
       "    <tr>\n",
       "      <th>12</th>\n",
       "      <td>13</td>\n",
       "      <td>0</td>\n",
       "      <td>1.1</td>\n",
       "      <td>1.51</td>\n",
       "      <td>0.805662</td>\n",
       "      <td>0.779588</td>\n",
       "      <td>0.1</td>\n",
       "      <td>200000</td>\n",
       "      <td>output.json</td>\n",
       "      <td>-0.000011</td>\n",
       "    </tr>\n",
       "    <tr>\n",
       "      <th>13</th>\n",
       "      <td>14</td>\n",
       "      <td>0</td>\n",
       "      <td>1.1</td>\n",
       "      <td>1.51</td>\n",
       "      <td>0.805662</td>\n",
       "      <td>0.820412</td>\n",
       "      <td>0.1</td>\n",
       "      <td>200000</td>\n",
       "      <td>output.json</td>\n",
       "      <td>-0.000009</td>\n",
       "    </tr>\n",
       "    <tr>\n",
       "      <th>14</th>\n",
       "      <td>15</td>\n",
       "      <td>0</td>\n",
       "      <td>1.1</td>\n",
       "      <td>1.51</td>\n",
       "      <td>1.094338</td>\n",
       "      <td>0.779588</td>\n",
       "      <td>0.1</td>\n",
       "      <td>200000</td>\n",
       "      <td>output.json</td>\n",
       "      <td>-0.000007</td>\n",
       "    </tr>\n",
       "    <tr>\n",
       "      <th>15</th>\n",
       "      <td>16</td>\n",
       "      <td>0</td>\n",
       "      <td>1.1</td>\n",
       "      <td>1.51</td>\n",
       "      <td>1.094338</td>\n",
       "      <td>0.820412</td>\n",
       "      <td>0.1</td>\n",
       "      <td>200000</td>\n",
       "      <td>output.json</td>\n",
       "      <td>-0.000006</td>\n",
       "    </tr>\n",
       "  </tbody>\n",
       "</table>\n",
       "</div>"
      ],
      "text/plain": [
       "   run_id iteration    F     L         a         D    d       E      outfile  \\\n",
       "        0         0    0     0         0         0    0       0            0   \n",
       "0       1         0  0.9  1.49  0.805662  0.779588  0.1  200000  output.json   \n",
       "1       2         0  0.9  1.49  0.805662  0.820412  0.1  200000  output.json   \n",
       "2       3         0  0.9  1.49  1.094338  0.779588  0.1  200000  output.json   \n",
       "3       4         0  0.9  1.49  1.094338  0.820412  0.1  200000  output.json   \n",
       "4       5         0  0.9  1.51  0.805662  0.779588  0.1  200000  output.json   \n",
       "5       6         0  0.9  1.51  0.805662  0.820412  0.1  200000  output.json   \n",
       "6       7         0  0.9  1.51  1.094338  0.779588  0.1  200000  output.json   \n",
       "7       8         0  0.9  1.51  1.094338  0.820412  0.1  200000  output.json   \n",
       "8       9         0  1.1  1.49  0.805662  0.779588  0.1  200000  output.json   \n",
       "9      10         0  1.1  1.49  0.805662  0.820412  0.1  200000  output.json   \n",
       "10     11         0  1.1  1.49  1.094338  0.779588  0.1  200000  output.json   \n",
       "11     12         0  1.1  1.49  1.094338  0.820412  0.1  200000  output.json   \n",
       "12     13         0  1.1  1.51  0.805662  0.779588  0.1  200000  output.json   \n",
       "13     14         0  1.1  1.51  0.805662  0.820412  0.1  200000  output.json   \n",
       "14     15         0  1.1  1.51  1.094338  0.779588  0.1  200000  output.json   \n",
       "15     16         0  1.1  1.51  1.094338  0.820412  0.1  200000  output.json   \n",
       "\n",
       "          g1  \n",
       "           0  \n",
       "0  -0.000008  \n",
       "1  -0.000007  \n",
       "2  -0.000005  \n",
       "3  -0.000004  \n",
       "4  -0.000009  \n",
       "5  -0.000007  \n",
       "6  -0.000006  \n",
       "7  -0.000005  \n",
       "8  -0.000010  \n",
       "9  -0.000008  \n",
       "10 -0.000006  \n",
       "11 -0.000005  \n",
       "12 -0.000011  \n",
       "13 -0.000009  \n",
       "14 -0.000007  \n",
       "15 -0.000006  "
      ]
     },
     "execution_count": 16,
     "metadata": {},
     "output_type": "execute_result"
    }
   ],
   "source": [
    "campaign.get_collation_result()"
   ]
  },
  {
   "cell_type": "markdown",
   "metadata": {},
   "source": [
    "We then call the analyse method whose functionality will depend on the sampling method used. It returns an [AnalysisResults]() object which can be used to retrieve numerical values or plot the results. In this case Sobols indices."
   ]
  },
  {
   "cell_type": "code",
   "execution_count": 17,
   "metadata": {},
   "outputs": [],
   "source": [
    "results = campaign.analyse(qoi_cols=['g1'])"
   ]
  },
  {
   "attachments": {},
   "cell_type": "markdown",
   "metadata": {},
   "source": [
    "We can plot the results in a treemap format. Each square represents the relative influence of that parameter on the variance of the output variable (vertical displacement at point ```a```). A square labeled `higher orders` represents the influence of the interactions between the input parameters."
   ]
  },
  {
   "cell_type": "code",
   "execution_count": 18,
   "metadata": {},
   "outputs": [
    {
     "data": {
      "image/png": "[encoded data removed]",
      "text/plain": [
       "<Figure size 720x720 with 1 Axes>"
      ]
     },
     "metadata": {
      "needs_background": "light"
     },
     "output_type": "display_data"
    }
   ],
   "source": [
    "results.plot_sobols_treemap('g1', figsize=(10, 10))\n",
    "plt.axis('off');"
   ]
  },
  {
   "attachments": {},
   "cell_type": "markdown",
   "metadata": {},
   "source": [
    "Alternatively, you can get the Sobol index values using the method call below."
   ]
  },
  {
   "cell_type": "code",
   "execution_count": 30,
   "metadata": {},
   "outputs": [
    {
     "data": {
      "text/plain": [
       "{'F': array([0.13515478]),\n",
       " 'L': array([0.01220653]),\n",
       " 'a': array([0.69667914]),\n",
       " 'D': array([0.13994264])}"
      ]
     },
     "execution_count": 30,
     "metadata": {},
     "output_type": "execute_result"
    }
   ],
   "source": [
    "results.sobols_first('g1')"
   ]
  }
 ],
 "metadata": {
  "kernelspec": {
   "display_name": "Python 3",
   "language": "python",
   "name": "python3"
  },
  "language_info": {
   "codemirror_mode": {
    "name": "ipython",
    "version": 3
   },
   "file_extension": ".py",
   "mimetype": "text/x-python",
   "name": "python",
   "nbconvert_exporter": "python",
   "pygments_lexer": "ipython3",
   "version": "3.7.4"
  },
  "pycharm": {
   "stem_cell": {
    "cell_type": "raw",
    "metadata": {
     "collapsed": false
    },
    "source": []
   }
  }
 },
 "nbformat": 4,
 "nbformat_minor": 5
}
