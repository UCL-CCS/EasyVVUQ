{
 "cells": [
  {
   "attachments": {},
   "cell_type": "markdown",
   "metadata": {},
   "source": [
    "Run an EasyVVUQ campaign to analyze the sensitivity of the Ishigami function\n",
    "\n",
    "This is done with PCE."
   ]
  },
  {
   "cell_type": "code",
   "execution_count": 1,
   "metadata": {
    "ExecuteTime": {
     "end_time": "2021-06-07T14:42:46.244157Z",
     "start_time": "2021-06-07T14:42:41.768114Z"
    },
    "code_folding": [
     0
    ]
   },
   "outputs": [],
   "source": [
    "# Run an EasyVVUQ campaign to analyze the sensitivity for the Ishigami function\n",
    "# This is done with PCE.\n",
    "import os\n",
    "import easyvvuq as uq\n",
    "import chaospy as cp\n",
    "import pickle\n",
    "import numpy as np\n",
    "import matplotlib.pylab as plt\n",
    "import time\n",
    "import pandas as pd"
   ]
  },
  {
   "cell_type": "code",
   "execution_count": 2,
   "metadata": {
    "ExecuteTime": {
     "end_time": "2021-06-07T14:42:46.248425Z",
     "start_time": "2021-06-07T14:42:46.245314Z"
    }
   },
   "outputs": [
    {
     "data": {
      "text/plain": [
       "'1.20.3'"
      ]
     },
     "execution_count": 2,
     "metadata": {},
     "output_type": "execute_result"
    }
   ],
   "source": [
    "np.__version__"
   ]
  },
  {
   "cell_type": "code",
   "execution_count": 3,
   "metadata": {
    "ExecuteTime": {
     "end_time": "2021-06-07T14:42:46.253612Z",
     "start_time": "2021-06-07T14:42:46.249610Z"
    },
    "code_folding": [
     0,
     1
    ]
   },
   "outputs": [],
   "source": [
    "# Define the Ishigami function\n",
    "def ishigamiSA(a,b):\n",
    "    '''Exact sensitivity indices of the Ishigami function for given a and b.\n",
    "    From https://openturns.github.io/openturns/master/examples/meta_modeling/chaos_ishigami.html\n",
    "    '''\n",
    "    var = 1.0/2 + a**2/8 + b*np.pi**4/5 + b**2*np.pi**8/18\n",
    "    S1 = (1.0/2 + b*np.pi**4/5+b**2*np.pi**8/50)/var\n",
    "    S2 = (a**2/8)/var\n",
    "    S3 = 0\n",
    "    S13 = b**2*np.pi**8/2*(1.0/9-1.0/25)/var\n",
    "    exact = {\n",
    "            'expectation' : a/2,\n",
    "            'variance' : var,\n",
    "            'S1' : (1.0/2 + b*np.pi**4/5+b**2*np.pi**8.0/50)/var,\n",
    "            'S2' : (a**2/8)/var,\n",
    "            'S3' : 0,\n",
    "            'S12' : 0,\n",
    "            'S23' : 0,\n",
    "            'S13' : S13,\n",
    "            'S123' : 0,\n",
    "            'ST1' : S1 + S13,\n",
    "            'ST2' : S2,\n",
    "            'ST3' : S3 + S13\n",
    "            }\n",
    "    return exact\n",
    "\n",
    "Ishigami_a = 7.0\n",
    "Ishigami_b = 0.1\n",
    "exact = ishigamiSA(Ishigami_a, Ishigami_b)"
   ]
  },
  {
   "cell_type": "code",
   "execution_count": 4,
   "metadata": {
    "ExecuteTime": {
     "end_time": "2021-06-07T14:42:46.257741Z",
     "start_time": "2021-06-07T14:42:46.255954Z"
    },
    "code_folding": [
     0
    ]
   },
   "outputs": [],
   "source": [
    "# define a model to run the Ishigami code directly from python, expecting a dictionary and returning a dictionary\n",
    "def run_ishigami_model(input):\n",
    "    import Ishigami\n",
    "    qois = [\"Ishigami\"]\n",
    "    del input['out_file']\n",
    "    return {qois[0]: Ishigami.evaluate(**input)}"
   ]
  },
  {
   "cell_type": "code",
   "execution_count": 5,
   "metadata": {
    "ExecuteTime": {
     "end_time": "2021-06-07T14:42:46.261995Z",
     "start_time": "2021-06-07T14:42:46.258868Z"
    },
    "code_folding": [
     0
    ]
   },
   "outputs": [],
   "source": [
    "# Define parameter space\n",
    "def define_params():\n",
    "    return {\n",
    "        \"x1\":       {\"type\": \"float\",   \"min\": -np.pi,     \"max\": np.pi,      \"default\": 0.0},\n",
    "        \"x2\":       {\"type\": \"float\",   \"min\": -np.pi,     \"max\": np.pi,      \"default\": 0.0},\n",
    "        \"x3\":       {\"type\": \"float\",   \"min\": -np.pi,     \"max\": np.pi,      \"default\": 0.0},\n",
    "        \"a\":        {\"type\": \"float\",   \"min\": Ishigami_a, \"max\": Ishigami_a, \"default\": Ishigami_a},\n",
    "        \"b\":        {\"type\": \"float\",   \"min\": Ishigami_b, \"max\": Ishigami_b, \"default\": Ishigami_b},\n",
    "        \"out_file\": {\"type\": \"string\",  \"default\": \"output.csv\"}\n",
    "    }"
   ]
  },
  {
   "cell_type": "code",
   "execution_count": 6,
   "metadata": {
    "ExecuteTime": {
     "end_time": "2021-06-07T14:42:46.265476Z",
     "start_time": "2021-06-07T14:42:46.263562Z"
    },
    "code_folding": [
     0
    ]
   },
   "outputs": [],
   "source": [
    "# Define parameter space\n",
    "def define_vary():\n",
    "    return {\n",
    "        \"x1\":   cp.Uniform(-np.pi, np.pi),\n",
    "        \"x2\":   cp.Uniform(-np.pi, np.pi),\n",
    "        \"x3\":   cp.Uniform(-np.pi, np.pi)\n",
    "    }"
   ]
  },
  {
   "cell_type": "code",
   "execution_count": 7,
   "metadata": {
    "ExecuteTime": {
     "end_time": "2021-06-07T14:42:46.272337Z",
     "start_time": "2021-06-07T14:42:46.266543Z"
    },
    "code_folding": [
     0
    ]
   },
   "outputs": [],
   "source": [
    "# Set up and run a campaign\n",
    "def run_campaign(pce_order=2, use_files=False):\n",
    "\n",
    "    times = np.zeros(7)\n",
    "\n",
    "    time_start = time.time()\n",
    "    time_start_whole = time_start\n",
    "\n",
    "    # Set up a fresh campaign called \"Ishigami_pce.\"\n",
    "    my_campaign = uq.Campaign(name='Ishigami_pce.')\n",
    "\n",
    "    # Create an encoder and decoder for PCE test app\n",
    "    if use_files:\n",
    "        encoder = uq.encoders.GenericEncoder(template_fname='Ishigami.template',\n",
    "                                             delimiter='$',\n",
    "                                             target_filename='Ishigami_in.json')\n",
    "\n",
    "        decoder = uq.decoders.SimpleCSV(target_filename=\"output.csv\",\n",
    "                                        output_columns=[\"Ishigami\"])\n",
    "\n",
    "        execute = uq.actions.ExecuteLocal('python3 %s/Ishigami.py Ishigami_in.json' % (os.getcwd()))\n",
    "\n",
    "        actions = uq.actions.Actions(uq.actions.CreateRunDirectory('/tmp'), \n",
    "                          uq.actions.Encode(encoder), execute, uq.actions.Decode(decoder))\n",
    "    else:\n",
    "        actions = uq.actions.Actions(uq.actions.ExecutePython(run_ishigami_model))\n",
    "\n",
    "    # Add the app (automatically set as current app)\n",
    "    my_campaign.add_app(name=\"Ishigami\", params=define_params(), actions=actions)\n",
    "\n",
    "    # Create the sampler\n",
    "    time_end = time.time()\n",
    "    times[1] = time_end-time_start\n",
    "    print('Time for phase 1 = %.3f' % (times[1]))\n",
    "\n",
    "    time_start = time.time()\n",
    "    # Associate a sampler with the campaign\n",
    "    my_campaign.set_sampler(uq.sampling.PCESampler(vary=define_vary(), polynomial_order=pce_order))\n",
    "\n",
    "    # Will draw all (of the finite set of samples)\n",
    "    my_campaign.draw_samples()\n",
    "    print('Number of samples = %s' % my_campaign.get_active_sampler().count)\n",
    "\n",
    "    time_end = time.time()\n",
    "    times[2] = time_end-time_start\n",
    "    print('Time for phase 2 = %.3f' % (times[2]))\n",
    "\n",
    "    time_start = time.time()\n",
    "    # Run the cases\n",
    "    my_campaign.execute(sequential=True).collate(progress_bar=True)\n",
    "\n",
    "    time_end = time.time()\n",
    "    times[3] = time_end-time_start\n",
    "    print('Time for phase 3 = %.3f' % (times[3]))\n",
    "\n",
    "    time_start = time.time()\n",
    "    # Get the results\n",
    "    results_df = my_campaign.get_collation_result()\n",
    "\n",
    "    time_end = time.time()\n",
    "    times[4] = time_end-time_start\n",
    "    print('Time for phase 4 = %.3f' % (times[4]))\n",
    "\n",
    "    time_start = time.time()\n",
    "    # Post-processing analysis\n",
    "    results = my_campaign.analyse(qoi_cols=[\"Ishigami\"])\n",
    "    \n",
    "    time_end = time.time()\n",
    "    times[5] = time_end-time_start\n",
    "    print('Time for phase 5 = %.3f' % (times[5]))\n",
    "\n",
    "    time_start = time.time()\n",
    "    # Save the results\n",
    "    pickle.dump(results, open('Ishigami_results.pickle','bw'))\n",
    "    time_end = time.time()\n",
    "    times[6] = time_end-time_start\n",
    "    print('Time for phase 6 = %.3f' % (times[6]))\n",
    "\n",
    "    times[0] = time_end - time_start_whole\n",
    "\n",
    "    return results_df, results, times, pce_order, my_campaign.get_active_sampler().count"
   ]
  },
  {
   "cell_type": "code",
   "execution_count": 8,
   "metadata": {
    "ExecuteTime": {
     "end_time": "2021-06-07T15:00:53.564255Z",
     "start_time": "2021-06-07T14:42:46.274613Z"
    },
    "code_folding": [
     0
    ],
    "scrolled": true
   },
   "outputs": [
    {
     "name": "stderr",
     "output_type": "stream",
     "text": [
      "100%|██████████| 8/8 [00:00<00:00, 2198.99it/s]\n",
      "100%|██████████| 27/27 [00:00<00:00, 5230.77it/s]"
     ]
    },
    {
     "name": "stdout",
     "output_type": "stream",
     "text": [
      "Time for phase 1 = 0.024\n",
      "Number of samples = 8\n",
      "Time for phase 2 = 0.047\n",
      "Time for phase 3 = 0.014\n",
      "Time for phase 4 = 0.005\n",
      "Time for phase 5 = 0.025\n",
      "Time for phase 6 = 0.001\n",
      "Time for phase 1 = 0.009\n",
      "Number of samples = 27\n",
      "Time for phase 2 = 0.067\n",
      "Time for phase 3 = 0.010\n",
      "Time for phase 4 = 0.003\n"
     ]
    },
    {
     "name": "stderr",
     "output_type": "stream",
     "text": [
      "\n",
      "100%|██████████| 64/64 [00:00<00:00, 5296.67it/s]"
     ]
    },
    {
     "name": "stdout",
     "output_type": "stream",
     "text": [
      "Time for phase 5 = 0.096\n",
      "Time for phase 6 = 0.001\n",
      "Time for phase 1 = 0.010\n",
      "Number of samples = 64\n",
      "Time for phase 2 = 0.110\n",
      "Time for phase 3 = 0.018\n",
      "Time for phase 4 = 0.003\n"
     ]
    },
    {
     "name": "stderr",
     "output_type": "stream",
     "text": [
      "\n",
      "  0%|          | 0/125 [00:00<?, ?it/s]"
     ]
    },
    {
     "name": "stdout",
     "output_type": "stream",
     "text": [
      "Time for phase 5 = 0.157\n",
      "Time for phase 6 = 0.001\n",
      "Time for phase 1 = 0.010\n",
      "Number of samples = 125\n",
      "Time for phase 2 = 0.166\n"
     ]
    },
    {
     "name": "stderr",
     "output_type": "stream",
     "text": [
      "100%|██████████| 125/125 [00:00<00:00, 5285.91it/s]\n"
     ]
    },
    {
     "name": "stdout",
     "output_type": "stream",
     "text": [
      "Time for phase 3 = 0.032\n",
      "Time for phase 4 = 0.004\n",
      "Time for phase 5 = 0.283\n",
      "Time for phase 6 = 0.001\n",
      "Time for phase 1 = 0.010\n"
     ]
    },
    {
     "name": "stderr",
     "output_type": "stream",
     "text": [
      "100%|██████████| 216/216 [00:00<00:00, 5836.12it/s]"
     ]
    },
    {
     "name": "stdout",
     "output_type": "stream",
     "text": [
      "Number of samples = 216\n",
      "Time for phase 2 = 0.211\n",
      "Time for phase 3 = 0.047\n",
      "Time for phase 4 = 0.005\n"
     ]
    },
    {
     "name": "stderr",
     "output_type": "stream",
     "text": [
      "\n"
     ]
    },
    {
     "name": "stdout",
     "output_type": "stream",
     "text": [
      "Time for phase 5 = 0.471\n",
      "Time for phase 6 = 0.001\n",
      "Time for phase 1 = 0.010\n"
     ]
    },
    {
     "name": "stderr",
     "output_type": "stream",
     "text": [
      "100%|██████████| 343/343 [00:00<00:00, 5718.76it/s]"
     ]
    },
    {
     "name": "stdout",
     "output_type": "stream",
     "text": [
      "Number of samples = 343\n",
      "Time for phase 2 = 0.289\n",
      "Time for phase 3 = 0.074\n",
      "Time for phase 4 = 0.010\n"
     ]
    },
    {
     "name": "stderr",
     "output_type": "stream",
     "text": [
      "\n"
     ]
    },
    {
     "name": "stdout",
     "output_type": "stream",
     "text": [
      "Time for phase 5 = 0.791\n",
      "Time for phase 6 = 0.001\n",
      "Time for phase 1 = 0.010\n"
     ]
    },
    {
     "name": "stderr",
     "output_type": "stream",
     "text": [
      "100%|██████████| 512/512 [00:00<00:00, 5851.09it/s]"
     ]
    },
    {
     "name": "stdout",
     "output_type": "stream",
     "text": [
      "Number of samples = 512\n",
      "Time for phase 2 = 0.430\n",
      "Time for phase 3 = 0.106\n",
      "Time for phase 4 = 0.008\n"
     ]
    },
    {
     "name": "stderr",
     "output_type": "stream",
     "text": [
      "\n"
     ]
    },
    {
     "name": "stdout",
     "output_type": "stream",
     "text": [
      "Time for phase 5 = 1.280\n",
      "Time for phase 6 = 0.001\n",
      "Time for phase 1 = 0.010\n"
     ]
    },
    {
     "name": "stderr",
     "output_type": "stream",
     "text": [
      "100%|██████████| 729/729 [00:00<00:00, 4464.29it/s]"
     ]
    },
    {
     "name": "stdout",
     "output_type": "stream",
     "text": [
      "Number of samples = 729\n",
      "Time for phase 2 = 0.519\n",
      "Time for phase 3 = 0.192\n"
     ]
    },
    {
     "name": "stderr",
     "output_type": "stream",
     "text": [
      "\n"
     ]
    },
    {
     "name": "stdout",
     "output_type": "stream",
     "text": [
      "Time for phase 4 = 0.015\n",
      "Time for phase 5 = 2.201\n",
      "Time for phase 6 = 0.001\n",
      "Time for phase 1 = 0.010\n"
     ]
    },
    {
     "name": "stderr",
     "output_type": "stream",
     "text": [
      "100%|██████████| 1000/1000 [00:00<00:00, 5868.68it/s]"
     ]
    },
    {
     "name": "stdout",
     "output_type": "stream",
     "text": [
      "Number of samples = 1000\n",
      "Time for phase 2 = 0.644\n"
     ]
    },
    {
     "name": "stderr",
     "output_type": "stream",
     "text": [
      "\n"
     ]
    },
    {
     "name": "stdout",
     "output_type": "stream",
     "text": [
      "Time for phase 3 = 0.203\n",
      "Time for phase 4 = 0.018\n",
      "Time for phase 5 = 3.657\n",
      "Time for phase 6 = 0.001\n",
      "Time for phase 1 = 0.011\n"
     ]
    },
    {
     "name": "stderr",
     "output_type": "stream",
     "text": [
      " 89%|████████▊ | 1181/1331 [00:00<00:00, 5912.09it/s]"
     ]
    },
    {
     "name": "stdout",
     "output_type": "stream",
     "text": [
      "Number of samples = 1331\n",
      "Time for phase 2 = 0.809\n"
     ]
    },
    {
     "name": "stderr",
     "output_type": "stream",
     "text": [
      "100%|██████████| 1331/1331 [00:00<00:00, 5859.77it/s]\n"
     ]
    },
    {
     "name": "stdout",
     "output_type": "stream",
     "text": [
      "Time for phase 3 = 0.272\n",
      "Time for phase 4 = 0.023\n",
      "Time for phase 5 = 6.329\n",
      "Time for phase 6 = 0.002\n",
      "Time for phase 1 = 0.011\n"
     ]
    },
    {
     "name": "stderr",
     "output_type": "stream",
     "text": [
      " 68%|██████▊   | 1180/1728 [00:00<00:00, 5902.33it/s]"
     ]
    },
    {
     "name": "stdout",
     "output_type": "stream",
     "text": [
      "Number of samples = 1728\n",
      "Time for phase 2 = 1.090\n"
     ]
    },
    {
     "name": "stderr",
     "output_type": "stream",
     "text": [
      "100%|██████████| 1728/1728 [00:00<00:00, 5902.85it/s]\n"
     ]
    },
    {
     "name": "stdout",
     "output_type": "stream",
     "text": [
      "Time for phase 3 = 0.351\n",
      "Time for phase 4 = 0.029\n",
      "Time for phase 5 = 9.810\n",
      "Time for phase 6 = 0.002\n",
      "Time for phase 1 = 0.011\n"
     ]
    },
    {
     "name": "stderr",
     "output_type": "stream",
     "text": [
      " 27%|██▋       | 592/2197 [00:00<00:00, 5916.15it/s]"
     ]
    },
    {
     "name": "stdout",
     "output_type": "stream",
     "text": [
      "Number of samples = 2197\n",
      "Time for phase 2 = 1.284\n"
     ]
    },
    {
     "name": "stderr",
     "output_type": "stream",
     "text": [
      "100%|██████████| 2197/2197 [00:00<00:00, 5937.13it/s]\n"
     ]
    },
    {
     "name": "stdout",
     "output_type": "stream",
     "text": [
      "Time for phase 3 = 0.445\n",
      "Time for phase 4 = 0.033\n",
      "Time for phase 5 = 15.612\n",
      "Time for phase 6 = 0.002\n",
      "Time for phase 1 = 0.010\n"
     ]
    },
    {
     "name": "stderr",
     "output_type": "stream",
     "text": [
      "\r\n",
      "  0%|          | 0/2744 [00:00<?, ?it/s]"
     ]
    },
    {
     "name": "stdout",
     "output_type": "stream",
     "text": [
      "Number of samples = 2744\n",
      "Time for phase 2 = 1.560\n"
     ]
    },
    {
     "name": "stderr",
     "output_type": "stream",
     "text": [
      "100%|██████████| 2744/2744 [00:00<00:00, 5545.71it/s]\n"
     ]
    },
    {
     "name": "stdout",
     "output_type": "stream",
     "text": [
      "Time for phase 3 = 0.637\n",
      "Time for phase 4 = 0.041\n",
      "Time for phase 5 = 23.805\n",
      "Time for phase 6 = 0.002\n",
      "Time for phase 1 = 0.011\n"
     ]
    },
    {
     "name": "stderr",
     "output_type": "stream",
     "text": [
      "\r\n",
      "  0%|          | 0/3375 [00:00<?, ?it/s]"
     ]
    },
    {
     "name": "stdout",
     "output_type": "stream",
     "text": [
      "Number of samples = 3375\n",
      "Time for phase 2 = 1.993\n"
     ]
    },
    {
     "name": "stderr",
     "output_type": "stream",
     "text": [
      "100%|██████████| 3375/3375 [00:00<00:00, 5548.56it/s]\n"
     ]
    },
    {
     "name": "stdout",
     "output_type": "stream",
     "text": [
      "Time for phase 3 = 0.724\n",
      "Time for phase 4 = 0.048\n",
      "Time for phase 5 = 37.364\n",
      "Time for phase 6 = 0.005\n",
      "Time for phase 1 = 0.013\n",
      "Number of samples = 4096\n",
      "Time for phase 2 = 2.655\n"
     ]
    },
    {
     "name": "stderr",
     "output_type": "stream",
     "text": [
      "100%|██████████| 4096/4096 [00:00<00:00, 5256.85it/s]\n"
     ]
    },
    {
     "name": "stdout",
     "output_type": "stream",
     "text": [
      "Time for phase 3 = 0.993\n",
      "Time for phase 4 = 0.113\n",
      "Time for phase 5 = 56.946\n",
      "Time for phase 6 = 0.005\n",
      "Time for phase 1 = 0.012\n",
      "Number of samples = 4913\n",
      "Time for phase 2 = 3.106\n"
     ]
    },
    {
     "name": "stderr",
     "output_type": "stream",
     "text": [
      "100%|██████████| 4913/4913 [00:00<00:00, 5553.91it/s]\n"
     ]
    },
    {
     "name": "stdout",
     "output_type": "stream",
     "text": [
      "Time for phase 3 = 1.113\n",
      "Time for phase 4 = 0.069\n",
      "Time for phase 5 = 82.249\n",
      "Time for phase 6 = 0.008\n",
      "Time for phase 1 = 0.013\n",
      "Number of samples = 5832\n",
      "Time for phase 2 = 3.835\n"
     ]
    },
    {
     "name": "stderr",
     "output_type": "stream",
     "text": [
      "100%|██████████| 5832/5832 [00:01<00:00, 4902.66it/s]\n"
     ]
    },
    {
     "name": "stdout",
     "output_type": "stream",
     "text": [
      "Time for phase 3 = 1.395\n",
      "Time for phase 4 = 0.140\n",
      "Time for phase 5 = 110.955\n",
      "Time for phase 6 = 0.004\n",
      "Time for phase 1 = 0.014\n",
      "Number of samples = 6859\n",
      "Time for phase 2 = 4.523\n"
     ]
    },
    {
     "name": "stderr",
     "output_type": "stream",
     "text": [
      "100%|██████████| 6859/6859 [00:01<00:00, 5997.21it/s]\n"
     ]
    },
    {
     "name": "stdout",
     "output_type": "stream",
     "text": [
      "Time for phase 3 = 1.416\n",
      "Time for phase 4 = 0.138\n",
      "Time for phase 5 = 157.775\n",
      "Time for phase 6 = 0.009\n",
      "Time for phase 1 = 0.013\n",
      "Number of samples = 8000\n",
      "Time for phase 2 = 5.506\n"
     ]
    },
    {
     "name": "stderr",
     "output_type": "stream",
     "text": [
      "100%|██████████| 8000/8000 [00:01<00:00, 5908.61it/s]\n"
     ]
    },
    {
     "name": "stdout",
     "output_type": "stream",
     "text": [
      "Time for phase 3 = 1.674\n",
      "Time for phase 4 = 0.106\n",
      "Time for phase 5 = 223.365\n",
      "Time for phase 6 = 0.010\n",
      "Time for phase 1 = 0.017\n",
      "Number of samples = 9261\n",
      "Time for phase 2 = 6.638\n"
     ]
    },
    {
     "name": "stderr",
     "output_type": "stream",
     "text": [
      "100%|██████████| 9261/9261 [00:01<00:00, 5866.64it/s]\n"
     ]
    },
    {
     "name": "stdout",
     "output_type": "stream",
     "text": [
      "Time for phase 3 = 2.014\n",
      "Time for phase 4 = 0.175\n",
      "Time for phase 5 = 305.590\n",
      "Time for phase 6 = 0.012\n"
     ]
    }
   ],
   "source": [
    "# Calculate the polynomial chaos expansion for a range of orders\n",
    "\n",
    "R = {}\n",
    "for pce_order in range(1, 21):\n",
    "    R[pce_order] = {}\n",
    "    (R[pce_order]['results_df'], \n",
    "     R[pce_order]['results'], \n",
    "     R[pce_order]['times'], \n",
    "     R[pce_order]['order'], \n",
    "     R[pce_order]['number_of_samples']) = run_campaign(pce_order=pce_order, use_files=False)"
   ]
  },
  {
   "cell_type": "code",
   "execution_count": 9,
   "metadata": {
    "ExecuteTime": {
     "end_time": "2021-06-07T15:00:53.741252Z",
     "start_time": "2021-06-07T15:00:53.565998Z"
    },
    "code_folding": [
     0
    ]
   },
   "outputs": [],
   "source": [
    "# save the results\n",
    "\n",
    "pickle.dump(R, open('collected_results.pickle','bw'))"
   ]
  },
  {
   "cell_type": "code",
   "execution_count": 10,
   "metadata": {
    "ExecuteTime": {
     "end_time": "2021-06-07T15:00:53.767105Z",
     "start_time": "2021-06-07T15:00:53.742000Z"
    },
    "code_folding": [
     0
    ]
   },
   "outputs": [
    {
     "data": {
      "text/html": [
       "<div>\n",
       "<style scoped>\n",
       "    .dataframe tbody tr th:only-of-type {\n",
       "        vertical-align: middle;\n",
       "    }\n",
       "\n",
       "    .dataframe tbody tr th {\n",
       "        vertical-align: top;\n",
       "    }\n",
       "\n",
       "    .dataframe thead th {\n",
       "        text-align: right;\n",
       "    }\n",
       "</style>\n",
       "<table border=\"1\" class=\"dataframe\">\n",
       "  <thead>\n",
       "    <tr style=\"text-align: right;\">\n",
       "      <th></th>\n",
       "      <th>Total</th>\n",
       "      <th>Phase 1</th>\n",
       "      <th>Phase 2</th>\n",
       "      <th>Phase 3</th>\n",
       "      <th>Phase 4</th>\n",
       "      <th>Phase 5</th>\n",
       "      <th>Phase 6</th>\n",
       "    </tr>\n",
       "  </thead>\n",
       "  <tbody>\n",
       "    <tr>\n",
       "      <th>1</th>\n",
       "      <td>0.116890</td>\n",
       "      <td>0.023561</td>\n",
       "      <td>0.047494</td>\n",
       "      <td>0.014364</td>\n",
       "      <td>0.004727</td>\n",
       "      <td>0.025145</td>\n",
       "      <td>0.001371</td>\n",
       "    </tr>\n",
       "    <tr>\n",
       "      <th>2</th>\n",
       "      <td>0.185215</td>\n",
       "      <td>0.008758</td>\n",
       "      <td>0.066634</td>\n",
       "      <td>0.010111</td>\n",
       "      <td>0.003107</td>\n",
       "      <td>0.095731</td>\n",
       "      <td>0.000704</td>\n",
       "    </tr>\n",
       "    <tr>\n",
       "      <th>3</th>\n",
       "      <td>0.299404</td>\n",
       "      <td>0.009978</td>\n",
       "      <td>0.110162</td>\n",
       "      <td>0.018265</td>\n",
       "      <td>0.003309</td>\n",
       "      <td>0.156721</td>\n",
       "      <td>0.000741</td>\n",
       "    </tr>\n",
       "    <tr>\n",
       "      <th>4</th>\n",
       "      <td>0.495586</td>\n",
       "      <td>0.010213</td>\n",
       "      <td>0.165519</td>\n",
       "      <td>0.031726</td>\n",
       "      <td>0.003938</td>\n",
       "      <td>0.283012</td>\n",
       "      <td>0.000999</td>\n",
       "    </tr>\n",
       "    <tr>\n",
       "      <th>5</th>\n",
       "      <td>0.744587</td>\n",
       "      <td>0.009684</td>\n",
       "      <td>0.211016</td>\n",
       "      <td>0.047231</td>\n",
       "      <td>0.004952</td>\n",
       "      <td>0.470695</td>\n",
       "      <td>0.000839</td>\n",
       "    </tr>\n",
       "    <tr>\n",
       "      <th>6</th>\n",
       "      <td>1.173968</td>\n",
       "      <td>0.009920</td>\n",
       "      <td>0.288732</td>\n",
       "      <td>0.073867</td>\n",
       "      <td>0.009684</td>\n",
       "      <td>0.790635</td>\n",
       "      <td>0.000920</td>\n",
       "    </tr>\n",
       "    <tr>\n",
       "      <th>7</th>\n",
       "      <td>1.835404</td>\n",
       "      <td>0.010054</td>\n",
       "      <td>0.429832</td>\n",
       "      <td>0.105503</td>\n",
       "      <td>0.008388</td>\n",
       "      <td>1.280335</td>\n",
       "      <td>0.001104</td>\n",
       "    </tr>\n",
       "    <tr>\n",
       "      <th>8</th>\n",
       "      <td>2.938434</td>\n",
       "      <td>0.009634</td>\n",
       "      <td>0.519347</td>\n",
       "      <td>0.192273</td>\n",
       "      <td>0.014560</td>\n",
       "      <td>2.201186</td>\n",
       "      <td>0.001187</td>\n",
       "    </tr>\n",
       "    <tr>\n",
       "      <th>9</th>\n",
       "      <td>4.534584</td>\n",
       "      <td>0.010474</td>\n",
       "      <td>0.644228</td>\n",
       "      <td>0.203496</td>\n",
       "      <td>0.017964</td>\n",
       "      <td>3.656723</td>\n",
       "      <td>0.001494</td>\n",
       "    </tr>\n",
       "    <tr>\n",
       "      <th>10</th>\n",
       "      <td>7.445591</td>\n",
       "      <td>0.010810</td>\n",
       "      <td>0.808591</td>\n",
       "      <td>0.271519</td>\n",
       "      <td>0.023036</td>\n",
       "      <td>6.329216</td>\n",
       "      <td>0.002161</td>\n",
       "    </tr>\n",
       "    <tr>\n",
       "      <th>11</th>\n",
       "      <td>11.292570</td>\n",
       "      <td>0.011003</td>\n",
       "      <td>1.089763</td>\n",
       "      <td>0.350840</td>\n",
       "      <td>0.029035</td>\n",
       "      <td>9.809949</td>\n",
       "      <td>0.001761</td>\n",
       "    </tr>\n",
       "    <tr>\n",
       "      <th>12</th>\n",
       "      <td>17.385803</td>\n",
       "      <td>0.010639</td>\n",
       "      <td>1.283676</td>\n",
       "      <td>0.444529</td>\n",
       "      <td>0.033065</td>\n",
       "      <td>15.611705</td>\n",
       "      <td>0.001973</td>\n",
       "    </tr>\n",
       "    <tr>\n",
       "      <th>13</th>\n",
       "      <td>26.056365</td>\n",
       "      <td>0.010442</td>\n",
       "      <td>1.560273</td>\n",
       "      <td>0.637003</td>\n",
       "      <td>0.040803</td>\n",
       "      <td>23.805225</td>\n",
       "      <td>0.002354</td>\n",
       "    </tr>\n",
       "    <tr>\n",
       "      <th>14</th>\n",
       "      <td>40.145358</td>\n",
       "      <td>0.010797</td>\n",
       "      <td>1.993433</td>\n",
       "      <td>0.723933</td>\n",
       "      <td>0.048491</td>\n",
       "      <td>37.363694</td>\n",
       "      <td>0.004593</td>\n",
       "    </tr>\n",
       "    <tr>\n",
       "      <th>15</th>\n",
       "      <td>60.726523</td>\n",
       "      <td>0.012818</td>\n",
       "      <td>2.655232</td>\n",
       "      <td>0.993164</td>\n",
       "      <td>0.113238</td>\n",
       "      <td>56.946401</td>\n",
       "      <td>0.005375</td>\n",
       "    </tr>\n",
       "    <tr>\n",
       "      <th>16</th>\n",
       "      <td>86.557181</td>\n",
       "      <td>0.011631</td>\n",
       "      <td>3.105801</td>\n",
       "      <td>1.112862</td>\n",
       "      <td>0.069075</td>\n",
       "      <td>82.249256</td>\n",
       "      <td>0.008064</td>\n",
       "    </tr>\n",
       "    <tr>\n",
       "      <th>17</th>\n",
       "      <td>116.342549</td>\n",
       "      <td>0.012975</td>\n",
       "      <td>3.834679</td>\n",
       "      <td>1.395318</td>\n",
       "      <td>0.139787</td>\n",
       "      <td>110.955148</td>\n",
       "      <td>0.004159</td>\n",
       "    </tr>\n",
       "    <tr>\n",
       "      <th>18</th>\n",
       "      <td>163.875194</td>\n",
       "      <td>0.013705</td>\n",
       "      <td>4.523433</td>\n",
       "      <td>1.415820</td>\n",
       "      <td>0.138397</td>\n",
       "      <td>157.774913</td>\n",
       "      <td>0.008706</td>\n",
       "    </tr>\n",
       "    <tr>\n",
       "      <th>19</th>\n",
       "      <td>230.674045</td>\n",
       "      <td>0.013140</td>\n",
       "      <td>5.505923</td>\n",
       "      <td>1.673861</td>\n",
       "      <td>0.105901</td>\n",
       "      <td>223.364799</td>\n",
       "      <td>0.010118</td>\n",
       "    </tr>\n",
       "    <tr>\n",
       "      <th>20</th>\n",
       "      <td>314.445961</td>\n",
       "      <td>0.016605</td>\n",
       "      <td>6.637682</td>\n",
       "      <td>2.013630</td>\n",
       "      <td>0.175227</td>\n",
       "      <td>305.590238</td>\n",
       "      <td>0.012095</td>\n",
       "    </tr>\n",
       "  </tbody>\n",
       "</table>\n",
       "</div>"
      ],
      "text/plain": [
       "         Total   Phase 1   Phase 2   Phase 3   Phase 4     Phase 5   Phase 6\n",
       "1     0.116890  0.023561  0.047494  0.014364  0.004727    0.025145  0.001371\n",
       "2     0.185215  0.008758  0.066634  0.010111  0.003107    0.095731  0.000704\n",
       "3     0.299404  0.009978  0.110162  0.018265  0.003309    0.156721  0.000741\n",
       "4     0.495586  0.010213  0.165519  0.031726  0.003938    0.283012  0.000999\n",
       "5     0.744587  0.009684  0.211016  0.047231  0.004952    0.470695  0.000839\n",
       "6     1.173968  0.009920  0.288732  0.073867  0.009684    0.790635  0.000920\n",
       "7     1.835404  0.010054  0.429832  0.105503  0.008388    1.280335  0.001104\n",
       "8     2.938434  0.009634  0.519347  0.192273  0.014560    2.201186  0.001187\n",
       "9     4.534584  0.010474  0.644228  0.203496  0.017964    3.656723  0.001494\n",
       "10    7.445591  0.010810  0.808591  0.271519  0.023036    6.329216  0.002161\n",
       "11   11.292570  0.011003  1.089763  0.350840  0.029035    9.809949  0.001761\n",
       "12   17.385803  0.010639  1.283676  0.444529  0.033065   15.611705  0.001973\n",
       "13   26.056365  0.010442  1.560273  0.637003  0.040803   23.805225  0.002354\n",
       "14   40.145358  0.010797  1.993433  0.723933  0.048491   37.363694  0.004593\n",
       "15   60.726523  0.012818  2.655232  0.993164  0.113238   56.946401  0.005375\n",
       "16   86.557181  0.011631  3.105801  1.112862  0.069075   82.249256  0.008064\n",
       "17  116.342549  0.012975  3.834679  1.395318  0.139787  110.955148  0.004159\n",
       "18  163.875194  0.013705  4.523433  1.415820  0.138397  157.774913  0.008706\n",
       "19  230.674045  0.013140  5.505923  1.673861  0.105901  223.364799  0.010118\n",
       "20  314.445961  0.016605  6.637682  2.013630  0.175227  305.590238  0.012095"
      ]
     },
     "metadata": {},
     "output_type": "display_data"
    }
   ],
   "source": [
    "# produce a table of the time taken for various phases\n",
    "# the phases are:\n",
    "#   1: creation of campaign\n",
    "#   2: creation of samples\n",
    "#   3: running the cases\n",
    "#   4: calculation of statistics including Sobols\n",
    "#   5: returning of analysed results\n",
    "#   6: saving campaign and pickled results\n",
    "\n",
    "Timings = pd.DataFrame(np.array([R[r]['times'] for r in list(R.keys())]), \n",
    "             columns=['Total', 'Phase 1', 'Phase 2', 'Phase 3', 'Phase 4', 'Phase 5', 'Phase 6'], \n",
    "             index=[R[r]['order'] for r in list(R.keys())])\n",
    "Timings.to_csv(open('Timings.csv', 'w'))\n",
    "display(Timings)"
   ]
  },
  {
   "cell_type": "code",
   "execution_count": 11,
   "metadata": {
    "ExecuteTime": {
     "end_time": "2021-06-07T15:00:54.334136Z",
     "start_time": "2021-06-07T15:00:53.767797Z"
    },
    "code_folding": [
     0
    ]
   },
   "outputs": [
    {
     "data": {
      "image/png": "[encoded data removed]",
      "text/plain": [
       "<Figure size 432x288 with 1 Axes>"
      ]
     },
     "metadata": {
      "needs_background": "light"
     },
     "output_type": "display_data"
    }
   ],
   "source": [
    "# plot the convergence of the mean and standard deviation to that of the highest order\n",
    "\n",
    "mean_analytic = exact['expectation']\n",
    "std_analytic = np.sqrt(exact['variance'])\n",
    "\n",
    "O = [R[r]['order'] for r in list(R.keys())]\n",
    "plt.figure()\n",
    "plt.semilogy([o for o in O], \n",
    "             [np.abs(R[o]['results'].describe('Ishigami', 'mean') - mean_analytic) for o in O],\n",
    "             'o-', label='mean')\n",
    "plt.semilogy([o for o in O], \n",
    "             [np.abs(R[o]['results'].describe('Ishigami', 'std') - std_analytic) for o in O],\n",
    "             'o-', label='std')\n",
    "plt.xlabel('PCE order')\n",
    "plt.ylabel('RMSerror compared to analytic')\n",
    "plt.legend(loc=0)\n",
    "plt.savefig('Convergence_mean_std.png')\n",
    "plt.savefig('Convergence_mean_std.pdf')"
   ]
  },
  {
   "cell_type": "code",
   "execution_count": 12,
   "metadata": {
    "ExecuteTime": {
     "end_time": "2021-06-07T15:00:54.659620Z",
     "start_time": "2021-06-07T15:00:54.336357Z"
    },
    "code_folding": [
     0
    ]
   },
   "outputs": [
    {
     "data": {
      "image/png": "[encoded data removed]",
      "text/plain": [
       "<Figure size 432x288 with 1 Axes>"
      ]
     },
     "metadata": {
      "needs_background": "light"
     },
     "output_type": "display_data"
    }
   ],
   "source": [
    "# plot the convergence of the first sobol to that of the highest order\n",
    "\n",
    "sobol_first_exact = {'x1': exact['S1'], 'x2': exact['S2'], 'x3': exact['S3']}\n",
    "\n",
    "O = [R[r]['order'] for r in list(R.keys())]\n",
    "plt.figure()\n",
    "for v in list(R[O[0]]['results'].sobols_first('Ishigami').keys()):\n",
    "    plt.semilogy([o for o in O],\n",
    "                 [np.abs(R[o]['results'].sobols_first('Ishigami')[v] - sobol_first_exact[v]) for o in O],\n",
    "                 'o-',\n",
    "                 label=v)\n",
    "plt.xlabel('PCE order')\n",
    "plt.ylabel('ABSerror for 1st sobol compared to analytic')\n",
    "plt.legend(loc=0)\n",
    "plt.savefig('Convergence_sobol_first.png')\n",
    "plt.savefig('Convergence_sobol_first.pdf')"
   ]
  },
  {
   "cell_type": "code",
   "execution_count": 13,
   "metadata": {
    "ExecuteTime": {
     "end_time": "2021-06-07T15:00:54.981382Z",
     "start_time": "2021-06-07T15:00:54.660545Z"
    },
    "code_folding": [
     0
    ]
   },
   "outputs": [
    {
     "data": {
      "image/png": "[encoded data removed]",
      "text/plain": [
       "<Figure size 432x288 with 1 Axes>"
      ]
     },
     "metadata": {
      "needs_background": "light"
     },
     "output_type": "display_data"
    }
   ],
   "source": [
    "# plot the convergence of the total sobol to that of the highest order\n",
    "\n",
    "sobol_total_exact = {'x1': exact['ST1'], 'x2': exact['ST2'], 'x3': exact['ST3']}\n",
    "\n",
    "O = [R[r]['order'] for r in list(R.keys())]\n",
    "plt.figure()\n",
    "for v in list(R[O[0]]['results'].sobols_total('Ishigami').keys()):\n",
    "    plt.semilogy([o for o in O],\n",
    "                 [np.abs(R[o]['results'].sobols_total('Ishigami')[v] - sobol_total_exact[v]) for o in O],\n",
    "                 'o-',\n",
    "                 label=v)\n",
    "plt.xlabel('PCE order')\n",
    "plt.ylabel('ABSerror for total sobol compared to analytic')\n",
    "plt.legend(loc=0)\n",
    "plt.savefig('Convergence_sobol_total.png')\n",
    "plt.savefig('Convergence_sobol_total.pdf')"
   ]
  },
  {
   "cell_type": "code",
   "execution_count": 14,
   "metadata": {
    "ExecuteTime": {
     "end_time": "2021-06-07T15:00:55.183083Z",
     "start_time": "2021-06-07T15:00:54.982223Z"
    },
    "code_folding": [
     0
    ]
   },
   "outputs": [
    {
     "data": {
      "image/png": "[encoded data removed]",
      "text/plain": [
       "<Figure size 432x288 with 1 Axes>"
      ]
     },
     "metadata": {
      "needs_background": "light"
     },
     "output_type": "display_data"
    }
   ],
   "source": [
    "# Plot the distribution function\n",
    "\n",
    "results_df = R[O[-1]]['results_df']\n",
    "results = R[O[-1]]['results']\n",
    "Ishigami_dist = results.raw_data['output_distributions']['Ishigami']\n",
    "\n",
    "plt.figure()\n",
    "plt.hist(results_df.Ishigami[0], density=True, bins=50, label='histogram of raw samples', alpha=0.25)\n",
    "if hasattr(Ishigami_dist, 'samples'):\n",
    "    plt.hist(Ishigami_dist.samples[0], density=True, bins=50, label='histogram of kde samples', alpha=0.25)\n",
    "t1 = Ishigami_dist[0]\n",
    "plt.plot(np.linspace(t1.lower, t1.upper), t1.pdf(np.linspace(t1.lower,t1.upper)), label='PDF')\n",
    "plt.legend(loc=0)\n",
    "plt.xlabel('Ishigami')\n",
    "plt.savefig('Ishigami_distribution_function.png')"
   ]
  },
  {
   "cell_type": "code",
   "execution_count": 15,
   "metadata": {
    "ExecuteTime": {
     "end_time": "2021-06-07T15:00:56.691840Z",
     "start_time": "2021-06-07T15:00:55.183929Z"
    },
    "code_folding": [
     0
    ]
   },
   "outputs": [
    {
     "data": {
      "image/png": "[encoded data removed]",
      "text/plain": [
       "<Figure size 432x288 with 1 Axes>"
      ]
     },
     "metadata": {
      "needs_background": "light"
     },
     "output_type": "display_data"
    }
   ],
   "source": [
    "# plot the RMS surrogate error at the PCE vary points\n",
    "_o = []\n",
    "_RMS = []\n",
    "for r in R.values():\n",
    "    results_df = r['results_df']\n",
    "    results = r['results']\n",
    "    Ishigami_surrogate = np.squeeze(np.array(results.surrogate()(results_df[results.inputs])['Ishigami']))\n",
    "    Ishigami_samples = np.squeeze(np.array(results_df['Ishigami']))\n",
    "    _RMS.append((np.sqrt((((Ishigami_surrogate - Ishigami_samples))**2).mean())))\n",
    "    _o.append(r['order'])\n",
    "\n",
    "plt.figure()\n",
    "plt.semilogy(_o, _RMS, 'o-')\n",
    "plt.xlabel('PCE order')\n",
    "plt.ylabel('RMS error for the PCE surrogate')\n",
    "plt.legend(loc=0)\n",
    "plt.savefig('Convergence_surrogate.png')\n",
    "plt.savefig('Convergence_surrogate.pdf')"
   ]
  },
  {
   "cell_type": "code",
   "execution_count": 16,
   "metadata": {
    "ExecuteTime": {
     "end_time": "2021-06-07T15:00:57.570463Z",
     "start_time": "2021-06-07T15:00:56.693196Z"
    },
    "code_folding": [
     0
    ]
   },
   "outputs": [
    {
     "name": "stderr",
     "output_type": "stream",
     "text": [
      "100%|██████████| 1000/1000 [00:00<00:00, 5818.48it/s]\n"
     ]
    }
   ],
   "source": [
    "# prepare the test data\n",
    "test_campaign = uq.Campaign(name='Ishigami.')        \n",
    "test_campaign.add_app(name=\"Ishigami\", params=define_params(), \n",
    "                      actions=uq.actions.Actions(uq.actions.ExecutePython(run_ishigami_model)))\n",
    "test_campaign.set_sampler(uq.sampling.quasirandom.LHCSampler(vary=define_vary(), count=100))\n",
    "test_campaign.execute(nsamples=1000, sequential=True).collate(progress_bar=True)\n",
    "test_df = test_campaign.get_collation_result()"
   ]
  },
  {
   "cell_type": "code",
   "execution_count": 17,
   "metadata": {
    "ExecuteTime": {
     "end_time": "2021-06-07T15:00:57.870125Z",
     "start_time": "2021-06-07T15:00:57.571271Z"
    },
    "code_folding": [
     0
    ]
   },
   "outputs": [],
   "source": [
    "# calculate the PCE surrogates\n",
    "test_points = test_df[test_campaign.get_active_sampler().vary.get_keys()]\n",
    "test_results = np.squeeze(test_df['Ishigami'].values)\n",
    "test_predictions = {}\n",
    "for i in list(R.keys()):\n",
    "    test_predictions[i] = np.squeeze(np.array(R[i]['results'].surrogate()(test_points)['Ishigami']))"
   ]
  },
  {
   "cell_type": "code",
   "execution_count": 18,
   "metadata": {
    "ExecuteTime": {
     "end_time": "2021-06-07T15:00:58.048248Z",
     "start_time": "2021-06-07T15:00:57.870961Z"
    },
    "code_folding": [
     0
    ]
   },
   "outputs": [
    {
     "data": {
      "image/png": "[encoded data removed]",
      "text/plain": [
       "<Figure size 432x288 with 1 Axes>"
      ]
     },
     "metadata": {
      "needs_background": "light"
     },
     "output_type": "display_data"
    }
   ],
   "source": [
    "# plot the convergence of the surrogate\n",
    "_o = []\n",
    "_RMS = []\n",
    "for r in R.values():\n",
    "    _RMS.append((np.sqrt((((test_predictions[r['order']] - test_results))**2).mean())))\n",
    "    _o.append(r['order'])\n",
    "\n",
    "plt.figure()\n",
    "plt.semilogy(_o, _RMS, 'o-')\n",
    "plt.xlabel('PCE order')\n",
    "plt.ylabel('RMS error for the PCE surrogate')\n",
    "plt.legend(loc=0)\n",
    "plt.savefig('Convergence_PCE_surrogate.png')\n",
    "plt.savefig('Convergence_PCE_surrogate.pdf')"
   ]
  },
  {
   "cell_type": "code",
   "execution_count": null,
   "metadata": {},
   "outputs": [],
   "source": []
  }
 ],
 "metadata": {
  "jupytext": {
   "cell_metadata_filter": "-all",
   "executable": " /usr/bin/env python",
   "main_language": "python",
   "notebook_metadata_filter": "-all"
  },
  "kernelspec": {
   "display_name": "Python 3",
   "language": "python",
   "name": "python3"
  },
  "language_info": {
   "codemirror_mode": {
    "name": "ipython",
    "version": 3
   },
   "file_extension": ".py",
   "mimetype": "text/x-python",
   "name": "python",
   "nbconvert_exporter": "python",
   "pygments_lexer": "ipython3",
   "version": "3.9.4"
  },
  "latex_envs": {
   "LaTeX_envs_menu_present": true,
   "autoclose": false,
   "autocomplete": true,
   "bibliofile": "biblio.bib",
   "cite_by": "apalike",
   "current_citInitial": 1,
   "eqLabelWithNumbers": true,
   "eqNumInitial": 1,
   "hotkeys": {
    "equation": "Ctrl-E",
    "itemize": "Ctrl-I"
   },
   "labels_anchors": false,
   "latex_user_defs": false,
   "report_style_numbering": false,
   "user_envs_cfg": false
  }
 },
 "nbformat": 4,
 "nbformat_minor": 4
}
