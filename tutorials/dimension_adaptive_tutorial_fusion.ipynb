{
 "cells": [
  {
   "attachments": {},
   "cell_type": "markdown",
   "metadata": {},
   "source": [
    "# Dimension adaptive sampling tutorial\n",
    "\n",
    "Here, briefly describe the concept behind dimension-adaptive sparse grids, starting from a standard Stochastic Collocation (SC) campaign. Following this, a dimension-adaptive EasyVVUQ script using a simple analytic test function is presented. We will assume you are familiar with the basics of EasyVVUQ.\n",
    "\n",
    "## Standard SC\n",
    "\n",
    "In a standard EasyVVUQ Campaign, a Stochastic Collocation sampler object might be created via::\n",
    "\n",
    "```python\n",
    "sampler = uq.sampling.SCSampler(vary=vary, polynomial_order=2)\n",
    "```\n",
    "Here the specified `polynomial_order`, and the number of inputs in `vary`, determining the number of samples, which increases exponentially fast with an increasing amount of inputs. This\n",
    "is the so-called *curse of dimensionality*. \n",
    "\n",
    "Basically, by setting `polynomial_order=2` we create a sampling plan through a single tensor product of one-dimensional quadrature nodes with order 3 for every input. It is this tensor product construction that leads to the exponential rise in cost. So if we have 2 inputs `x1` and `x2`, and our one-dimensional quadrature rule of order 2 produces 5 points, we obtain a total of 25 points in the `(x1, x2)` domain. Likewise, if `vary` contains 3 inputs, we would need to evaluate the computational model 125 times, and 10 inputs would require `5**10 = 9765625` model evaluations. For this reason, a standard SC campaign is rarely used beyond 6 or 7 inputs.\n",
    "\n",
    "## Sparse SC\n",
    "Sparse grids, on the other hand, do not create a single tensor product but build the sampling plan from the ground up by using a *linear combination of tensor products involving 1D quadrature rules of* ***different*** *orders*. \n",
    "\n",
    "For two inputs, we might for instance consider using 1D quadrature rules of order [0, 0], [0, 1] and [1, 0], where:\n",
    "\n",
    "    * [0, 0]: a single point in the 2D domain (x1, x2)\n",
    "    * [0, 1]: a line of 3 points with constant x1\n",
    "    * [1, 0]: a line of 3 points with constant x2\n",
    "\n",
    "In the case of sparse grids, it is common to select a *nested* quadrature rule. This means that the quadrature\n",
    "rule of order p contains all points of the same rule of order p-1. When taking the linear combinations, a nested rule ensures that many points will coincide, which yields efficient sampling \n",
    "plans, especially in higher dimensions. If our nested 1D rule of order 1 and 2 generate the points [0.5] and [0, 0.5, 1] we obtain a sampling plan consisting of\n",
    "\n",
    "    * [0, 0]: [0.5, 0.5]\n",
    "    * [0, 1]: [0.5, 0.0], [0.5, 0.5], [0.5, 1.0]\n",
    "    * [1, 0]: [0.0, 0.5], [0.5, 0.5], [1.0, 0.5],\n",
    "\n",
    "which gives a total of 5 unique points, compared to a corresponding standard SC campaign with [1, 1], which would generate 9 unique points (`[0, 0.5, 1] x [0, 0.5, 1.0]`). Note that sparse grids do **not** circumvent the curse of dimensionality, although they can postpone its effect to higher dimensions.\n",
    "\n",
    "## Dimension-adaptive SC\n",
    "\n",
    "What we described above is an *isotropic* sparse grid, since the multi indices `[0, 0], [1, 0], [0,1]` result in a sampling plan where both inputs end up with the same number of samples. However, in practice model parameters are rarely equally important. The idea behind dimension-adaptive sampling is to build the sampling plan iteratively, find out which (combination of) parameters are important as we go, and then place more samples along those directions. This results in an anisotropic sampling plan, where the important inputs get a relatively high number of samples. To find out which directions are important we need an appropriate error measure, and we need to split the quadrature order multi indices in an *accepted* and an *admissible* set. The accepted set is initialized to `[0, 0]` in 2D, i.e. we start with just a single code evaluation. Without going into detail, we can think of the admissible set as the candidate refinement directions, from which we must add a single entry to the accepted set at every iteration.\n",
    "\n",
    "In our 2D example, at the 1st iteration, the candidate set consists of `[1, 0]` and `[0, 1]`. That is, we can either refine only `x1` or only `x2`. We must select the multi-index which generates the highest error when added to the accepted set. There are a variety of error measures, the two main ones in EasyVVUQ are:\n",
    "\n",
    "1. the hierarchical surplus error, and\n",
    "2. a variance-based error.\n",
    "\n",
    "Roughly speaking, the surplus is an interpolation-based error, which measures the difference between the code output and the corresponding SC polynomial surrogate, when evaluated at new sample locations. The variance-based error selects the direction in which the variance in the output changes the most. For more information, we refer to the references below.\n",
    "\n",
    "Assume that `[1, 0]` generated the highest error, and so it is added to the accepted set, now consisting of `[0, 0]` and `[1, 0]`. This means that `x1` has more points than `x2`. Also, adding a multi-index to the accepted set means that the admissible set changes. In this case, since `[1, 0]` has been accepted, `[2, 0]` has become admissible. Note that the new entry `[2, 0]` also requires new evaluations of the code, so a new ensemble must be submitted. Again, if we use a nested rule, the grid of `[2, 0]` will have partial overlap with the accepted points, so we only have to evaluate the code at the new points, *not* all points of `[2, 0]`.\n",
    "\n",
    "Thus, the admissible set now consists of `[0, 1]` and `[2, 0]`. Hence, we now have the option of refining `x1` again (to the second order) or refining `x2` to the first order. Assume the latter happens. As both `x1` and `x2` have been refined to 1st order, `[1, 1]` has become admissible. If accepted, this multi-index results in a *simultaneous* refinement of both `x1` and `x2`. Note that `[1, 1]` represents a tensor product and that therefore it is not the same as `[1, 0]` and `[0, 1]` taken together. We added this example to show that the algorithm is not limited to one-at-a-time refinement.\n",
    "\n",
    "To conclude, every time a multi-index is accepted, new indices become admissible, and the cycle repeats.\n",
    "\n",
    "## References\n",
    "\n",
    "Our description of the method here was rather limited, so for more information and applications of this (and similar) methods, see the following references:\n",
    "\n",
    "* T. Gerstner  and M. Griebel. \"Dimension–adaptive tensor–product quadrature.\" Computing 71.1 (2003): 65-87.\n",
    "* W. Edeling, H. Arabnejad, R. Sinclair, D. Suleimenova, K. Gopalakrishnan, B. Bosak, D. Groen, I. Mahmood, D. Crommelin, and Peter V Coveney, \"The Impact of Uncertainty on Predictions of the CovidSim Epidemiological Code\", Nature Computational Science, 1 (2), 2021.\n",
    "* D. Loukrezis, U. Römer, and H. De Gersem. \"Assessing the performance of Leja and Clenshaw-Curtis collocation for computational electromagnetics with random input data\". International Journal for Uncertainty Quantification, 9(1), 2019.\n",
    "* J.D. Jakeman, M.S. Eldred, G. Geraci, and A. Gorodetsky. \"Adaptive multi-index collocation for uncertainty quantification and sensitivity analysis\". Numerical Methods in Engineering, 121(6):1314-1343, 2020."
   ]
  },
  {
   "cell_type": "code",
   "execution_count": 1,
   "metadata": {
    "ExecuteTime": {
     "end_time": "2021-07-28T07:15:12.765233Z",
     "start_time": "2021-07-28T07:14:00.969965Z"
    },
    "code_folding": []
   },
   "outputs": [],
   "source": [
    "# import packages that we will use\n",
    "\n",
    "import os\n",
    "import easyvvuq as uq\n",
    "import chaospy as cp\n",
    "import pickle\n",
    "import time\n",
    "import numpy as np\n",
    "import pandas as pd\n",
    "import matplotlib\n",
    "if not os.getenv(\"DISPLAY\"): matplotlib.use('Agg')\n",
    "import matplotlib.pylab as plt\n",
    "from IPython.display import display\n",
    "%matplotlib inline\n",
    "#%matplotlib notebook"
   ]
  },
  {
   "cell_type": "code",
   "execution_count": 2,
   "metadata": {
    "ExecuteTime": {
     "end_time": "2021-07-28T07:15:15.783395Z",
     "start_time": "2021-07-28T07:15:12.768522Z"
    },
    "code_folding": [
     0
    ]
   },
   "outputs": [],
   "source": [
    "# we need fipy -- install if not already available\n",
    "\n",
    "try:\n",
    "    import fipy\n",
    "except ModuleNotFoundError:\n",
    "    ! pip install future\n",
    "    ! pip install fipy\n",
    "    import fipy"
   ]
  },
  {
   "cell_type": "code",
   "execution_count": 3,
   "metadata": {
    "ExecuteTime": {
     "end_time": "2021-07-28T07:15:15.791865Z",
     "start_time": "2021-07-28T07:15:15.787001Z"
    },
    "code_folding": [
     0
    ]
   },
   "outputs": [],
   "source": [
    "# routine to write out (if needed) the fusion .template file\n",
    "\n",
    "def write_template(params):\n",
    "    str = \"\"\n",
    "    first = True\n",
    "    for k in params.keys():\n",
    "        if first:\n",
    "            str += '{\"%s\": \"$%s\"' % (k,k) ; first = False\n",
    "        else:\n",
    "            str += ', \"%s\": \"$%s\"' % (k,k)\n",
    "    str += '}'\n",
    "    print(str, file=open('fusion.template','w'))"
   ]
  },
  {
   "cell_type": "code",
   "execution_count": 4,
   "metadata": {
    "ExecuteTime": {
     "end_time": "2021-07-28T07:15:15.829622Z",
     "start_time": "2021-07-28T07:15:15.794481Z"
    },
    "code_folding": [
     0
    ]
   },
   "outputs": [],
   "source": [
    "# define parameters of the fusion model\n",
    "def define_params():\n",
    "    return {\n",
    "        \"Qe_tot\":   {\"type\": \"float\",   \"min\": 1.0e6, \"max\": 50.0e6, \"default\": 2e6},\n",
    "        \"H0\":       {\"type\": \"float\",   \"min\": 0.00,  \"max\": 1.0,    \"default\": 0},\n",
    "        \"Hw\":       {\"type\": \"float\",   \"min\": 0.01,  \"max\": 100.0,  \"default\": 0.1},\n",
    "        \"Te_bc\":    {\"type\": \"float\",   \"min\": 10.0,  \"max\": 1000.0, \"default\": 100},\n",
    "        \"chi\":      {\"type\": \"float\",   \"min\": 0.01,  \"max\": 100.0,  \"default\": 1},\n",
    "        \"a0\":       {\"type\": \"float\",   \"min\": 0.2,   \"max\": 10.0,   \"default\": 1},\n",
    "        \"R0\":       {\"type\": \"float\",   \"min\": 0.5,   \"max\": 20.0,   \"default\": 3},\n",
    "        \"E0\":       {\"type\": \"float\",   \"min\": 1.0,   \"max\": 10.0,   \"default\": 1.5},\n",
    "        \"b_pos\":    {\"type\": \"float\",   \"min\": 0.95,  \"max\": 0.99,   \"default\": 0.98},\n",
    "        \"b_height\": {\"type\": \"float\",   \"min\": 3e19,  \"max\": 10e19,  \"default\": 6e19},\n",
    "        \"b_sol\":    {\"type\": \"float\",   \"min\": 2e18,  \"max\": 3e19,   \"default\": 2e19},\n",
    "        \"b_width\":  {\"type\": \"float\",   \"min\": 0.005, \"max\": 0.025,  \"default\": 0.01},\n",
    "        \"b_slope\":  {\"type\": \"float\",   \"min\": 0.0,   \"max\": 0.05,   \"default\": 0.01},\n",
    "        \"nr\":       {\"type\": \"integer\", \"min\": 10,    \"max\": 1000,   \"default\": 100},\n",
    "        \"dt\":       {\"type\": \"float\",   \"min\": 1e-3,  \"max\": 1e3,    \"default\": 100},\n",
    "        \"out_file\": {\"type\": \"string\",  \"default\": \"output.csv\"}\n",
    "    }"
   ]
  },
  {
   "cell_type": "code",
   "execution_count": 5,
   "metadata": {
    "ExecuteTime": {
     "end_time": "2021-07-28T07:15:15.875454Z",
     "start_time": "2021-07-28T07:15:15.831921Z"
    },
    "code_folding": [
     0,
     2,
     17,
     21,
     28
    ]
   },
   "outputs": [],
   "source": [
    "# define varying quantities\n",
    "def define_vary():\n",
    "    vary_all = {\n",
    "        \"Qe_tot\":   cp.Uniform(1.8e6, 2.2e6),\n",
    "        \"H0\":       cp.Uniform(0.0,   0.2),\n",
    "        \"Hw\":       cp.Uniform(0.1,   0.5),\n",
    "        \"chi\":      cp.Uniform(0.8,   1.2),\n",
    "        \"Te_bc\":    cp.Uniform(80.0,  120.0),\n",
    "        \"a0\":       cp.Uniform(0.9,   1.1),\n",
    "        \"R0\":       cp.Uniform(2.7,   3.3),\n",
    "        \"E0\":       cp.Uniform(1.4,   1.6),\n",
    "        \"b_pos\":    cp.Uniform(0.95,  0.99),\n",
    "        \"b_height\": cp.Uniform(5e19,  7e19),\n",
    "        \"b_sol\":    cp.Uniform(1e19,  3e19),\n",
    "        \"b_width\":  cp.Uniform(0.015, 0.025),\n",
    "        \"b_slope\":  cp.Uniform(0.005, 0.020)\n",
    "    }\n",
    "    vary_2 =  {\n",
    "        \"Qe_tot\":   cp.Uniform(1.8e6, 2.2e6),\n",
    "        \"Te_bc\":    cp.Uniform(80.0,  120.0)\n",
    "    }\n",
    "    vary_5 =  {\n",
    "        \"Qe_tot\":   cp.Uniform(1.8e6, 2.2e6),\n",
    "        \"H0\":       cp.Uniform(0.0,   0.2),\n",
    "        \"Hw\":       cp.Uniform(0.1,   0.5),\n",
    "        \"chi\":      cp.Uniform(0.8,   1.2),\n",
    "        \"Te_bc\":    cp.Uniform(80.0,  120.0)\n",
    "    }\n",
    "    vary_10 = {\n",
    "        \"Qe_tot\":   cp.Uniform(1.8e6, 2.2e6),\n",
    "        \"H0\":       cp.Uniform(0.0,   0.2),\n",
    "        \"Hw\":       cp.Uniform(0.1,   0.5),\n",
    "        \"chi\":      cp.Uniform(0.8,   1.2),\n",
    "        \"Te_bc\":    cp.Uniform(80.0,  120.0),\n",
    "        \"b_pos\":    cp.Uniform(0.95,  0.99),\n",
    "        \"b_height\": cp.Uniform(5e19,  7e19),\n",
    "        \"b_sol\":    cp.Uniform(1e19,  3e19),\n",
    "        \"b_width\":  cp.Uniform(0.015, 0.025),\n",
    "        \"b_slope\":  cp.Uniform(0.005, 0.020)\n",
    "    }\n",
    "    return vary_10"
   ]
  },
  {
   "cell_type": "code",
   "execution_count": 6,
   "metadata": {
    "ExecuteTime": {
     "end_time": "2021-07-28T07:15:15.893653Z",
     "start_time": "2021-07-28T07:15:15.877392Z"
    },
    "code_folding": [
     0
    ]
   },
   "outputs": [],
   "source": [
    "# define a model to run the fusion code directly from python, expecting a dictionary and returning a dictionary\n",
    "def run_fusion_model(input):\n",
    "    import json\n",
    "    import fusion\n",
    "    qois = [\"te\", \"ne\", \"rho\", \"rho_norm\"]\n",
    "    del input['out_file']\n",
    "    return {q: v for q,v in zip(qois, [t.tolist() for t in fusion.solve_Te(**input, plots=False, output=False)])}"
   ]
  },
  {
   "cell_type": "code",
   "execution_count": 7,
   "metadata": {
    "ExecuteTime": {
     "end_time": "2021-07-28T07:15:15.922179Z",
     "start_time": "2021-07-28T07:15:15.895535Z"
    },
    "code_folding": [
     0,
     24,
     46,
     58,
     72,
     84
    ]
   },
   "outputs": [],
   "source": [
    "# routines for plotting the results\n",
    "\n",
    "def plot_Te(results, title=None):\n",
    "    # plot the calculated Te: mean, with std deviation, 1, 10, 90 and 99%\n",
    "    plt.figure()\n",
    "    rho = results.describe('rho', 'mean')\n",
    "    plt.plot(rho, results.describe('te', 'mean'), 'b-', label='Mean')\n",
    "    plt.plot(rho, results.describe('te', 'mean')-results.describe('te', 'std'), 'b--', label='+1 std deviation')\n",
    "    plt.plot(rho, results.describe('te', 'mean')+results.describe('te', 'std'), 'b--')\n",
    "    plt.fill_between(rho, results.describe('te', 'mean')-results.describe('te', 'std'), results.describe('te', 'mean')+results.describe('te', 'std'), color='b', alpha=0.2)\n",
    "    try:\n",
    "        plt.plot(rho, results.describe('te', '10%'), 'b:', label='10 and 90 percentiles')\n",
    "        plt.plot(rho, results.describe('te', '90%'), 'b:')\n",
    "        plt.fill_between(rho, results.describe('te', '10%'), results.describe('te', '90%'), color='b', alpha=0.1)\n",
    "        plt.fill_between(rho, results.describe('te', '1%'), results.describe('te', '99%'), color='b', alpha=0.05)\n",
    "    except:\n",
    "        print('Problem with some of the percentiles')\n",
    "    plt.legend(loc=0)\n",
    "    plt.xlabel('rho [$m$]')\n",
    "    plt.ylabel('Te [$eV$]')\n",
    "    if not title is None: plt.title(title)\n",
    "    plt.savefig('Te.png')\n",
    "    plt.savefig('Te.pdf')\n",
    "\n",
    "def plot_ne(results, title=None):\n",
    "    # plot the calculated ne: mean, with std deviation, 1, 10, 90 and 99%\n",
    "    plt.figure()\n",
    "    rho = results.describe('rho', 'mean')\n",
    "    plt.plot(rho, results.describe('ne', 'mean'), 'b-', label='Mean')\n",
    "    plt.plot(rho, results.describe('ne', 'mean')-results.describe('ne', 'std'), 'b--', label='+1 std deviation')\n",
    "    plt.plot(rho, results.describe('ne', 'mean')+results.describe('ne', 'std'), 'b--')\n",
    "    plt.fill_between(rho, results.describe('ne', 'mean')-results.describe('ne', 'std'), results.describe('ne', 'mean')+results.describe('ne', 'std'), color='b', alpha=0.2)\n",
    "    try:\n",
    "        plt.plot(rho, results.describe('ne', '10%'), 'b:', label='10 and 90 percentiles')\n",
    "        plt.plot(rho, results.describe('ne', '90%'), 'b:')\n",
    "        plt.fill_between(rho, results.describe('ne', '10%'), results.describe('ne', '90%'), color='b', alpha=0.1)\n",
    "        plt.fill_between(rho, results.describe('ne', '1%'), results.describe('ne', '99%'), color='b', alpha=0.05)\n",
    "    except:\n",
    "        print('Problem with some of the percentiles')\n",
    "    plt.legend(loc=0)\n",
    "    plt.xlabel('rho [$m$]')\n",
    "    plt.ylabel('ne [$m^{-3}$]')\n",
    "    if not title is None: plt.title(title)\n",
    "    plt.savefig('ne.png')\n",
    "    plt.savefig('ne.pdf')\n",
    "\n",
    "def plot_sobols_first(results, title=None, field='te'):\n",
    "    # plot the first Sobol results\n",
    "    plt.figure()\n",
    "    rho = results.describe('rho', 'mean')\n",
    "    for k in results.sobols_first()[field].keys(): plt.plot(rho, results.sobols_first()[field][k], label=k)\n",
    "    plt.legend(loc=0)\n",
    "    plt.xlabel('rho [$m$]')\n",
    "    plt.ylabel('sobols_first')\n",
    "    if not title is None: plt.title(field + ': ' + title)\n",
    "    plt.savefig('sobols_first_%s.png' % (field))\n",
    "    plt.savefig('sobols_first_%s.pdf' % (field))\n",
    "\n",
    "def plot_sobols_second(results, title=None, field='te'):\n",
    "    # plot the second Sobol results\n",
    "    plt.figure()\n",
    "    rho = results.describe('rho', 'mean')\n",
    "    for k1 in results.sobols_second()[field].keys():\n",
    "        for k2 in results.sobols_second()[field][k1].keys():\n",
    "            plt.plot(rho, results.sobols_second()[field][k1][k2], label=k1+'/'+k2)\n",
    "    plt.legend(loc=0, ncol=2)\n",
    "    plt.xlabel('rho [$m$]')\n",
    "    plt.ylabel('sobols_second')\n",
    "    if not title is None: plt.title(field + ': ' + title)\n",
    "    plt.savefig('sobols_second_%s.png' % (field))\n",
    "    plt.savefig('sobols_second_%s.pdf' % (field))\n",
    "\n",
    "def plot_sobols_total(results, title=None, field='te'):\n",
    "    # plot the total Sobol results\n",
    "    plt.figure()\n",
    "    rho = results.describe('rho', 'mean')\n",
    "    for k in results.sobols_total()[field].keys(): plt.plot(rho, results.sobols_total()[field][k], label=k)\n",
    "    plt.legend(loc=0)\n",
    "    plt.xlabel('rho [$m$]')\n",
    "    plt.ylabel('sobols_total')\n",
    "    if not title is None: plt.title(field + ': ' + title)\n",
    "    plt.savefig('sobols_total_%s.png' % (field))\n",
    "    plt.savefig('sobols_total_%s.pdf' % (field))\n",
    "\n",
    "def plot_distribution(results, results_df, title=None):\n",
    "    te_dist = results.raw_data['output_distributions']['te']\n",
    "    rho_norm = results.describe('rho_norm', 'mean')\n",
    "    for i in [np.maximum(0, int(i-1)) \n",
    "              for i in np.linspace(0,1,5) * rho_norm.shape]:\n",
    "        plt.figure()\n",
    "        pdf_raw_samples = cp.GaussianKDE(results_df.te[i])\n",
    "        pdf_kde_samples = cp.GaussianKDE(te_dist.samples[i])\n",
    "        plt.hist(results_df.te[i], density=True, bins=50, label='histogram of raw samples', alpha=0.25)\n",
    "        if hasattr(te_dist, 'samples'):\n",
    "            plt.hist(te_dist.samples[i], density=True, bins=50, label='histogram of kde samples', alpha=0.25)\n",
    "\n",
    "        plt.plot(np.linspace(pdf_raw_samples.lower, pdf_raw_samples.upper), pdf_raw_samples.pdf(np.linspace(pdf_raw_samples.lower, pdf_raw_samples.upper)), label='PDF (raw samples)')\n",
    "        plt.plot(np.linspace(pdf_kde_samples.lower, pdf_kde_samples.upper), pdf_kde_samples.pdf(np.linspace(pdf_kde_samples.lower, pdf_kde_samples.upper)), label='PDF (kde samples)')\n",
    "\n",
    "        plt.legend(loc=0)\n",
    "        plt.xlabel('Te [$eV$]')\n",
    "        if title is None:\n",
    "            plt.title('Distributions for rho_norm = %0.4f' % (rho_norm[i]))\n",
    "        else:\n",
    "            plt.title('%s\\nDistributions for rho_norm = %0.4f' % (title, rho_norm[i]))\n",
    "        plt.savefig('distribution_function_rho_norm=%0.4f.png' % (rho_norm[i]))\n",
    "        plt.savefig('distribution_function_rho_norm=%0.4f.pdf' % (rho_norm[i]))"
   ]
  },
  {
   "cell_type": "code",
   "execution_count": 8,
   "metadata": {
    "ExecuteTime": {
     "end_time": "2021-07-28T07:16:52.826350Z",
     "start_time": "2021-07-28T07:15:15.925442Z"
    },
    "code_folding": [
     0
    ]
   },
   "outputs": [
    {
     "name": "stderr",
     "output_type": "stream",
     "text": [
      "100%|██████████| 1000/1000 [01:29<00:00, 11.21it/s]\n"
     ]
    }
   ],
   "source": [
    "# prepare the test data\n",
    "\n",
    "if __name__ == '__main__':\n",
    "\n",
    "    test_campaign = uq.Campaign(name='fusion_pce.')        \n",
    "\n",
    "    # Add the app (automatically set as current app)\n",
    "    test_campaign.add_app(name=\"fusion\", params=define_params(), \n",
    "                          actions=uq.actions.Actions(uq.actions.ExecutePython(run_fusion_model)))\n",
    "\n",
    "    # Associate a sampler with the campaign\n",
    "    test_campaign.set_sampler(uq.sampling.quasirandom.LHCSampler(vary=define_vary(), count=100))\n",
    "\n",
    "    # Perform the actions\n",
    "    test_campaign.execute(nsamples=1000).collate(progress_bar=True)\n",
    "\n",
    "    # Collate the results\n",
    "    test_df = test_campaign.get_collation_result()"
   ]
  },
  {
   "cell_type": "code",
   "execution_count": 9,
   "metadata": {
    "ExecuteTime": {
     "end_time": "2021-07-28T07:16:52.832816Z",
     "start_time": "2021-07-28T07:16:52.828698Z"
    },
    "code_folding": [
     0
    ]
   },
   "outputs": [],
   "source": [
    "# calculate the SC surrogates\n",
    "def test_surrogate():\n",
    "    test_points = np.array(test_df[test_campaign.get_active_sampler().vary.get_keys()])\n",
    "    test_results = test_df['te'].values\n",
    "    test_predictions = np.array([analysis.surrogate('te', tp) for tp in np.array(test_points)])\n",
    "    frms = np.sqrt(((test_predictions - test_results)**2).mean(axis=0)) / test_results.mean(axis=0)\n",
    "    return frms.mean(), frms "
   ]
  },
  {
   "cell_type": "code",
   "execution_count": 10,
   "metadata": {
    "ExecuteTime": {
     "end_time": "2021-07-28T07:16:54.948167Z",
     "start_time": "2021-07-28T07:16:52.834504Z"
    },
    "code_folding": [
     0,
     8,
     31,
     48,
     61,
     91
    ]
   },
   "outputs": [
    {
     "name": "stderr",
     "output_type": "stream",
     "text": [
      "\r\n",
      "  0%|          | 0/1 [00:00<?, ?it/s]"
     ]
    },
    {
     "name": "stdout",
     "output_type": "stream",
     "text": [
      "Time for phase 1 = 0.025\n",
      "Number of samples = 1\n",
      "Time for phase 2 = 0.039\n"
     ]
    },
    {
     "name": "stderr",
     "output_type": "stream",
     "text": [
      "100%|██████████| 1/1 [00:00<00:00,  1.73it/s]\n"
     ]
    },
    {
     "name": "stdout",
     "output_type": "stream",
     "text": [
      "Time for phase 3 = 0.591\n",
      "Time for phase 4 = 0.033\n"
     ]
    },
    {
     "name": "stderr",
     "output_type": "stream",
     "text": [
      "/toks/scratch/dpc/GIT/EasyVVUQ/env/lib/python3.8/site-packages/easyvvuq-0.9.3+138.gcde288ec-py3.8.egg/easyvvuq/analysis/sc_analysis.py:1097: RuntimeWarning: invalid value encountered in true_divide\n",
      "  S_u[u] = D_u[u] / D\n"
     ]
    },
    {
     "name": "stdout",
     "output_type": "stream",
     "text": [
      "Time for phase 5 = 0.412\n",
      "Time for phase 6 = 0.980\n"
     ]
    }
   ],
   "source": [
    "# routine to run a SC campaign\n",
    "\n",
    "#def run_sc_case(sc_order=2, local=True, dask=True, batch_size=os.cpu_count(), use_files=True):\n",
    "    \n",
    "if __name__ == '__main__':\n",
    "    \n",
    "    sc_order=2; local=True; dask=False; batch_size=os.cpu_count(); use_files=True\n",
    "\n",
    "    if dask:\n",
    "        if local:\n",
    "            print('Running locally')\n",
    "            import multiprocessing.popen_spawn_posix\n",
    "            from dask.distributed import Client, LocalCluster\n",
    "            cluster = LocalCluster(threads_per_worker=1)\n",
    "            client = Client(cluster) # processes=True, threads_per_worker=1)\n",
    "        else:\n",
    "            print('Running using SLURM')\n",
    "            from dask.distributed import Client\n",
    "            from dask_jobqueue import SLURMCluster\n",
    "            cluster = SLURMCluster(\n",
    "                job_extra=['--qos=p.tok.openmp.2h', '--mail-type=end', '--mail-user=dpc@rzg.mpg.de', '-t 2:00:00'], \n",
    "                queue='p.tok.openmp', \n",
    "                cores=8, \n",
    "                memory='8 GB',\n",
    "                processes=8)\n",
    "            cluster.scale(32)\n",
    "            print(cluster)\n",
    "            print(cluster.job_script())\n",
    "            client = Client(cluster)\n",
    "        print(client)\n",
    "\n",
    "    else:\n",
    "        import concurrent.futures\n",
    "#        client = concurrent.futures.ProcessPoolExecutor(max_workers=batch_size)\n",
    "        client = concurrent.futures.ThreadPoolExecutor(max_workers=batch_size)\n",
    "#        client = None\n",
    "    \n",
    "    times = np.zeros(7)\n",
    "\n",
    "    time_start = time.time()\n",
    "    time_start_whole = time_start\n",
    "    # Set up a fresh campaign called \"fusion_sc.\"\n",
    "    my_campaign = uq.Campaign(name='fusion_sc_adaptive.')        \n",
    "\n",
    "    # Define parameter space\n",
    "    params = define_params()\n",
    "\n",
    "    # Create an encoder and decoder for sc test app\n",
    "    if use_files:\n",
    "        encoder = uq.encoders.GenericEncoder(template_fname='fusion.template',\n",
    "                                             delimiter='$',\n",
    "                                             target_filename='fusion_in.json')\n",
    "\n",
    "\n",
    "        decoder = uq.decoders.SimpleCSV(target_filename=\"output.csv\",\n",
    "                                        output_columns=[\"te\", \"ne\", \"rho\", \"rho_norm\"])\n",
    "\n",
    "        execute = uq.actions.ExecuteLocal('python3 %s/fusion_model.py fusion_in.json' % (os.getcwd()))\n",
    "\n",
    "        actions = uq.actions.Actions(uq.actions.CreateRunDirectory('/tmp'), \n",
    "                                     uq.actions.Encode(encoder), execute, uq.actions.Decode(decoder))\n",
    "    else:\n",
    "        actions = uq.actions.Actions(uq.actions.ExecutePython(run_fusion_model))\n",
    "\n",
    "\n",
    "    # Add the app (automatically set as current app)\n",
    "    my_campaign.add_app(name=\"fusion\", params=params, actions=actions)\n",
    "\n",
    "    time_end = time.time()\n",
    "    times[1] = time_end-time_start\n",
    "    print('Time for phase 1 = %.3f' % (times[1]))\n",
    "\n",
    "    time_start = time.time()\n",
    "    # Associate a sampler with the campaign\n",
    "    sampler = uq.sampling.SCSampler(vary=define_vary(), polynomial_order=1,\n",
    "                                quadrature_rule=\"C\",\n",
    "                                sparse=True, growth=True,\n",
    "                                midpoint_level1=True,\n",
    "                                dimension_adaptive=True)\n",
    "    my_campaign.set_sampler(sampler)\n",
    "    my_campaign.draw_samples()\n",
    "    print('Number of samples = %s' % my_campaign.get_active_sampler().count)\n",
    "\n",
    "    time_end = time.time()\n",
    "    times[2] = time_end-time_start\n",
    "    print('Time for phase 2 = %.3f' % (times[2]))\n",
    "\n",
    "    time_start = time.time()\n",
    "    # Perform the actions\n",
    "    my_campaign.execute(pool=client).collate(progress_bar=True)\n",
    "\n",
    "    if dask:\n",
    "        client.close()\n",
    "        client.shutdown()\n",
    "\n",
    "    time_end = time.time()\n",
    "    times[3] = time_end-time_start\n",
    "    print('Time for phase 3 = %.3f' % (times[3]))\n",
    "\n",
    "    time_start = time.time()\n",
    "    # Collate the results\n",
    "    results_df = my_campaign.get_collation_result()\n",
    "\n",
    "    time_end = time.time()\n",
    "    times[4] = time_end-time_start\n",
    "    print('Time for phase 4 = %.3f' % (times[4]))\n",
    "\n",
    "    time_start = time.time()\n",
    "    # Post-processing analysis\n",
    "    qoi_cols = [\"te\", \"ne\", \"rho\", \"rho_norm\"]\n",
    "    results = my_campaign.analyse(qoi_cols=qoi_cols)\n",
    "\n",
    "    time_end = time.time()\n",
    "    times[5] = time_end-time_start\n",
    "    print('Time for phase 5 = %.3f' % (times[5]))\n",
    "\n",
    "    time_start = time.time()\n",
    "    # Save the results\n",
    "    pickle.dump(results, open('fusion_results.pickle','bw'))\n",
    "    time_end = time.time()\n",
    "    times[6] = time_end-time_start\n",
    "    print('Time for phase 6 = %.3f' % (times[6]))\n",
    "\n",
    "    times[0] = time_end - time_start_whole\n",
    "\n",
    "    #return results_df, results, times, sc_order, my_campaign.get_active_sampler().count"
   ]
  },
  {
   "cell_type": "code",
   "execution_count": 11,
   "metadata": {
    "ExecuteTime": {
     "end_time": "2021-07-28T07:16:55.156476Z",
     "start_time": "2021-07-28T07:16:54.950416Z"
    }
   },
   "outputs": [
    {
     "name": "stderr",
     "output_type": "stream",
     "text": [
      "/toks/scratch/dpc/GIT/EasyVVUQ/env/lib/python3.8/site-packages/easyvvuq-0.9.3+138.gcde288ec-py3.8.egg/easyvvuq/analysis/sc_analysis.py:1097: RuntimeWarning: invalid value encountered in true_divide\n",
      "  S_u[u] = D_u[u] / D\n"
     ]
    }
   ],
   "source": [
    "analysis = uq.analysis.SCAnalysis(sampler=sampler, qoi_cols=qoi_cols)\n",
    "my_campaign.apply_analysis(analysis)"
   ]
  },
  {
   "cell_type": "code",
   "execution_count": 12,
   "metadata": {
    "ExecuteTime": {
     "end_time": "2021-07-28T07:16:55.160818Z",
     "start_time": "2021-07-28T07:16:55.158196Z"
    }
   },
   "outputs": [],
   "source": [
    "S = []"
   ]
  },
  {
   "cell_type": "code",
   "execution_count": 13,
   "metadata": {
    "ExecuteTime": {
     "end_time": "2021-07-28T07:16:55.279185Z",
     "start_time": "2021-07-28T07:16:55.162485Z"
    }
   },
   "outputs": [],
   "source": [
    "frms_mean, frms = test_surrogate()\n",
    "S.append([frms_mean, frms])"
   ]
  },
  {
   "cell_type": "code",
   "execution_count": 14,
   "metadata": {
    "ExecuteTime": {
     "end_time": "2021-07-28T07:16:55.287432Z",
     "start_time": "2021-07-28T07:16:55.280993Z"
    }
   },
   "outputs": [
    {
     "data": {
      "text/plain": [
       "array([[1, 1, 1, 1, 1, 1, 1, 1, 1, 1]])"
      ]
     },
     "execution_count": 14,
     "metadata": {},
     "output_type": "execute_result"
    }
   ],
   "source": [
    "analysis.l_norm"
   ]
  },
  {
   "attachments": {},
   "cell_type": "markdown",
   "metadata": {},
   "source": [
    "A standard SC (or PCE) campaign would be over at this point. Except we have thus far only sampled a single point in the stochastic domain. To show this, we define the following function to plot 2D slices of the *accepted* points in the 20-dimensional input space. The `analysis.l_norm` array contains the accepted multi indices."
   ]
  },
  {
   "cell_type": "code",
   "execution_count": 15,
   "metadata": {
    "ExecuteTime": {
     "end_time": "2021-07-28T07:16:55.319574Z",
     "start_time": "2021-07-28T07:16:55.288862Z"
    },
    "code_folding": [
     0
    ]
   },
   "outputs": [],
   "source": [
    "def plot_te(analysis):\n",
    "    te_mean, te_std = analysis.get_moments('te')[0], np.sqrt(analysis.get_moments('te')[1])\n",
    "    rho_mean, rho_std = analysis.get_moments('rho')[0], np.sqrt(analysis.get_moments('rho')[1])\n",
    "    plt.figure()\n",
    "    rho = rho_mean\n",
    "    plt.plot(rho, te_mean, 'b-', label='Mean')\n",
    "    plt.plot(rho, te_mean-te_std, 'b--', label='+1 std deviation')\n",
    "    plt.plot(rho, te_mean+te_std, 'b--')\n",
    "    plt.fill_between(rho, te_mean-te_std, te_mean+te_std, color='b', alpha=0.2)\n",
    "    plt.legend(loc=0)\n",
    "    plt.xlabel('rho [$m$]')\n",
    "    plt.ylabel('Te [$eV$]')"
   ]
  },
  {
   "cell_type": "code",
   "execution_count": 16,
   "metadata": {
    "ExecuteTime": {
     "end_time": "2021-07-28T07:16:56.495141Z",
     "start_time": "2021-07-28T07:16:55.321244Z"
    }
   },
   "outputs": [
    {
     "data": {
      "image/png": "[encoded data removed]",
      "text/plain": [
       "<Figure size 432x288 with 1 Axes>"
      ]
     },
     "metadata": {
      "needs_background": "light"
     },
     "output_type": "display_data"
    }
   ],
   "source": [
    "plot_te(analysis)"
   ]
  },
  {
   "cell_type": "code",
   "execution_count": 17,
   "metadata": {
    "ExecuteTime": {
     "end_time": "2021-07-28T07:16:56.508336Z",
     "start_time": "2021-07-28T07:16:56.496774Z"
    },
    "code_folding": []
   },
   "outputs": [],
   "source": [
    "def plot_grid_2D():\n",
    "\n",
    "    labels = list(my_campaign.get_active_sampler().vary.get_keys())\n",
    "    values = list(my_campaign.get_active_sampler().vary.get_values())\n",
    "    L = (len(labels)+1)//2\n",
    "    C = int(np.ceil(np.sqrt((10+1)//2)))\n",
    "    R = int(np.ceil(L / C))\n",
    "\n",
    "    fig = plt.figure(figsize=[12,12/C*R])\n",
    "    \n",
    "    ax=[]\n",
    "    ic=0\n",
    "    for i in range(L-1):\n",
    "        xd = values[ic*2].upper[0] - values[ic*2].lower[0]\n",
    "        yd = values[ic*2+1].upper[0] - values[ic*2+1].lower[0]\n",
    "        ax.append(fig.add_subplot(R, C, ic+1,\n",
    "                                  xlim=[values[ic*2].lower[0] - xd/10, values[ic*2].upper[0] + xd/10],\n",
    "                                  ylim=[values[ic*2+1].lower[0] - yd/10, values[ic*2+1].upper[0] + yd/10], \n",
    "                                  xlabel=labels[ic*2], ylabel=labels[ic*2+1])\n",
    "                 )\n",
    "        ic += 1\n",
    "\n",
    "    xd = values[ic*2].upper[0] - values[ic*2].lower[0]\n",
    "    yd = values[ic*2+1].upper[0] - values[ic*2+1].lower[0]\n",
    "    ax.append(fig.add_subplot(R, C, ic+1,\n",
    "                              xlim=[values[-2].lower[0] - xd/10, values[-2].upper[0] + xd/10], \n",
    "                              ylim=[values[-1].lower[0] - yd/10, values[-1].upper[0] + yd/10], \n",
    "                              xlabel=labels[-2], ylabel=labels[-1])\n",
    "             )\n",
    "\n",
    "    accepted_grid = sampler.generate_grid(analysis.l_norm)\n",
    "\n",
    "    ic=0\n",
    "    for i in range(L-1):\n",
    "        ax[i].plot(accepted_grid[:,ic*2], accepted_grid[:,ic*2+1], 'o', alpha=0.25)\n",
    "        ic += 1\n",
    "    ax[-1].plot(accepted_grid[:,-2], accepted_grid[:,-1], 'o', alpha=0.25)\n",
    "    \n",
    "    plt.tight_layout()"
   ]
  },
  {
   "cell_type": "code",
   "execution_count": 18,
   "metadata": {
    "ExecuteTime": {
     "end_time": "2021-07-28T07:16:57.448223Z",
     "start_time": "2021-07-28T07:16:56.509834Z"
    }
   },
   "outputs": [
    {
     "data": {
      "image/png": "[encoded data removed]",
      "text/plain": [
       "<Figure size 864x576 with 5 Axes>"
      ]
     },
     "metadata": {
      "needs_background": "light"
     },
     "output_type": "display_data"
    }
   ],
   "source": [
    "plot_grid_2D()"
   ]
  },
  {
   "attachments": {},
   "cell_type": "markdown",
   "metadata": {},
   "source": [
    "To refine the sampling plan, we need to:\n",
    "\n",
    "* Compute the candidate directions of the admissible set. This is done in the `look_ahead` subroutine.\n",
    "* Run the ensemble of the new points. This is done the same as before.\n",
    "* Accept the direction with the highest error. This is done in the `adapt_dimension` subroutine."
   ]
  },
  {
   "cell_type": "code",
   "execution_count": 19,
   "metadata": {
    "ExecuteTime": {
     "end_time": "2021-07-28T07:16:57.454383Z",
     "start_time": "2021-07-28T07:16:57.450263Z"
    },
    "code_folding": [
     0
    ]
   },
   "outputs": [],
   "source": [
    "def refine_sampling_plan(number_of_refinements):\n",
    "        \"\"\"\n",
    "        Refine the sampling plan.\n",
    "\n",
    "        Parameters\n",
    "        ----------\n",
    "        number_of_refinements (int)\n",
    "           The number of refinement iterations that must be performed.\n",
    "\n",
    "        Returns\n",
    "        -------\n",
    "        None. The new accepted indices are stored in analysis.l_norm and the admissible indices\n",
    "        in sampler.admissible_idx.\n",
    "        \"\"\"\n",
    "        for i in range(number_of_refinements):\n",
    "            # compute the admissible indices\n",
    "            sampler.look_ahead(analysis.l_norm)\n",
    "\n",
    "            # run the ensemble\n",
    "            my_campaign.execute().collate(progress_bar=True)\n",
    "\n",
    "            # accept one of the multi indices of the new admissible set\n",
    "            data_frame = my_campaign.get_collation_result()\n",
    "            analysis.adapt_dimension('te', data_frame)"
   ]
  },
  {
   "cell_type": "markdown",
   "metadata": {},
   "source": [
    "Note that the subroutine above uses the surplus error by default. To select the variance-based error use `analysis.adapt_dimension('f', data_frame, method='var')` instead."
   ]
  },
  {
   "cell_type": "code",
   "execution_count": 20,
   "metadata": {
    "ExecuteTime": {
     "end_time": "2021-07-28T07:17:02.461632Z",
     "start_time": "2021-07-28T07:16:57.456206Z"
    }
   },
   "outputs": [
    {
     "name": "stderr",
     "output_type": "stream",
     "text": [
      "100%|██████████| 20/20 [00:02<00:00,  9.90it/s]\n"
     ]
    }
   ],
   "source": [
    "# refine the sampling plan once and then do the analysis to see the results.\n",
    "refine_sampling_plan(1)\n",
    "my_campaign.apply_analysis(analysis)"
   ]
  },
  {
   "cell_type": "code",
   "execution_count": 21,
   "metadata": {
    "ExecuteTime": {
     "end_time": "2021-07-28T07:17:02.899907Z",
     "start_time": "2021-07-28T07:17:02.464451Z"
    }
   },
   "outputs": [],
   "source": [
    "frms_mean, frms = test_surrogate()\n",
    "S.append([frms_mean, frms])"
   ]
  },
  {
   "cell_type": "code",
   "execution_count": 22,
   "metadata": {
    "ExecuteTime": {
     "end_time": "2021-07-28T07:17:02.906543Z",
     "start_time": "2021-07-28T07:17:02.902104Z"
    }
   },
   "outputs": [
    {
     "data": {
      "text/plain": [
       "array([[1, 1, 1, 1, 1, 1, 1, 1, 1, 1],\n",
       "       [1, 1, 2, 1, 1, 1, 1, 1, 1, 1]])"
      ]
     },
     "execution_count": 22,
     "metadata": {},
     "output_type": "execute_result"
    }
   ],
   "source": [
    "analysis.l_norm"
   ]
  },
  {
   "cell_type": "code",
   "execution_count": 23,
   "metadata": {
    "ExecuteTime": {
     "end_time": "2021-07-28T07:17:03.145205Z",
     "start_time": "2021-07-28T07:17:02.911832Z"
    }
   },
   "outputs": [
    {
     "data": {
      "image/png": "[encoded data removed]",
      "text/plain": [
       "<Figure size 432x288 with 1 Axes>"
      ]
     },
     "metadata": {
      "needs_background": "light"
     },
     "output_type": "display_data"
    }
   ],
   "source": [
    "plot_te(analysis)"
   ]
  },
  {
   "cell_type": "code",
   "execution_count": 24,
   "metadata": {
    "ExecuteTime": {
     "end_time": "2021-07-28T07:17:03.996821Z",
     "start_time": "2021-07-28T07:17:03.147125Z"
    }
   },
   "outputs": [
    {
     "data": {
      "image/png": "[encoded data removed]",
      "text/plain": [
       "<Figure size 864x576 with 5 Axes>"
      ]
     },
     "metadata": {
      "needs_background": "light"
     },
     "output_type": "display_data"
    }
   ],
   "source": [
    "# plot the 2D slices again. Note that the most important input (Hw) got refined.\n",
    "plot_grid_2D()"
   ]
  },
  {
   "cell_type": "code",
   "execution_count": 25,
   "metadata": {
    "ExecuteTime": {
     "end_time": "2021-07-28T07:17:06.643327Z",
     "start_time": "2021-07-28T07:17:03.998400Z"
    }
   },
   "outputs": [
    {
     "name": "stderr",
     "output_type": "stream",
     "text": [
      "100%|██████████| 2/2 [00:00<00:00,  3.00it/s]\n"
     ]
    }
   ],
   "source": [
    "# repeat\n",
    "refine_sampling_plan(1)\n",
    "my_campaign.apply_analysis(analysis)"
   ]
  },
  {
   "cell_type": "code",
   "execution_count": 26,
   "metadata": {
    "ExecuteTime": {
     "end_time": "2021-07-28T07:17:07.379725Z",
     "start_time": "2021-07-28T07:17:06.645258Z"
    }
   },
   "outputs": [],
   "source": [
    "frms_mean, frms = test_surrogate()\n",
    "S.append([frms_mean, frms])"
   ]
  },
  {
   "cell_type": "code",
   "execution_count": 27,
   "metadata": {
    "ExecuteTime": {
     "end_time": "2021-07-28T07:17:07.597607Z",
     "start_time": "2021-07-28T07:17:07.382795Z"
    }
   },
   "outputs": [
    {
     "data": {
      "image/png": "[encoded data removed]",
      "text/plain": [
       "<Figure size 432x288 with 1 Axes>"
      ]
     },
     "metadata": {
      "needs_background": "light"
     },
     "output_type": "display_data"
    }
   ],
   "source": [
    "plot_te(analysis)"
   ]
  },
  {
   "cell_type": "code",
   "execution_count": 28,
   "metadata": {
    "ExecuteTime": {
     "end_time": "2021-07-28T07:17:08.446110Z",
     "start_time": "2021-07-28T07:17:07.599407Z"
    }
   },
   "outputs": [
    {
     "data": {
      "image/png": "[encoded data removed]",
      "text/plain": [
       "<Figure size 864x576 with 5 Axes>"
      ]
     },
     "metadata": {
      "needs_background": "light"
     },
     "output_type": "display_data"
    }
   ],
   "source": [
    "# Now chi got refined. \n",
    "plot_grid_2D()"
   ]
  },
  {
   "cell_type": "code",
   "execution_count": 29,
   "metadata": {
    "ExecuteTime": {
     "end_time": "2021-07-28T07:17:10.756335Z",
     "start_time": "2021-07-28T07:17:08.448185Z"
    }
   },
   "outputs": [
    {
     "name": "stderr",
     "output_type": "stream",
     "text": [
      "100%|██████████| 6/6 [00:01<00:00,  5.94it/s]\n"
     ]
    }
   ],
   "source": [
    "# again\n",
    "refine_sampling_plan(1)\n",
    "my_campaign.apply_analysis(analysis)"
   ]
  },
  {
   "cell_type": "code",
   "execution_count": 30,
   "metadata": {
    "ExecuteTime": {
     "end_time": "2021-07-28T07:17:11.652020Z",
     "start_time": "2021-07-28T07:17:10.758848Z"
    }
   },
   "outputs": [],
   "source": [
    "frms_mean, frms = test_surrogate()\n",
    "S.append([frms_mean, frms])"
   ]
  },
  {
   "cell_type": "code",
   "execution_count": 31,
   "metadata": {
    "ExecuteTime": {
     "end_time": "2021-07-28T07:17:11.863091Z",
     "start_time": "2021-07-28T07:17:11.654203Z"
    }
   },
   "outputs": [
    {
     "data": {
      "image/png": "[encoded data removed]",
      "text/plain": [
       "<Figure size 432x288 with 1 Axes>"
      ]
     },
     "metadata": {
      "needs_background": "light"
     },
     "output_type": "display_data"
    }
   ],
   "source": [
    "plot_te(analysis)"
   ]
  },
  {
   "cell_type": "code",
   "execution_count": 32,
   "metadata": {
    "ExecuteTime": {
     "end_time": "2021-07-28T07:17:12.928893Z",
     "start_time": "2021-07-28T07:17:11.865069Z"
    }
   },
   "outputs": [
    {
     "data": {
      "image/png": "[encoded data removed]",
      "text/plain": [
       "<Figure size 864x576 with 5 Axes>"
      ]
     },
     "metadata": {
      "needs_background": "light"
     },
     "output_type": "display_data"
    }
   ],
   "source": [
    "# now H0 got refined to first order\n",
    "plot_grid_2D()"
   ]
  },
  {
   "cell_type": "code",
   "execution_count": 33,
   "metadata": {
    "ExecuteTime": {
     "end_time": "2021-07-28T12:46:40.932128Z",
     "start_time": "2021-07-28T07:17:12.931191Z"
    }
   },
   "outputs": [
    {
     "name": "stderr",
     "output_type": "stream",
     "text": [
      "\r\n",
      "  0%|          | 0/10 [00:00<?, ?it/s]"
     ]
    },
    {
     "name": "stdout",
     "output_type": "stream",
     "text": [
      "0/100\n"
     ]
    },
    {
     "name": "stderr",
     "output_type": "stream",
     "text": [
      "100%|██████████| 10/10 [00:01<00:00,  8.10it/s]\n"
     ]
    },
    {
     "name": "stdout",
     "output_type": "stream",
     "text": [
      "1/100\n"
     ]
    },
    {
     "name": "stderr",
     "output_type": "stream",
     "text": [
      "100%|██████████| 14/14 [00:01<00:00,  9.05it/s]\n",
      "0it [00:00, ?it/s]"
     ]
    },
    {
     "name": "stdout",
     "output_type": "stream",
     "text": [
      "2/100\n"
     ]
    },
    {
     "name": "stderr",
     "output_type": "stream",
     "text": [
      "\n"
     ]
    },
    {
     "name": "stdout",
     "output_type": "stream",
     "text": [
      "3/100\n"
     ]
    },
    {
     "name": "stderr",
     "output_type": "stream",
     "text": [
      "100%|██████████| 18/18 [00:01<00:00,  9.85it/s]\n",
      "0it [00:00, ?it/s]"
     ]
    },
    {
     "name": "stdout",
     "output_type": "stream",
     "text": [
      "4/100\n"
     ]
    },
    {
     "name": "stderr",
     "output_type": "stream",
     "text": [
      "\n",
      "0it [00:00, ?it/s]"
     ]
    },
    {
     "name": "stdout",
     "output_type": "stream",
     "text": [
      "5/100\n"
     ]
    },
    {
     "name": "stderr",
     "output_type": "stream",
     "text": [
      "\n",
      "0it [00:00, ?it/s]"
     ]
    },
    {
     "name": "stdout",
     "output_type": "stream",
     "text": [
      "6/100\n"
     ]
    },
    {
     "name": "stderr",
     "output_type": "stream",
     "text": [
      "\n",
      "  0%|          | 0/8 [00:00<?, ?it/s]"
     ]
    },
    {
     "name": "stdout",
     "output_type": "stream",
     "text": [
      "7/100\n"
     ]
    },
    {
     "name": "stderr",
     "output_type": "stream",
     "text": [
      "100%|██████████| 8/8 [00:01<00:00,  7.80it/s]\n"
     ]
    },
    {
     "name": "stdout",
     "output_type": "stream",
     "text": [
      "8/100\n"
     ]
    },
    {
     "name": "stderr",
     "output_type": "stream",
     "text": [
      "100%|██████████| 8/8 [00:01<00:00,  6.80it/s]\n",
      "0it [00:00, ?it/s]"
     ]
    },
    {
     "name": "stdout",
     "output_type": "stream",
     "text": [
      "9/100\n"
     ]
    },
    {
     "name": "stderr",
     "output_type": "stream",
     "text": [
      "\n"
     ]
    },
    {
     "name": "stdout",
     "output_type": "stream",
     "text": [
      "10/100\n"
     ]
    },
    {
     "name": "stderr",
     "output_type": "stream",
     "text": [
      "100%|██████████| 22/22 [00:02<00:00,  9.35it/s]\n"
     ]
    },
    {
     "name": "stdout",
     "output_type": "stream",
     "text": [
      "11/100\n"
     ]
    },
    {
     "name": "stderr",
     "output_type": "stream",
     "text": [
      "100%|██████████| 16/16 [00:01<00:00,  9.12it/s]\n",
      "0it [00:00, ?it/s]"
     ]
    },
    {
     "name": "stdout",
     "output_type": "stream",
     "text": [
      "12/100\n"
     ]
    },
    {
     "name": "stderr",
     "output_type": "stream",
     "text": [
      "\n"
     ]
    },
    {
     "name": "stdout",
     "output_type": "stream",
     "text": [
      "13/100\n"
     ]
    },
    {
     "name": "stderr",
     "output_type": "stream",
     "text": [
      "100%|██████████| 26/26 [00:02<00:00,  9.70it/s]\n",
      "  0%|          | 0/8 [00:00<?, ?it/s]"
     ]
    },
    {
     "name": "stdout",
     "output_type": "stream",
     "text": [
      "14/100\n"
     ]
    },
    {
     "name": "stderr",
     "output_type": "stream",
     "text": [
      "100%|██████████| 8/8 [00:01<00:00,  7.42it/s]\n"
     ]
    },
    {
     "name": "stdout",
     "output_type": "stream",
     "text": [
      "15/100\n"
     ]
    },
    {
     "name": "stderr",
     "output_type": "stream",
     "text": [
      "100%|██████████| 20/20 [00:02<00:00,  9.00it/s]\n",
      "0it [00:00, ?it/s]"
     ]
    },
    {
     "name": "stdout",
     "output_type": "stream",
     "text": [
      "16/100\n"
     ]
    },
    {
     "name": "stderr",
     "output_type": "stream",
     "text": [
      "\n"
     ]
    },
    {
     "name": "stdout",
     "output_type": "stream",
     "text": [
      "17/100\n"
     ]
    },
    {
     "name": "stderr",
     "output_type": "stream",
     "text": [
      "100%|██████████| 16/16 [00:01<00:00,  9.75it/s]\n",
      "  0%|          | 0/4 [00:00<?, ?it/s]"
     ]
    },
    {
     "name": "stdout",
     "output_type": "stream",
     "text": [
      "18/100\n"
     ]
    },
    {
     "name": "stderr",
     "output_type": "stream",
     "text": [
      "100%|██████████| 4/4 [00:00<00:00,  4.95it/s]\n",
      "0it [00:00, ?it/s]"
     ]
    },
    {
     "name": "stdout",
     "output_type": "stream",
     "text": [
      "19/100\n"
     ]
    },
    {
     "name": "stderr",
     "output_type": "stream",
     "text": [
      "\n"
     ]
    },
    {
     "name": "stdout",
     "output_type": "stream",
     "text": [
      "20/100\n"
     ]
    },
    {
     "name": "stderr",
     "output_type": "stream",
     "text": [
      "100%|██████████| 24/24 [00:02<00:00, 10.71it/s]\n",
      "0it [00:00, ?it/s]"
     ]
    },
    {
     "name": "stdout",
     "output_type": "stream",
     "text": [
      "21/100\n"
     ]
    },
    {
     "name": "stderr",
     "output_type": "stream",
     "text": [
      "\n"
     ]
    },
    {
     "name": "stdout",
     "output_type": "stream",
     "text": [
      "22/100\n"
     ]
    },
    {
     "name": "stderr",
     "output_type": "stream",
     "text": [
      "100%|██████████| 30/30 [00:03<00:00,  9.75it/s]\n",
      "0it [00:00, ?it/s]"
     ]
    },
    {
     "name": "stdout",
     "output_type": "stream",
     "text": [
      "23/100\n"
     ]
    },
    {
     "name": "stderr",
     "output_type": "stream",
     "text": [
      "\n"
     ]
    },
    {
     "name": "stdout",
     "output_type": "stream",
     "text": [
      "24/100\n"
     ]
    },
    {
     "name": "stderr",
     "output_type": "stream",
     "text": [
      "100%|██████████| 34/34 [00:03<00:00,  9.56it/s]\n"
     ]
    },
    {
     "name": "stdout",
     "output_type": "stream",
     "text": [
      "25/100\n"
     ]
    },
    {
     "name": "stderr",
     "output_type": "stream",
     "text": [
      "100%|██████████| 38/38 [00:04<00:00,  9.00it/s]\n",
      "0it [00:00, ?it/s]"
     ]
    },
    {
     "name": "stdout",
     "output_type": "stream",
     "text": [
      "26/100\n"
     ]
    },
    {
     "name": "stderr",
     "output_type": "stream",
     "text": [
      "\n",
      "0it [00:00, ?it/s]"
     ]
    },
    {
     "name": "stdout",
     "output_type": "stream",
     "text": [
      "27/100\n"
     ]
    },
    {
     "name": "stderr",
     "output_type": "stream",
     "text": [
      "\n",
      "  0%|          | 0/4 [00:00<?, ?it/s]"
     ]
    },
    {
     "name": "stdout",
     "output_type": "stream",
     "text": [
      "28/100\n"
     ]
    },
    {
     "name": "stderr",
     "output_type": "stream",
     "text": [
      "100%|██████████| 4/4 [00:00<00:00,  4.71it/s]\n",
      "  0%|          | 0/4 [00:00<?, ?it/s]"
     ]
    },
    {
     "name": "stdout",
     "output_type": "stream",
     "text": [
      "29/100\n"
     ]
    },
    {
     "name": "stderr",
     "output_type": "stream",
     "text": [
      "100%|██████████| 4/4 [00:00<00:00,  4.22it/s]\n"
     ]
    },
    {
     "name": "stdout",
     "output_type": "stream",
     "text": [
      "30/100\n"
     ]
    },
    {
     "name": "stderr",
     "output_type": "stream",
     "text": [
      "100%|██████████| 8/8 [00:01<00:00,  7.42it/s]\n"
     ]
    },
    {
     "name": "stdout",
     "output_type": "stream",
     "text": [
      "31/100\n"
     ]
    },
    {
     "name": "stderr",
     "output_type": "stream",
     "text": [
      "100%|██████████| 8/8 [00:01<00:00,  7.01it/s]\n",
      "  0%|          | 0/8 [00:00<?, ?it/s]"
     ]
    },
    {
     "name": "stdout",
     "output_type": "stream",
     "text": [
      "32/100\n"
     ]
    },
    {
     "name": "stderr",
     "output_type": "stream",
     "text": [
      "100%|██████████| 8/8 [00:01<00:00,  7.20it/s]\n",
      "0it [00:00, ?it/s]"
     ]
    },
    {
     "name": "stdout",
     "output_type": "stream",
     "text": [
      "33/100\n"
     ]
    },
    {
     "name": "stderr",
     "output_type": "stream",
     "text": [
      "\n"
     ]
    },
    {
     "name": "stdout",
     "output_type": "stream",
     "text": [
      "34/100\n"
     ]
    },
    {
     "name": "stderr",
     "output_type": "stream",
     "text": [
      "100%|██████████| 16/16 [00:01<00:00,  9.32it/s]\n"
     ]
    },
    {
     "name": "stdout",
     "output_type": "stream",
     "text": [
      "35/100\n"
     ]
    },
    {
     "name": "stderr",
     "output_type": "stream",
     "text": [
      "100%|██████████| 16/16 [00:01<00:00,  9.67it/s]\n",
      "0it [00:00, ?it/s]"
     ]
    },
    {
     "name": "stdout",
     "output_type": "stream",
     "text": [
      "36/100\n"
     ]
    },
    {
     "name": "stderr",
     "output_type": "stream",
     "text": [
      "\n"
     ]
    },
    {
     "name": "stdout",
     "output_type": "stream",
     "text": [
      "37/100\n"
     ]
    },
    {
     "name": "stderr",
     "output_type": "stream",
     "text": [
      "0it [00:00, ?it/s]\n"
     ]
    },
    {
     "name": "stdout",
     "output_type": "stream",
     "text": [
      "38/100\n"
     ]
    },
    {
     "name": "stderr",
     "output_type": "stream",
     "text": [
      "100%|██████████| 8/8 [00:01<00:00,  7.25it/s]\n",
      "0it [00:00, ?it/s]"
     ]
    },
    {
     "name": "stdout",
     "output_type": "stream",
     "text": [
      "39/100\n"
     ]
    },
    {
     "name": "stderr",
     "output_type": "stream",
     "text": [
      "\n",
      "0it [00:00, ?it/s]"
     ]
    },
    {
     "name": "stdout",
     "output_type": "stream",
     "text": [
      "40/100\n"
     ]
    },
    {
     "name": "stderr",
     "output_type": "stream",
     "text": [
      "\n"
     ]
    },
    {
     "name": "stdout",
     "output_type": "stream",
     "text": [
      "41/100\n"
     ]
    },
    {
     "name": "stderr",
     "output_type": "stream",
     "text": [
      "100%|██████████| 16/16 [00:01<00:00,  9.62it/s]\n",
      "0it [00:00, ?it/s]"
     ]
    },
    {
     "name": "stdout",
     "output_type": "stream",
     "text": [
      "42/100\n"
     ]
    },
    {
     "name": "stderr",
     "output_type": "stream",
     "text": [
      "\n",
      "0it [00:00, ?it/s]"
     ]
    },
    {
     "name": "stdout",
     "output_type": "stream",
     "text": [
      "43/100\n"
     ]
    },
    {
     "name": "stderr",
     "output_type": "stream",
     "text": [
      "\n",
      "0it [00:00, ?it/s]"
     ]
    },
    {
     "name": "stdout",
     "output_type": "stream",
     "text": [
      "44/100\n"
     ]
    },
    {
     "name": "stderr",
     "output_type": "stream",
     "text": [
      "\n"
     ]
    },
    {
     "name": "stdout",
     "output_type": "stream",
     "text": [
      "45/100\n"
     ]
    },
    {
     "name": "stderr",
     "output_type": "stream",
     "text": [
      "100%|██████████| 16/16 [00:01<00:00,  9.59it/s]\n",
      "0it [00:00, ?it/s]"
     ]
    },
    {
     "name": "stdout",
     "output_type": "stream",
     "text": [
      "46/100\n"
     ]
    },
    {
     "name": "stderr",
     "output_type": "stream",
     "text": [
      "\n"
     ]
    },
    {
     "name": "stdout",
     "output_type": "stream",
     "text": [
      "47/100\n"
     ]
    },
    {
     "name": "stderr",
     "output_type": "stream",
     "text": [
      "100%|██████████| 28/28 [00:02<00:00,  9.70it/s]\n"
     ]
    },
    {
     "name": "stdout",
     "output_type": "stream",
     "text": [
      "48/100\n"
     ]
    },
    {
     "name": "stderr",
     "output_type": "stream",
     "text": [
      "100%|██████████| 16/16 [00:01<00:00,  9.62it/s]\n",
      "0it [00:00, ?it/s]"
     ]
    },
    {
     "name": "stdout",
     "output_type": "stream",
     "text": [
      "49/100\n"
     ]
    },
    {
     "name": "stderr",
     "output_type": "stream",
     "text": [
      "\n"
     ]
    },
    {
     "name": "stdout",
     "output_type": "stream",
     "text": [
      "50/100\n"
     ]
    },
    {
     "name": "stderr",
     "output_type": "stream",
     "text": [
      "100%|██████████| 8/8 [00:01<00:00,  7.43it/s]\n"
     ]
    },
    {
     "name": "stdout",
     "output_type": "stream",
     "text": [
      "51/100\n"
     ]
    },
    {
     "name": "stderr",
     "output_type": "stream",
     "text": [
      "100%|██████████| 36/36 [00:04<00:00,  8.46it/s]\n"
     ]
    },
    {
     "name": "stdout",
     "output_type": "stream",
     "text": [
      "52/100\n"
     ]
    },
    {
     "name": "stderr",
     "output_type": "stream",
     "text": [
      "100%|██████████| 24/24 [00:02<00:00,  9.37it/s]\n",
      "0it [00:00, ?it/s]"
     ]
    },
    {
     "name": "stdout",
     "output_type": "stream",
     "text": [
      "53/100\n"
     ]
    },
    {
     "name": "stderr",
     "output_type": "stream",
     "text": [
      "\n",
      "0it [00:00, ?it/s]"
     ]
    },
    {
     "name": "stdout",
     "output_type": "stream",
     "text": [
      "54/100\n"
     ]
    },
    {
     "name": "stderr",
     "output_type": "stream",
     "text": [
      "\n"
     ]
    },
    {
     "name": "stdout",
     "output_type": "stream",
     "text": [
      "55/100\n"
     ]
    },
    {
     "name": "stderr",
     "output_type": "stream",
     "text": [
      "100%|██████████| 32/32 [00:03<00:00,  9.84it/s]\n",
      "0it [00:00, ?it/s]"
     ]
    },
    {
     "name": "stdout",
     "output_type": "stream",
     "text": [
      "56/100\n"
     ]
    },
    {
     "name": "stderr",
     "output_type": "stream",
     "text": [
      "\n"
     ]
    },
    {
     "name": "stdout",
     "output_type": "stream",
     "text": [
      "57/100\n"
     ]
    },
    {
     "name": "stderr",
     "output_type": "stream",
     "text": [
      "100%|██████████| 16/16 [00:02<00:00,  7.28it/s]\n",
      "0it [00:00, ?it/s]"
     ]
    },
    {
     "name": "stdout",
     "output_type": "stream",
     "text": [
      "58/100\n"
     ]
    },
    {
     "name": "stderr",
     "output_type": "stream",
     "text": [
      "\n"
     ]
    },
    {
     "name": "stdout",
     "output_type": "stream",
     "text": [
      "59/100\n"
     ]
    },
    {
     "name": "stderr",
     "output_type": "stream",
     "text": [
      "100%|██████████| 36/36 [00:05<00:00,  6.96it/s]\n"
     ]
    },
    {
     "name": "stdout",
     "output_type": "stream",
     "text": [
      "60/100\n"
     ]
    },
    {
     "name": "stderr",
     "output_type": "stream",
     "text": [
      "100%|██████████| 32/32 [00:04<00:00,  7.59it/s]\n",
      "0it [00:00, ?it/s]"
     ]
    },
    {
     "name": "stdout",
     "output_type": "stream",
     "text": [
      "61/100\n"
     ]
    },
    {
     "name": "stderr",
     "output_type": "stream",
     "text": [
      "\n"
     ]
    },
    {
     "name": "stdout",
     "output_type": "stream",
     "text": [
      "62/100\n"
     ]
    },
    {
     "name": "stderr",
     "output_type": "stream",
     "text": [
      "100%|██████████| 40/40 [00:05<00:00,  6.87it/s]\n"
     ]
    },
    {
     "name": "stdout",
     "output_type": "stream",
     "text": [
      "63/100\n"
     ]
    },
    {
     "name": "stderr",
     "output_type": "stream",
     "text": [
      "100%|██████████| 40/40 [00:04<00:00,  8.73it/s]\n",
      "0it [00:00, ?it/s]"
     ]
    },
    {
     "name": "stdout",
     "output_type": "stream",
     "text": [
      "64/100\n"
     ]
    },
    {
     "name": "stderr",
     "output_type": "stream",
     "text": [
      "\n",
      "0it [00:00, ?it/s]"
     ]
    },
    {
     "name": "stdout",
     "output_type": "stream",
     "text": [
      "65/100\n"
     ]
    },
    {
     "name": "stderr",
     "output_type": "stream",
     "text": [
      "\n"
     ]
    },
    {
     "name": "stdout",
     "output_type": "stream",
     "text": [
      "66/100\n"
     ]
    },
    {
     "name": "stderr",
     "output_type": "stream",
     "text": [
      "100%|██████████| 8/8 [00:01<00:00,  7.23it/s]\n"
     ]
    },
    {
     "name": "stdout",
     "output_type": "stream",
     "text": [
      "67/100\n"
     ]
    },
    {
     "name": "stderr",
     "output_type": "stream",
     "text": [
      "100%|██████████| 24/24 [00:02<00:00, 10.02it/s]\n",
      "0it [00:00, ?it/s]"
     ]
    },
    {
     "name": "stdout",
     "output_type": "stream",
     "text": [
      "68/100\n"
     ]
    },
    {
     "name": "stderr",
     "output_type": "stream",
     "text": [
      "\n"
     ]
    },
    {
     "name": "stdout",
     "output_type": "stream",
     "text": [
      "69/100\n"
     ]
    },
    {
     "name": "stderr",
     "output_type": "stream",
     "text": [
      "100%|██████████| 28/28 [00:02<00:00,  9.40it/s]\n",
      "0it [00:00, ?it/s]"
     ]
    },
    {
     "name": "stdout",
     "output_type": "stream",
     "text": [
      "70/100\n"
     ]
    },
    {
     "name": "stderr",
     "output_type": "stream",
     "text": [
      "\n",
      "0it [00:00, ?it/s]"
     ]
    },
    {
     "name": "stdout",
     "output_type": "stream",
     "text": [
      "71/100\n"
     ]
    },
    {
     "name": "stderr",
     "output_type": "stream",
     "text": [
      "\n",
      "0it [00:00, ?it/s]"
     ]
    },
    {
     "name": "stdout",
     "output_type": "stream",
     "text": [
      "72/100\n"
     ]
    },
    {
     "name": "stderr",
     "output_type": "stream",
     "text": [
      "\n"
     ]
    },
    {
     "name": "stdout",
     "output_type": "stream",
     "text": [
      "73/100\n"
     ]
    },
    {
     "name": "stderr",
     "output_type": "stream",
     "text": [
      "100%|██████████| 16/16 [00:01<00:00,  9.36it/s]\n",
      "0it [00:00, ?it/s]"
     ]
    },
    {
     "name": "stdout",
     "output_type": "stream",
     "text": [
      "74/100\n"
     ]
    },
    {
     "name": "stderr",
     "output_type": "stream",
     "text": [
      "\n",
      "0it [00:00, ?it/s]"
     ]
    },
    {
     "name": "stdout",
     "output_type": "stream",
     "text": [
      "75/100\n"
     ]
    },
    {
     "name": "stderr",
     "output_type": "stream",
     "text": [
      "\n"
     ]
    },
    {
     "name": "stdout",
     "output_type": "stream",
     "text": [
      "76/100\n"
     ]
    },
    {
     "name": "stderr",
     "output_type": "stream",
     "text": [
      "100%|██████████| 40/40 [00:03<00:00, 10.49it/s]\n",
      "0it [00:00, ?it/s]"
     ]
    },
    {
     "name": "stdout",
     "output_type": "stream",
     "text": [
      "77/100\n"
     ]
    },
    {
     "name": "stderr",
     "output_type": "stream",
     "text": [
      "\n",
      "0it [00:00, ?it/s]"
     ]
    },
    {
     "name": "stdout",
     "output_type": "stream",
     "text": [
      "78/100\n"
     ]
    },
    {
     "name": "stderr",
     "output_type": "stream",
     "text": [
      "\n"
     ]
    },
    {
     "name": "stdout",
     "output_type": "stream",
     "text": [
      "79/100\n"
     ]
    },
    {
     "name": "stderr",
     "output_type": "stream",
     "text": [
      "100%|██████████| 44/44 [00:04<00:00,  9.79it/s]\n"
     ]
    },
    {
     "name": "stdout",
     "output_type": "stream",
     "text": [
      "80/100\n"
     ]
    },
    {
     "name": "stderr",
     "output_type": "stream",
     "text": [
      "100%|██████████| 16/16 [00:01<00:00,  8.24it/s]\n",
      "0it [00:00, ?it/s]"
     ]
    },
    {
     "name": "stdout",
     "output_type": "stream",
     "text": [
      "81/100\n"
     ]
    },
    {
     "name": "stderr",
     "output_type": "stream",
     "text": [
      "\n"
     ]
    },
    {
     "name": "stdout",
     "output_type": "stream",
     "text": [
      "82/100\n"
     ]
    },
    {
     "name": "stderr",
     "output_type": "stream",
     "text": [
      "100%|██████████| 16/16 [00:12<00:00,  1.24it/s]\n"
     ]
    },
    {
     "name": "stdout",
     "output_type": "stream",
     "text": [
      "83/100\n"
     ]
    },
    {
     "name": "stderr",
     "output_type": "stream",
     "text": [
      "100%|██████████| 48/48 [00:05<00:00,  8.17it/s]\n"
     ]
    },
    {
     "name": "stdout",
     "output_type": "stream",
     "text": [
      "84/100\n"
     ]
    },
    {
     "name": "stderr",
     "output_type": "stream",
     "text": [
      "100%|██████████| 4/4 [00:00<00:00,  4.66it/s]\n",
      "0it [00:00, ?it/s]"
     ]
    },
    {
     "name": "stdout",
     "output_type": "stream",
     "text": [
      "85/100\n"
     ]
    },
    {
     "name": "stderr",
     "output_type": "stream",
     "text": [
      "\n"
     ]
    },
    {
     "name": "stdout",
     "output_type": "stream",
     "text": [
      "86/100\n"
     ]
    },
    {
     "name": "stderr",
     "output_type": "stream",
     "text": [
      "100%|██████████| 16/16 [00:01<00:00,  9.62it/s]\n",
      "0it [00:00, ?it/s]"
     ]
    },
    {
     "name": "stdout",
     "output_type": "stream",
     "text": [
      "87/100\n"
     ]
    },
    {
     "name": "stderr",
     "output_type": "stream",
     "text": [
      "\n"
     ]
    },
    {
     "name": "stdout",
     "output_type": "stream",
     "text": [
      "88/100\n"
     ]
    },
    {
     "name": "stderr",
     "output_type": "stream",
     "text": [
      "100%|██████████| 16/16 [00:01<00:00,  9.95it/s]\n"
     ]
    },
    {
     "name": "stdout",
     "output_type": "stream",
     "text": [
      "89/100\n"
     ]
    },
    {
     "name": "stderr",
     "output_type": "stream",
     "text": [
      "100%|██████████| 56/56 [00:06<00:00,  8.66it/s]\n"
     ]
    },
    {
     "name": "stdout",
     "output_type": "stream",
     "text": [
      "90/100\n"
     ]
    },
    {
     "name": "stderr",
     "output_type": "stream",
     "text": [
      "100%|██████████| 16/16 [00:01<00:00,  9.70it/s]\n",
      "0it [00:00, ?it/s]"
     ]
    },
    {
     "name": "stdout",
     "output_type": "stream",
     "text": [
      "91/100\n"
     ]
    },
    {
     "name": "stderr",
     "output_type": "stream",
     "text": [
      "\n"
     ]
    },
    {
     "name": "stdout",
     "output_type": "stream",
     "text": [
      "92/100\n"
     ]
    },
    {
     "name": "stderr",
     "output_type": "stream",
     "text": [
      "100%|██████████| 16/16 [00:01<00:00, 10.32it/s]\n"
     ]
    },
    {
     "name": "stdout",
     "output_type": "stream",
     "text": [
      "93/100\n"
     ]
    },
    {
     "name": "stderr",
     "output_type": "stream",
     "text": [
      "100%|██████████| 32/32 [00:03<00:00, 10.60it/s]\n",
      "0it [00:00, ?it/s]"
     ]
    },
    {
     "name": "stdout",
     "output_type": "stream",
     "text": [
      "94/100\n"
     ]
    },
    {
     "name": "stderr",
     "output_type": "stream",
     "text": [
      "\n"
     ]
    },
    {
     "name": "stdout",
     "output_type": "stream",
     "text": [
      "95/100\n"
     ]
    },
    {
     "name": "stderr",
     "output_type": "stream",
     "text": [
      "100%|██████████| 44/44 [00:04<00:00,  9.20it/s]\n"
     ]
    },
    {
     "name": "stdout",
     "output_type": "stream",
     "text": [
      "96/100\n"
     ]
    },
    {
     "name": "stderr",
     "output_type": "stream",
     "text": [
      "100%|██████████| 16/16 [00:01<00:00,  9.97it/s]\n",
      "0it [00:00, ?it/s]"
     ]
    },
    {
     "name": "stdout",
     "output_type": "stream",
     "text": [
      "97/100\n"
     ]
    },
    {
     "name": "stderr",
     "output_type": "stream",
     "text": [
      "\n"
     ]
    },
    {
     "name": "stdout",
     "output_type": "stream",
     "text": [
      "98/100\n"
     ]
    },
    {
     "name": "stderr",
     "output_type": "stream",
     "text": [
      "100%|██████████| 52/52 [00:06<00:00,  8.32it/s]\n",
      "0it [00:00, ?it/s]"
     ]
    },
    {
     "name": "stdout",
     "output_type": "stream",
     "text": [
      "99/100\n"
     ]
    },
    {
     "name": "stderr",
     "output_type": "stream",
     "text": [
      "\n"
     ]
    }
   ],
   "source": [
    "# perform 100 refinements\n",
    "for i in range(100):\n",
    "    print('%s/%s' % (i,100))\n",
    "    refine_sampling_plan(1)\n",
    "    my_campaign.apply_analysis(analysis)\n",
    "    frms_mean, frms = test_surrogate()\n",
    "    S.append([frms_mean, frms])"
   ]
  },
  {
   "cell_type": "code",
   "execution_count": 34,
   "metadata": {
    "ExecuteTime": {
     "end_time": "2021-07-28T12:46:42.421323Z",
     "start_time": "2021-07-28T12:46:40.935488Z"
    }
   },
   "outputs": [
    {
     "data": {
      "image/png": "[encoded data removed]",
      "text/plain": [
       "<Figure size 432x288 with 1 Axes>"
      ]
     },
     "metadata": {
      "needs_background": "light"
     },
     "output_type": "display_data"
    }
   ],
   "source": [
    "plot_te(analysis)"
   ]
  },
  {
   "cell_type": "code",
   "execution_count": 35,
   "metadata": {
    "ExecuteTime": {
     "end_time": "2021-07-28T12:46:43.295538Z",
     "start_time": "2021-07-28T12:46:42.423195Z"
    }
   },
   "outputs": [
    {
     "data": {
      "image/png": "[encoded data removed]",
      "text/plain": [
       "<Figure size 864x576 with 5 Axes>"
      ]
     },
     "metadata": {
      "needs_background": "light"
     },
     "output_type": "display_data"
    }
   ],
   "source": [
    "# Plot the slices again. \n",
    "plot_grid_2D()"
   ]
  },
  {
   "attachments": {},
   "cell_type": "markdown",
   "metadata": {},
   "source": [
    "### Post-processing\n",
    "There are several post-processing steps we can take. Below we show the 'adaptation table' which displays which multi indices were refined at every iteration."
   ]
  },
  {
   "cell_type": "code",
   "execution_count": 36,
   "metadata": {
    "ExecuteTime": {
     "end_time": "2021-07-28T12:46:43.784983Z",
     "start_time": "2021-07-28T12:46:43.297595Z"
    },
    "scrolled": false
   },
   "outputs": [
    {
     "data": {
      "image/png": "[encoded data removed]",
      "text/plain": [
       "<Figure size 864x432 with 2 Axes>"
      ]
     },
     "metadata": {
      "needs_background": "light"
     },
     "output_type": "display_data"
    },
    {
     "data": {
      "text/plain": [
       "<Figure size 432x288 with 0 Axes>"
      ]
     },
     "metadata": {},
     "output_type": "display_data"
    }
   ],
   "source": [
    "analysis.adaptation_table()\n",
    "plt.savefig('Adaptation_table_DASC.png')\n",
    "plt.savefig('Adaptation_table_DASC.pdf')"
   ]
  },
  {
   "cell_type": "code",
   "execution_count": 37,
   "metadata": {
    "ExecuteTime": {
     "end_time": "2021-07-28T12:46:43.844322Z",
     "start_time": "2021-07-28T12:46:43.787037Z"
    }
   },
   "outputs": [],
   "source": [
    "analysis.adaptation_table?"
   ]
  },
  {
   "attachments": {},
   "cell_type": "markdown",
   "metadata": {},
   "source": [
    "We can also make a histogram that visualises the adaptation. This displays only a first-order information, i.e. only the maximum quadrature order per input. It, therefore, does not display that certain inputs were refined simultaneously:"
   ]
  },
  {
   "cell_type": "code",
   "execution_count": 38,
   "metadata": {
    "ExecuteTime": {
     "end_time": "2021-07-28T12:46:44.023963Z",
     "start_time": "2021-07-28T12:46:43.846068Z"
    }
   },
   "outputs": [
    {
     "data": {
      "image/png": "[encoded data removed]",
      "text/plain": [
       "<Figure size 288x576 with 1 Axes>"
      ]
     },
     "metadata": {
      "needs_background": "light"
     },
     "output_type": "display_data"
    }
   ],
   "source": [
    "analysis.adaptation_histogram()"
   ]
  },
  {
   "attachments": {},
   "cell_type": "markdown",
   "metadata": {},
   "source": [
    "To get a list of the error magnitudes associated with the multi indices that were selected using:"
   ]
  },
  {
   "cell_type": "code",
   "execution_count": 39,
   "metadata": {
    "ExecuteTime": {
     "end_time": "2021-07-28T12:46:44.663885Z",
     "start_time": "2021-07-28T12:46:44.025762Z"
    }
   },
   "outputs": [
    {
     "data": {
      "text/plain": [
       "[<matplotlib.lines.Line2D at 0x149f1f153b20>]"
      ]
     },
     "execution_count": 39,
     "metadata": {},
     "output_type": "execute_result"
    },
    {
     "data": {
      "image/png": "[encoded data removed]",
      "text/plain": [
       "<Figure size 432x288 with 1 Axes>"
      ]
     },
     "metadata": {
      "needs_background": "light"
     },
     "output_type": "display_data"
    }
   ],
   "source": [
    "plt.semilogy(analysis.get_adaptation_errors())"
   ]
  },
  {
   "cell_type": "markdown",
   "metadata": {},
   "source": [
    "This shows a nice decrease of the error."
   ]
  },
  {
   "cell_type": "markdown",
   "metadata": {},
   "source": [
    "To compute the mean and variance of the code output we use:"
   ]
  },
  {
   "cell_type": "code",
   "execution_count": 40,
   "metadata": {
    "ExecuteTime": {
     "end_time": "2021-07-28T12:46:45.670374Z",
     "start_time": "2021-07-28T12:46:44.665898Z"
    }
   },
   "outputs": [
    {
     "data": {
      "text/plain": [
       "0.8663242668726445"
      ]
     },
     "execution_count": 40,
     "metadata": {},
     "output_type": "execute_result"
    }
   ],
   "source": [
    "analysis.get_uncertainty_amplification('te')"
   ]
  },
  {
   "cell_type": "code",
   "execution_count": 41,
   "metadata": {
    "ExecuteTime": {
     "end_time": "2021-07-28T12:46:47.144460Z",
     "start_time": "2021-07-28T12:46:45.672191Z"
    }
   },
   "outputs": [
    {
     "data": {
      "image/png": "[encoded data removed]",
      "text/plain": [
       "<Figure size 432x288 with 1 Axes>"
      ]
     },
     "metadata": {
      "needs_background": "light"
     },
     "output_type": "display_data"
    }
   ],
   "source": [
    "plot_te(analysis)"
   ]
  },
  {
   "attachments": {},
   "cell_type": "markdown",
   "metadata": {},
   "source": [
    "We can see that the estimates are fair, although not yet fully converged in this case. Note however that these results are computed only with the accepted set of multi-indices. At the end, we can merge the accepted and admissible set (thereby using all samples), and recompute the results:"
   ]
  },
  {
   "cell_type": "code",
   "execution_count": 42,
   "metadata": {
    "ExecuteTime": {
     "end_time": "2021-07-28T12:50:11.208183Z",
     "start_time": "2021-07-28T12:46:47.146385Z"
    }
   },
   "outputs": [],
   "source": [
    "analysis.merge_accepted_and_admissible()\n",
    "df = my_campaign.get_collation_result()\n",
    "results = analysis.analyse(df)"
   ]
  },
  {
   "cell_type": "code",
   "execution_count": 43,
   "metadata": {
    "ExecuteTime": {
     "end_time": "2021-07-28T13:01:41.720248Z",
     "start_time": "2021-07-28T12:50:11.211305Z"
    }
   },
   "outputs": [],
   "source": [
    "frms_mean, frms = test_surrogate()\n",
    "S.append([frms_mean, frms])"
   ]
  },
  {
   "cell_type": "code",
   "execution_count": 44,
   "metadata": {
    "ExecuteTime": {
     "end_time": "2021-07-28T13:01:44.358797Z",
     "start_time": "2021-07-28T13:01:41.722953Z"
    }
   },
   "outputs": [
    {
     "data": {
      "image/png": "[encoded data removed]",
      "text/plain": [
       "<Figure size 432x288 with 1 Axes>"
      ]
     },
     "metadata": {
      "needs_background": "light"
     },
     "output_type": "display_data"
    }
   ],
   "source": [
    "plot_te(analysis)"
   ]
  },
  {
   "cell_type": "code",
   "execution_count": 45,
   "metadata": {
    "ExecuteTime": {
     "end_time": "2021-07-28T13:01:46.268234Z",
     "start_time": "2021-07-28T13:01:44.360662Z"
    }
   },
   "outputs": [
    {
     "data": {
      "image/png": "[encoded data removed]",
      "text/plain": [
       "<Figure size 864x576 with 5 Axes>"
      ]
     },
     "metadata": {
      "needs_background": "light"
     },
     "output_type": "display_data"
    }
   ],
   "source": [
    "# Plot the slices again. \n",
    "plot_grid_2D()\n",
    "plt.savefig('Grid_DASC.png')\n",
    "plt.savefig('Grid_DASC.pdf')"
   ]
  },
  {
   "attachments": {},
   "cell_type": "markdown",
   "metadata": {},
   "source": [
    "This improved our estimates. Note, however, that if we would refine again from this point, the new admissble set will be very large, since we added *all* previous admissible indices to the accepted set. This opens up a wide range of possible new candidate directions, making the corresponding ensemble very large.\n",
    "\n",
    "Thus if we are still not happy with the result, we first have to undo the merging via `analysis.undo_merge()`, before refining again."
   ]
  },
  {
   "cell_type": "code",
   "execution_count": 46,
   "metadata": {
    "ExecuteTime": {
     "end_time": "2021-07-28T13:01:46.273104Z",
     "start_time": "2021-07-28T13:01:46.270259Z"
    }
   },
   "outputs": [],
   "source": [
    "# This will undo the merge, and reproduce the old results\n",
    "#analysis.undo_merge()\n",
    "#df = campaign.get_collation_result()\n",
    "#results = analysis.analyse(df)\n",
    "#print('Mean = %.4e' % results.describe('f', 'mean'))\n",
    "#print('Standard deviation = %.4e' % results.describe('f', 'std'))"
   ]
  },
  {
   "cell_type": "markdown",
   "metadata": {},
   "source": [
    "We can also display the Sobol sensitivity indices via:"
   ]
  },
  {
   "cell_type": "code",
   "execution_count": 47,
   "metadata": {
    "ExecuteTime": {
     "end_time": "2021-07-28T13:01:47.423100Z",
     "start_time": "2021-07-28T13:01:46.274701Z"
    }
   },
   "outputs": [
    {
     "data": {
      "image/png": "[encoded data removed]",
      "text/plain": [
       "<Figure size 432x288 with 1 Axes>"
      ]
     },
     "metadata": {
      "needs_background": "light"
     },
     "output_type": "display_data"
    }
   ],
   "source": [
    "sobols = []\n",
    "# retrieve the Sobol indices from the results object\n",
    "params = list(sampler.vary.get_keys())\n",
    "for param in params:\n",
    "    sobols.append(results._get_sobols_first('te', param))\n",
    "sobols = np.array(sobols).mean(axis=1)\n",
    "# make a bar chart\n",
    "fig = plt.figure()\n",
    "ax = fig.add_subplot(111, title='First-order Sobol indices (mean over rho)')\n",
    "ax.bar(range(len(sobols)), height=np.array(sobols).flatten())\n",
    "ax.set_xticks(range(len(sobols)))\n",
    "ax.set_xticklabels(params)\n",
    "plt.xticks(rotation=90)\n",
    "plt.tight_layout()\n",
    "plt.savefig('Average_Sobol_DASC.png')\n",
    "plt.savefig('Average_Sobol_DASC.pdf')"
   ]
  },
  {
   "cell_type": "code",
   "execution_count": 48,
   "metadata": {
    "ExecuteTime": {
     "end_time": "2021-07-28T13:01:47.429977Z",
     "start_time": "2021-07-28T13:01:47.425043Z"
    }
   },
   "outputs": [
    {
     "data": {
      "text/plain": [
       "{'Qe_tot': 0.0826519003066042,\n",
       " 'H0': 0.01976287997465273,\n",
       " 'Hw': 0.21007714324359764,\n",
       " 'chi': 0.34090854895957406,\n",
       " 'Te_bc': 0.02555370033111004,\n",
       " 'b_pos': 0.0608031439755366,\n",
       " 'b_height': 0.20208219034474545,\n",
       " 'b_sol': 0.030533812380147896,\n",
       " 'b_width': 0.0008424155090723398,\n",
       " 'b_slope': 0.0017000632610264885}"
      ]
     },
     "execution_count": 48,
     "metadata": {},
     "output_type": "execute_result"
    }
   ],
   "source": [
    "dict(zip(params, sobols))"
   ]
  },
  {
   "cell_type": "code",
   "execution_count": 49,
   "metadata": {
    "ExecuteTime": {
     "end_time": "2021-07-28T13:01:47.714171Z",
     "start_time": "2021-07-28T13:01:47.431782Z"
    }
   },
   "outputs": [
    {
     "data": {
      "image/png": "[encoded data removed]",
      "text/plain": [
       "<Figure size 432x288 with 2 Axes>"
      ]
     },
     "metadata": {
      "needs_background": "light"
     },
     "output_type": "display_data"
    }
   ],
   "source": [
    "analysis.plot_stat_convergence()"
   ]
  },
  {
   "cell_type": "code",
   "execution_count": 50,
   "metadata": {
    "ExecuteTime": {
     "end_time": "2021-07-28T13:01:50.155890Z",
     "start_time": "2021-07-28T13:01:47.716263Z"
    }
   },
   "outputs": [
    {
     "data": {
      "text/plain": [
       "array([0.00612372, 0.01837117, 0.03061862, 0.04286607, 0.05511352,\n",
       "       0.06736097, 0.07960842, 0.09185587, 0.10410331, 0.11635076,\n",
       "       0.12859821, 0.14084566, 0.15309311, 0.16534056, 0.17758801,\n",
       "       0.18983546, 0.2020829 , 0.21433035, 0.2265778 , 0.23882525,\n",
       "       0.2510727 , 0.26332015, 0.2755676 , 0.28781504, 0.30006249,\n",
       "       0.31230994, 0.32455739, 0.33680484, 0.34905229, 0.36129974,\n",
       "       0.37354719, 0.38579463, 0.39804208, 0.41028953, 0.42253698,\n",
       "       0.43478443, 0.44703188, 0.45927933, 0.47152678, 0.48377422,\n",
       "       0.49602167, 0.50826912, 0.52051657, 0.53276402, 0.54501147,\n",
       "       0.55725892, 0.56950637, 0.58175381, 0.59400126, 0.60624871,\n",
       "       0.61849616, 0.63074361, 0.64299106, 0.65523851, 0.66748595,\n",
       "       0.6797334 , 0.69198085, 0.7042283 , 0.71647575, 0.7287232 ,\n",
       "       0.74097065, 0.7532181 , 0.76546554, 0.77771299, 0.78996044,\n",
       "       0.80220789, 0.81445534, 0.82670279, 0.83895024, 0.85119769,\n",
       "       0.86344513, 0.87569258, 0.88794003, 0.90018748, 0.91243493,\n",
       "       0.92468238, 0.93692983, 0.94917728, 0.96142472, 0.97367217,\n",
       "       0.98591962, 0.99816707, 1.01041452, 1.02266197, 1.03490942,\n",
       "       1.04715687, 1.05940431, 1.07165176, 1.08389921, 1.09614666,\n",
       "       1.10839411, 1.12064156, 1.13288901, 1.14513645, 1.1573839 ,\n",
       "       1.16963135, 1.1818788 , 1.19412625, 1.2063737 , 1.21862115])"
      ]
     },
     "execution_count": 50,
     "metadata": {},
     "output_type": "execute_result"
    }
   ],
   "source": [
    "te_mean, te_std = analysis.get_moments('te')[0], np.sqrt(analysis.get_moments('te')[1])\n",
    "rho_mean, rho_std = analysis.get_moments('rho')[0], np.sqrt(analysis.get_moments('rho')[1])\n",
    "\n",
    "rho_mean"
   ]
  },
  {
   "cell_type": "code",
   "execution_count": 51,
   "metadata": {
    "ExecuteTime": {
     "end_time": "2021-07-28T13:01:50.937953Z",
     "start_time": "2021-07-28T13:01:50.157716Z"
    },
    "code_folding": []
   },
   "outputs": [
    {
     "data": {
      "image/png": "[encoded data removed]",
      "text/plain": [
       "<Figure size 432x288 with 1 Axes>"
      ]
     },
     "metadata": {
      "needs_background": "light"
     },
     "output_type": "display_data"
    }
   ],
   "source": [
    "# plot the performance of the SC surrogates\n",
    "if __name__ == '__main__':\n",
    "\n",
    "    for i in range(len(S)):\n",
    "        plt.semilogy(rho_mean, S[i][1])\n",
    "    plt.xlabel('rho [m]') ; plt.ylabel('fractional RMS for predicted Te') #; plt.legend(loc=0, ncol=5)\n",
    "    plt.title('Performance of the SC surrogate')\n",
    "    plt.show()\n",
    "#    plt.savefig('SC_surrogate.png')\n",
    "#    plt.savefig('SC_surrogate.pdf')"
   ]
  },
  {
   "cell_type": "code",
   "execution_count": 52,
   "metadata": {
    "ExecuteTime": {
     "end_time": "2021-07-28T13:01:52.048722Z",
     "start_time": "2021-07-28T13:01:50.939512Z"
    },
    "code_folding": []
   },
   "outputs": [
    {
     "data": {
      "image/png": "[encoded data removed]",
      "text/plain": [
       "<Figure size 432x288 with 1 Axes>"
      ]
     },
     "metadata": {
      "needs_background": "light"
     },
     "output_type": "display_data"
    }
   ],
   "source": [
    "# plot the convergence of the surrogate-based on 1000 random points\n",
    "if __name__ == '__main__':\n",
    "    plt.figure()\n",
    "    plt.semilogy([s[0] for s in S], 'o-')\n",
    "    plt.xlabel('element number')\n",
    "    plt.ylabel('fractional RMS error for the SC surrogate')\n",
    "    plt.legend(loc=0)\n",
    "    plt.savefig('Convergence_DASC_surrogate.png')\n",
    "    plt.savefig('Convergence_DASC_surrogate.pdf')"
   ]
  }
 ],
 "metadata": {
  "kernelspec": {
   "display_name": "Python 3",
   "language": "python",
   "name": "python3"
  },
  "language_info": {
   "codemirror_mode": {
    "name": "ipython",
    "version": 3
   },
   "file_extension": ".py",
   "mimetype": "text/x-python",
   "name": "python",
   "nbconvert_exporter": "python",
   "pygments_lexer": "ipython3",
   "version": "3.8.8"
  },
  "latex_envs": {
   "LaTeX_envs_menu_present": true,
   "autoclose": false,
   "autocomplete": true,
   "bibliofile": "biblio.bib",
   "cite_by": "apalike",
   "current_citInitial": 1,
   "eqLabelWithNumbers": true,
   "eqNumInitial": 1,
   "hotkeys": {
    "equation": "Ctrl-E",
    "itemize": "Ctrl-I"
   },
   "labels_anchors": false,
   "latex_user_defs": false,
   "report_style_numbering": false,
   "user_envs_cfg": false
  }
 },
 "nbformat": 4,
 "nbformat_minor": 4
}
