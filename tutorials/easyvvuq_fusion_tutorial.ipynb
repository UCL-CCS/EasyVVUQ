{
 "cells": [
  {
   "cell_type": "markdown",
   "metadata": {},
   "source": [
    "# EasyVVUQ fusion tutorial\n",
    "\n",
    "Run an EasyVVUQ campaign to analyze the sensitivity of the temperature\n",
    "profile predicted by a simplified model of heat conduction in a\n",
    "tokamak plasma.\n",
    "\n",
    "This is done with PCE."
   ]
  },
  {
   "cell_type": "code",
   "execution_count": 11,
   "metadata": {},
   "outputs": [
    {
     "name": "stdout",
     "output_type": "stream",
     "text": [
      "Requirement already satisfied: EasyVVUQ in /Users/di73kuj2/Programming/EasyVVUQ (0.8+18.g10503c3)\n",
      "Requirement already satisfied: numpy in /Users/di73kuj2/miniconda3/envs/easyvvuq/lib/python3.8/site-packages (from EasyVVUQ) (1.19.4)\n",
      "Requirement already satisfied: pandas in /Users/di73kuj2/miniconda3/envs/easyvvuq/lib/python3.8/site-packages (from EasyVVUQ) (1.1.4)\n",
      "Requirement already satisfied: scipy in /Users/di73kuj2/miniconda3/envs/easyvvuq/lib/python3.8/site-packages (from EasyVVUQ) (1.5.4)\n",
      "Requirement already satisfied: wheel in /Users/di73kuj2/miniconda3/envs/easyvvuq/lib/python3.8/site-packages (from EasyVVUQ) (0.35.1)\n",
      "Collecting chaospy==3.3.6\n",
      "  Using cached chaospy-3.3.6-py2.py3-none-any.whl (230 kB)\n",
      "Requirement already satisfied: SALib in /Users/di73kuj2/miniconda3/envs/easyvvuq/lib/python3.8/site-packages (from EasyVVUQ) (1.3.12)\n",
      "Requirement already satisfied: pytest in /Users/di73kuj2/miniconda3/envs/easyvvuq/lib/python3.8/site-packages (from EasyVVUQ) (6.1.2)\n",
      "Requirement already satisfied: pytest-pep8 in /Users/di73kuj2/miniconda3/envs/easyvvuq/lib/python3.8/site-packages (from EasyVVUQ) (1.0.6)\n",
      "Requirement already satisfied: SQLAlchemy in /Users/di73kuj2/miniconda3/envs/easyvvuq/lib/python3.8/site-packages (from EasyVVUQ) (1.3.20)\n",
      "Requirement already satisfied: jsonpickle in /Users/di73kuj2/miniconda3/envs/easyvvuq/lib/python3.8/site-packages (from EasyVVUQ) (1.4.1)\n",
      "Requirement already satisfied: cerberus in /Users/di73kuj2/miniconda3/envs/easyvvuq/lib/python3.8/site-packages (from EasyVVUQ) (1.3.2)\n",
      "Requirement already satisfied: dask[complete] in /Users/di73kuj2/miniconda3/envs/easyvvuq/lib/python3.8/site-packages (from EasyVVUQ) (2.30.0)\n",
      "Requirement already satisfied: dask_jobqueue in /Users/di73kuj2/miniconda3/envs/easyvvuq/lib/python3.8/site-packages (from EasyVVUQ) (0.7.1)\n",
      "Requirement already satisfied: cloudpickle in /Users/di73kuj2/miniconda3/envs/easyvvuq/lib/python3.8/site-packages (from EasyVVUQ) (1.6.0)\n",
      "Requirement already satisfied: scikit-learn in /Users/di73kuj2/miniconda3/envs/easyvvuq/lib/python3.8/site-packages (from EasyVVUQ) (0.23.2)\n",
      "Requirement already satisfied: jinja2 in /Users/di73kuj2/miniconda3/envs/easyvvuq/lib/python3.8/site-packages (from EasyVVUQ) (2.11.2)\n",
      "Requirement already satisfied: kubernetes in /Users/di73kuj2/miniconda3/envs/easyvvuq/lib/python3.8/site-packages (from EasyVVUQ) (12.0.1)\n",
      "Requirement already satisfied: autopep8 in /Users/di73kuj2/miniconda3/envs/easyvvuq/lib/python3.8/site-packages (from EasyVVUQ) (1.5.4)\n",
      "Requirement already satisfied: pytz>=2017.2 in /Users/di73kuj2/miniconda3/envs/easyvvuq/lib/python3.8/site-packages (from pandas->EasyVVUQ) (2020.5)\n",
      "Requirement already satisfied: python-dateutil>=2.7.3 in /Users/di73kuj2/miniconda3/envs/easyvvuq/lib/python3.8/site-packages (from pandas->EasyVVUQ) (2.8.1)\n",
      "Requirement already satisfied: numpoly==1.0.5 in /Users/di73kuj2/miniconda3/envs/easyvvuq/lib/python3.8/site-packages (from chaospy==3.3.6->EasyVVUQ) (1.0.5)\n",
      "Requirement already satisfied: matplotlib in /Users/di73kuj2/miniconda3/envs/easyvvuq/lib/python3.8/site-packages (from SALib->EasyVVUQ) (3.3.3)\n",
      "Requirement already satisfied: toml in /Users/di73kuj2/miniconda3/envs/easyvvuq/lib/python3.8/site-packages (from pytest->EasyVVUQ) (0.10.2)\n",
      "Requirement already satisfied: attrs>=17.4.0 in /Users/di73kuj2/miniconda3/envs/easyvvuq/lib/python3.8/site-packages (from pytest->EasyVVUQ) (20.3.0)\n",
      "Requirement already satisfied: packaging in /Users/di73kuj2/miniconda3/envs/easyvvuq/lib/python3.8/site-packages (from pytest->EasyVVUQ) (20.8)\n",
      "Requirement already satisfied: pluggy<1.0,>=0.12 in /Users/di73kuj2/miniconda3/envs/easyvvuq/lib/python3.8/site-packages (from pytest->EasyVVUQ) (0.13.1)\n",
      "Requirement already satisfied: iniconfig in /Users/di73kuj2/miniconda3/envs/easyvvuq/lib/python3.8/site-packages (from pytest->EasyVVUQ) (1.1.1)\n",
      "Requirement already satisfied: py>=1.8.2 in /Users/di73kuj2/miniconda3/envs/easyvvuq/lib/python3.8/site-packages (from pytest->EasyVVUQ) (1.9.0)\n",
      "Requirement already satisfied: pep8>=1.3 in /Users/di73kuj2/miniconda3/envs/easyvvuq/lib/python3.8/site-packages (from pytest-pep8->EasyVVUQ) (1.7.1)\n",
      "Requirement already satisfied: pytest-cache in /Users/di73kuj2/miniconda3/envs/easyvvuq/lib/python3.8/site-packages (from pytest-pep8->EasyVVUQ) (1.0)\n",
      "Requirement already satisfied: importlib-metadata in /Users/di73kuj2/miniconda3/envs/easyvvuq/lib/python3.8/site-packages (from jsonpickle->EasyVVUQ) (3.4.0)\n",
      "Requirement already satisfied: setuptools in /Users/di73kuj2/miniconda3/envs/easyvvuq/lib/python3.8/site-packages (from cerberus->EasyVVUQ) (49.6.0.post20201009)\n",
      "Requirement already satisfied: pyyaml in /Users/di73kuj2/miniconda3/envs/easyvvuq/lib/python3.8/site-packages (from dask[complete]->EasyVVUQ) (5.3.1)\n",
      "Requirement already satisfied: distributed>=2.0; extra == \"complete\" in /Users/di73kuj2/miniconda3/envs/easyvvuq/lib/python3.8/site-packages (from dask[complete]->EasyVVUQ) (2.30.1)\n",
      "Requirement already satisfied: fsspec>=0.6.0; extra == \"complete\" in /Users/di73kuj2/miniconda3/envs/easyvvuq/lib/python3.8/site-packages (from dask[complete]->EasyVVUQ) (0.8.4)\n",
      "Requirement already satisfied: bokeh!=2.0.0,>=1.0.0; extra == \"complete\" in /Users/di73kuj2/miniconda3/envs/easyvvuq/lib/python3.8/site-packages (from dask[complete]->EasyVVUQ) (2.2.3)\n",
      "Requirement already satisfied: toolz>=0.8.2; extra == \"complete\" in /Users/di73kuj2/miniconda3/envs/easyvvuq/lib/python3.8/site-packages (from dask[complete]->EasyVVUQ) (0.11.1)\n",
      "Requirement already satisfied: partd>=0.3.10; extra == \"complete\" in /Users/di73kuj2/miniconda3/envs/easyvvuq/lib/python3.8/site-packages (from dask[complete]->EasyVVUQ) (1.1.0)\n",
      "Requirement already satisfied: threadpoolctl>=2.0.0 in /Users/di73kuj2/miniconda3/envs/easyvvuq/lib/python3.8/site-packages (from scikit-learn->EasyVVUQ) (2.1.0)\n",
      "Requirement already satisfied: joblib>=0.11 in /Users/di73kuj2/miniconda3/envs/easyvvuq/lib/python3.8/site-packages (from scikit-learn->EasyVVUQ) (0.17.0)\n",
      "Requirement already satisfied: MarkupSafe>=0.23 in /Users/di73kuj2/miniconda3/envs/easyvvuq/lib/python3.8/site-packages (from jinja2->EasyVVUQ) (1.1.1)\n",
      "Requirement already satisfied: websocket-client!=0.40.0,!=0.41.*,!=0.42.*,>=0.32.0 in /Users/di73kuj2/miniconda3/envs/easyvvuq/lib/python3.8/site-packages (from kubernetes->EasyVVUQ) (0.57.0)\n",
      "Requirement already satisfied: six>=1.9.0 in /Users/di73kuj2/miniconda3/envs/easyvvuq/lib/python3.8/site-packages (from kubernetes->EasyVVUQ) (1.15.0)\n",
      "Requirement already satisfied: requests-oauthlib in /Users/di73kuj2/miniconda3/envs/easyvvuq/lib/python3.8/site-packages (from kubernetes->EasyVVUQ) (1.3.0)\n",
      "Requirement already satisfied: urllib3>=1.24.2 in /Users/di73kuj2/miniconda3/envs/easyvvuq/lib/python3.8/site-packages (from kubernetes->EasyVVUQ) (1.26.3)\n",
      "Requirement already satisfied: google-auth>=1.0.1 in /Users/di73kuj2/miniconda3/envs/easyvvuq/lib/python3.8/site-packages (from kubernetes->EasyVVUQ) (1.23.0)\n",
      "Requirement already satisfied: requests in /Users/di73kuj2/miniconda3/envs/easyvvuq/lib/python3.8/site-packages (from kubernetes->EasyVVUQ) (2.25.1)\n",
      "Requirement already satisfied: certifi>=14.05.14 in /Users/di73kuj2/miniconda3/envs/easyvvuq/lib/python3.8/site-packages (from kubernetes->EasyVVUQ) (2020.12.5)\n",
      "Requirement already satisfied: pycodestyle>=2.6.0 in /Users/di73kuj2/miniconda3/envs/easyvvuq/lib/python3.8/site-packages (from autopep8->EasyVVUQ) (2.6.0)\n",
      "Requirement already satisfied: kiwisolver>=1.0.1 in /Users/di73kuj2/miniconda3/envs/easyvvuq/lib/python3.8/site-packages (from matplotlib->SALib->EasyVVUQ) (1.3.1)\n",
      "Requirement already satisfied: cycler>=0.10 in /Users/di73kuj2/miniconda3/envs/easyvvuq/lib/python3.8/site-packages (from matplotlib->SALib->EasyVVUQ) (0.10.0)\n",
      "Requirement already satisfied: pillow>=6.2.0 in /Users/di73kuj2/miniconda3/envs/easyvvuq/lib/python3.8/site-packages (from matplotlib->SALib->EasyVVUQ) (8.0.1)\n",
      "Requirement already satisfied: pyparsing!=2.0.4,!=2.1.2,!=2.1.6,>=2.0.3 in /Users/di73kuj2/miniconda3/envs/easyvvuq/lib/python3.8/site-packages (from matplotlib->SALib->EasyVVUQ) (2.4.7)\n",
      "Requirement already satisfied: execnet>=1.1.dev1 in /Users/di73kuj2/miniconda3/envs/easyvvuq/lib/python3.8/site-packages (from pytest-cache->pytest-pep8->EasyVVUQ) (1.7.1)\n"
     ]
    },
    {
     "name": "stdout",
     "output_type": "stream",
     "text": [
      "Requirement already satisfied: zipp>=0.5 in /Users/di73kuj2/miniconda3/envs/easyvvuq/lib/python3.8/site-packages (from importlib-metadata->jsonpickle->EasyVVUQ) (3.4.0)\n",
      "Requirement already satisfied: zict>=0.1.3 in /Users/di73kuj2/miniconda3/envs/easyvvuq/lib/python3.8/site-packages (from distributed>=2.0; extra == \"complete\"->dask[complete]->EasyVVUQ) (2.0.0)\n",
      "Requirement already satisfied: tblib>=1.6.0 in /Users/di73kuj2/miniconda3/envs/easyvvuq/lib/python3.8/site-packages (from distributed>=2.0; extra == \"complete\"->dask[complete]->EasyVVUQ) (1.7.0)\n",
      "Requirement already satisfied: sortedcontainers!=2.0.0,!=2.0.1 in /Users/di73kuj2/miniconda3/envs/easyvvuq/lib/python3.8/site-packages (from distributed>=2.0; extra == \"complete\"->dask[complete]->EasyVVUQ) (2.3.0)\n",
      "Requirement already satisfied: tornado>=6.0.3; python_version >= \"3.8\" in /Users/di73kuj2/miniconda3/envs/easyvvuq/lib/python3.8/site-packages (from distributed>=2.0; extra == \"complete\"->dask[complete]->EasyVVUQ) (6.1)\n",
      "Requirement already satisfied: msgpack>=0.6.0 in /Users/di73kuj2/miniconda3/envs/easyvvuq/lib/python3.8/site-packages (from distributed>=2.0; extra == \"complete\"->dask[complete]->EasyVVUQ) (1.0.0)\n",
      "Requirement already satisfied: click>=6.6 in /Users/di73kuj2/miniconda3/envs/easyvvuq/lib/python3.8/site-packages (from distributed>=2.0; extra == \"complete\"->dask[complete]->EasyVVUQ) (7.1.2)\n",
      "Requirement already satisfied: psutil>=5.0 in /Users/di73kuj2/miniconda3/envs/easyvvuq/lib/python3.8/site-packages (from distributed>=2.0; extra == \"complete\"->dask[complete]->EasyVVUQ) (5.7.3)\n",
      "Requirement already satisfied: typing-extensions>=3.7.4 in /Users/di73kuj2/miniconda3/envs/easyvvuq/lib/python3.8/site-packages (from bokeh!=2.0.0,>=1.0.0; extra == \"complete\"->dask[complete]->EasyVVUQ) (3.7.4.3)\n",
      "Requirement already satisfied: locket in /Users/di73kuj2/miniconda3/envs/easyvvuq/lib/python3.8/site-packages (from partd>=0.3.10; extra == \"complete\"->dask[complete]->EasyVVUQ) (0.2.0)\n",
      "Requirement already satisfied: oauthlib>=3.0.0 in /Users/di73kuj2/miniconda3/envs/easyvvuq/lib/python3.8/site-packages (from requests-oauthlib->kubernetes->EasyVVUQ) (3.1.0)\n",
      "Requirement already satisfied: cachetools<5.0,>=2.0.0 in /Users/di73kuj2/miniconda3/envs/easyvvuq/lib/python3.8/site-packages (from google-auth>=1.0.1->kubernetes->EasyVVUQ) (4.1.1)\n",
      "Requirement already satisfied: rsa<5,>=3.1.4; python_version >= \"3.5\" in /Users/di73kuj2/miniconda3/envs/easyvvuq/lib/python3.8/site-packages (from google-auth>=1.0.1->kubernetes->EasyVVUQ) (4.6)\n",
      "Requirement already satisfied: pyasn1-modules>=0.2.1 in /Users/di73kuj2/miniconda3/envs/easyvvuq/lib/python3.8/site-packages (from google-auth>=1.0.1->kubernetes->EasyVVUQ) (0.2.8)\n",
      "Requirement already satisfied: chardet<5,>=3.0.2 in /Users/di73kuj2/miniconda3/envs/easyvvuq/lib/python3.8/site-packages (from requests->kubernetes->EasyVVUQ) (4.0.0)\n",
      "Requirement already satisfied: idna<3,>=2.5 in /Users/di73kuj2/miniconda3/envs/easyvvuq/lib/python3.8/site-packages (from requests->kubernetes->EasyVVUQ) (2.10)\n",
      "Requirement already satisfied: apipkg>=1.4 in /Users/di73kuj2/miniconda3/envs/easyvvuq/lib/python3.8/site-packages (from execnet>=1.1.dev1->pytest-cache->pytest-pep8->EasyVVUQ) (1.5)\n",
      "Requirement already satisfied: heapdict in /Users/di73kuj2/miniconda3/envs/easyvvuq/lib/python3.8/site-packages (from zict>=0.1.3->distributed>=2.0; extra == \"complete\"->dask[complete]->EasyVVUQ) (1.0.1)\n",
      "Requirement already satisfied: pyasn1>=0.1.3 in /Users/di73kuj2/miniconda3/envs/easyvvuq/lib/python3.8/site-packages (from rsa<5,>=3.1.4; python_version >= \"3.5\"->google-auth>=1.0.1->kubernetes->EasyVVUQ) (0.4.8)\n",
      "Installing collected packages: chaospy\n",
      "  Attempting uninstall: chaospy\n",
      "    Found existing installation: chaospy 4.2.3\n",
      "    Uninstalling chaospy-4.2.3:\n",
      "      Successfully uninstalled chaospy-4.2.3\n",
      "Successfully installed chaospy-3.3.6\n",
      "Collecting future\n",
      "  Downloading future-0.18.2.tar.gz (829 kB)\n",
      "\u001b[K     |████████████████████████████████| 829 kB 2.7 MB/s eta 0:00:01     |████▊                           | 122 kB 2.7 MB/s eta 0:00:01\n",
      "\u001b[?25hBuilding wheels for collected packages: future\n",
      "  Building wheel for future (setup.py) ... \u001b[?25ldone\n",
      "\u001b[?25h  Created wheel for future: filename=future-0.18.2-py3-none-any.whl size=491059 sha256=ac516446b87913228489fad544eaddcd717b5651ed1ca4e815fb52cbbb1b77e6\n",
      "  Stored in directory: /Users/di73kuj2/Library/Caches/pip/wheels/8e/70/28/3d6ccd6e315f65f245da085482a2e1c7d14b90b30f239e2cf4\n",
      "Successfully built future\n",
      "Installing collected packages: future\n",
      "Successfully installed future-0.18.2\n",
      "Collecting fipy\n",
      "  Downloading FiPy-3.4.2.1.tar.gz (6.0 MB)\n",
      "\u001b[K     |████████████████████████████████| 6.0 MB 2.4 MB/s eta 0:00:01\n",
      "\u001b[?25hRequirement already satisfied: numpy in /Users/di73kuj2/miniconda3/envs/easyvvuq/lib/python3.8/site-packages (from fipy) (1.19.4)\n",
      "Requirement already satisfied: scipy in /Users/di73kuj2/miniconda3/envs/easyvvuq/lib/python3.8/site-packages (from fipy) (1.5.4)\n",
      "Requirement already satisfied: matplotlib in /Users/di73kuj2/miniconda3/envs/easyvvuq/lib/python3.8/site-packages (from fipy) (3.3.3)\n",
      "Requirement already satisfied: future in /Users/di73kuj2/miniconda3/envs/easyvvuq/lib/python3.8/site-packages (from fipy) (0.18.2)\n",
      "Requirement already satisfied: cycler>=0.10 in /Users/di73kuj2/miniconda3/envs/easyvvuq/lib/python3.8/site-packages (from matplotlib->fipy) (0.10.0)\n",
      "Requirement already satisfied: kiwisolver>=1.0.1 in /Users/di73kuj2/miniconda3/envs/easyvvuq/lib/python3.8/site-packages (from matplotlib->fipy) (1.3.1)\n",
      "Requirement already satisfied: python-dateutil>=2.1 in /Users/di73kuj2/miniconda3/envs/easyvvuq/lib/python3.8/site-packages (from matplotlib->fipy) (2.8.1)\n",
      "Requirement already satisfied: pyparsing!=2.0.4,!=2.1.2,!=2.1.6,>=2.0.3 in /Users/di73kuj2/miniconda3/envs/easyvvuq/lib/python3.8/site-packages (from matplotlib->fipy) (2.4.7)\n",
      "Requirement already satisfied: pillow>=6.2.0 in /Users/di73kuj2/miniconda3/envs/easyvvuq/lib/python3.8/site-packages (from matplotlib->fipy) (8.0.1)\n",
      "Requirement already satisfied: six in /Users/di73kuj2/miniconda3/envs/easyvvuq/lib/python3.8/site-packages (from cycler>=0.10->matplotlib->fipy) (1.15.0)\n",
      "Building wheels for collected packages: fipy\n",
      "  Building wheel for fipy (setup.py) ... \u001b[?25ldone\n",
      "\u001b[?25h  Created wheel for fipy: filename=FiPy-3.4.2.1-py3-none-any.whl size=428097 sha256=fa4a7a009ce0bcf50e4b6fedb6e8cf8a4db9b5dff6844d8692174573095bbab3\n",
      "  Stored in directory: /Users/di73kuj2/Library/Caches/pip/wheels/88/c7/c7/d81adcb8e9574c321345f40384f69b3e2b366d755747555250\n",
      "Successfully built fipy\n",
      "Installing collected packages: fipy\n",
      "Successfully installed fipy-3.4.2.1\n"
     ]
    }
   ],
   "source": [
    "!pip install EasyVVUQ\n",
    "!pip install future\n",
    "!pip install fipy"
   ]
  },
  {
   "cell_type": "markdown",
   "metadata": {},
   "source": [
    "Import packages that we will use."
   ]
  },
  {
   "cell_type": "code",
   "execution_count": 1,
   "metadata": {},
   "outputs": [],
   "source": [
    "import os\n",
    "import easyvvuq as uq\n",
    "import chaospy as cp\n",
    "import pickle\n",
    "import time\n",
    "import numpy as np \n",
    "import matplotlib.pylab as plt"
   ]
  },
  {
   "cell_type": "markdown",
   "metadata": {},
   "source": [
    "Set up a fresh campaign called \"fusion_pce.\""
   ]
  },
  {
   "cell_type": "code",
   "execution_count": 2,
   "metadata": {},
   "outputs": [],
   "source": [
    "my_campaign = uq.Campaign(name='fusion_pce.')"
   ]
  },
  {
   "cell_type": "markdown",
   "metadata": {},
   "source": [
    "Define parameter space."
   ]
  },
  {
   "cell_type": "code",
   "execution_count": 3,
   "metadata": {},
   "outputs": [],
   "source": [
    "params = {\n",
    "    \"Qe_tot\":   {\"type\": \"float\",   \"min\": 1.0e6, \"max\": 50.0e6, \"default\": 2e6}, \n",
    "    \"H0\":       {\"type\": \"float\",   \"min\": 0.00,  \"max\": 1.0,    \"default\": 0}, \n",
    "    \"Hw\":       {\"type\": \"float\",   \"min\": 0.01,  \"max\": 100.0,  \"default\": 0.1}, \n",
    "    \"Te_bc\":    {\"type\": \"float\",   \"min\": 10.0,  \"max\": 1000.0, \"default\": 100}, \n",
    "    \"chi\":      {\"type\": \"float\",   \"min\": 0.01,  \"max\": 100.0,  \"default\": 1}, \n",
    "    \"a0\":       {\"type\": \"float\",   \"min\": 0.2,   \"max\": 10.0,   \"default\": 1}, \n",
    "    \"R0\":       {\"type\": \"float\",   \"min\": 0.5,   \"max\": 20.0,   \"default\": 3}, \n",
    "    \"E0\":       {\"type\": \"float\",   \"min\": 1.0,   \"max\": 10.0,   \"default\": 1.5}, \n",
    "    \"b_pos\":    {\"type\": \"float\",   \"min\": 0.95,  \"max\": 0.99,   \"default\": 0.98}, \n",
    "    \"b_height\": {\"type\": \"float\",   \"min\": 3e19,  \"max\": 10e19,  \"default\": 6e19}, \n",
    "    \"b_sol\":    {\"type\": \"float\",   \"min\": 2e18,  \"max\": 3e19,   \"default\": 2e19}, \n",
    "    \"b_width\":  {\"type\": \"float\",   \"min\": 0.005, \"max\": 0.025,  \"default\": 0.01}, \n",
    "    \"b_slope\":  {\"type\": \"float\",   \"min\": 0.0,   \"max\": 0.05,   \"default\": 0.01}, \n",
    "    \"nr\":       {\"type\": \"integer\", \"min\": 10,    \"max\": 1000,   \"default\": 100}, \n",
    "    \"dt\":       {\"type\": \"float\",   \"min\": 1e-3,  \"max\": 1e3,    \"default\": 100},\n",
    "    \"out_file\": {\"type\": \"string\",  \"default\": \"output.csv\"}\n",
    "}"
   ]
  },
  {
   "cell_type": "markdown",
   "metadata": {},
   "source": [
    "Create an encoder, decoder and collater for PCE test app."
   ]
  },
  {
   "cell_type": "code",
   "execution_count": 4,
   "metadata": {},
   "outputs": [],
   "source": [
    "encoder = uq.encoders.GenericEncoder(template_fname='fusion.template',\n",
    "                                     delimiter='$',\n",
    "                                     target_filename='fusion_in.json')\n",
    "\n",
    "\n",
    "decoder = uq.decoders.SimpleCSV(target_filename=\"output.csv\",\n",
    "                                output_columns=[\"te\", \"ne\", \"rho\", \"rho_norm\"])"
   ]
  },
  {
   "cell_type": "markdown",
   "metadata": {},
   "source": [
    "Add the app (automatically set as current app)."
   ]
  },
  {
   "cell_type": "code",
   "execution_count": 5,
   "metadata": {},
   "outputs": [],
   "source": [
    "my_campaign.add_app(name=\"fusion\",\n",
    "                    params=params,\n",
    "                    encoder=encoder,\n",
    "                    decoder=decoder)"
   ]
  },
  {
   "cell_type": "markdown",
   "metadata": {},
   "source": [
    "Create the sampler (here simplified to two uncertain quantities)."
   ]
  },
  {
   "cell_type": "code",
   "execution_count": 6,
   "metadata": {},
   "outputs": [],
   "source": [
    "vary = {\n",
    "    \"Qe_tot\":   cp.Uniform(1.8e6, 2.2e6),\n",
    "    \"Te_bc\":    cp.Uniform(80.0,  120.0)\n",
    "}"
   ]
  },
  {
   "cell_type": "markdown",
   "metadata": {},
   "source": [
    "Other possible quantities to vary:\n",
    "\n",
    "```\n",
    "\"H0\": cp.Uniform(0.0, 0.2),\n",
    "\"Hw\": cp.Uniform(0.1, 0.5),\n",
    "\"chi\": cp.Uniform(0.8, 1.2), \n",
    "\"a0\": cp.Uniform(0.9, 1.1), \n",
    "\"R0\": cp.Uniform(2.7, 3.3), \n",
    "\"E0\": cp.Uniform(1.4, 1.6), \n",
    "\"b_pos\": cp.Uniform(0.95, 0.99), \n",
    "\"b_height\": cp.Uniform(5e19, 7e19), \n",
    "\"b_sol\": cp.Uniform(1e19, 3e19), \n",
    "\"b_width\": cp.Uniform(0.015, 0.025), \n",
    "\"b_slope\": cp.Uniform(0.005, 0.020)\n",
    "```"
   ]
  },
  {
   "cell_type": "markdown",
   "metadata": {},
   "source": [
    "Associate a sampler with the campaign."
   ]
  },
  {
   "cell_type": "code",
   "execution_count": 7,
   "metadata": {},
   "outputs": [],
   "source": [
    "my_campaign.set_sampler(uq.sampling.PCESampler(vary=vary, polynomial_order=3))"
   ]
  },
  {
   "cell_type": "markdown",
   "metadata": {},
   "source": [
    "Will draw all (of the finite set of samples)."
   ]
  },
  {
   "cell_type": "code",
   "execution_count": 8,
   "metadata": {},
   "outputs": [
    {
     "name": "stdout",
     "output_type": "stream",
     "text": [
      "Number of samples = 16\n"
     ]
    }
   ],
   "source": [
    "my_campaign.draw_samples()\n",
    "print('Number of samples = %s' % my_campaign.get_active_sampler().count)"
   ]
  },
  {
   "cell_type": "markdown",
   "metadata": {},
   "source": [
    "Create and populate the run directories."
   ]
  },
  {
   "cell_type": "code",
   "execution_count": 9,
   "metadata": {},
   "outputs": [
    {
     "data": {
      "text/plain": [
       "['Run_1',\n",
       " 'Run_2',\n",
       " 'Run_3',\n",
       " 'Run_4',\n",
       " 'Run_5',\n",
       " 'Run_6',\n",
       " 'Run_7',\n",
       " 'Run_8',\n",
       " 'Run_9',\n",
       " 'Run_10',\n",
       " 'Run_11',\n",
       " 'Run_12',\n",
       " 'Run_13',\n",
       " 'Run_14',\n",
       " 'Run_15',\n",
       " 'Run_16']"
      ]
     },
     "execution_count": 9,
     "metadata": {},
     "output_type": "execute_result"
    }
   ],
   "source": [
    "my_campaign.populate_runs_dir()"
   ]
  },
  {
   "cell_type": "markdown",
   "metadata": {},
   "source": [
    "Run the cases."
   ]
  },
  {
   "cell_type": "code",
   "execution_count": 10,
   "metadata": {},
   "outputs": [
    {
     "name": "stdout",
     "output_type": "stream",
     "text": [
      "/Users/di73kuj2/Programming/EasyVVUQ/tutorials/fusion_model.py fusion_in.json\n"
     ]
    },
    {
     "ename": "SystemExit",
     "evalue": "Non-zero exit code from command \"cd \"/Users/di73kuj2/Programming/EasyVVUQ/tutorials/fusion_pce.lsmn2aks/runs/Run_1\"\npython3 /Users/di73kuj2/Programming/EasyVVUQ/tutorials/fusion_model.py fusion_in.json\n\"\n",
     "output_type": "error",
     "traceback": [
      "An exception has occurred, use %tb to see the full traceback.\n",
      "\u001b[0;31mSystemExit\u001b[0m\u001b[0;31m:\u001b[0m Non-zero exit code from command \"cd \"/Users/di73kuj2/Programming/EasyVVUQ/tutorials/fusion_pce.lsmn2aks/runs/Run_1\"\npython3 /Users/di73kuj2/Programming/EasyVVUQ/tutorials/fusion_model.py fusion_in.json\n\"\n\n"
     ]
    },
    {
     "name": "stderr",
     "output_type": "stream",
     "text": [
      "/Users/di73kuj2/miniconda3/envs/easyvvuq/lib/python3.8/site-packages/IPython/core/interactiveshell.py:3425: UserWarning: To exit: use 'exit', 'quit', or Ctrl-D.\n",
      "  warn(\"To exit: use 'exit', 'quit', or Ctrl-D.\", stacklevel=1)\n"
     ]
    }
   ],
   "source": [
    "cwd = os.getcwd().replace(' ', '\\ ')      # deal with ' ' in the path\n",
    "cmd = f\"{cwd}/fusion_model.py fusion_in.json\"\n",
    "print(cmd)\n",
    "my_campaign.apply_for_each_run_dir(uq.actions.ExecuteLocal(cmd, interpret='python3'))"
   ]
  },
  {
   "cell_type": "markdown",
   "metadata": {},
   "source": [
    "Collate the results."
   ]
  },
  {
   "cell_type": "code",
   "execution_count": null,
   "metadata": {},
   "outputs": [],
   "source": [
    "my_campaign.collate()"
   ]
  },
  {
   "cell_type": "markdown",
   "metadata": {},
   "source": [
    "Post-processing analysis."
   ]
  },
  {
   "cell_type": "code",
   "execution_count": null,
   "metadata": {},
   "outputs": [],
   "source": [
    "my_campaign.apply_analysis(uq.analysis.PCEAnalysis(sampler=my_campaign.get_active_sampler(), \n",
    "                                                   qoi_cols=[\"te\", \"ne\", \"rho\", \"rho_norm\"]))"
   ]
  },
  {
   "cell_type": "markdown",
   "metadata": {},
   "source": [
    "Get Descriptive Statistics."
   ]
  },
  {
   "cell_type": "code",
   "execution_count": null,
   "metadata": {},
   "outputs": [],
   "source": [
    "results = my_campaign.get_last_analysis()\n",
    "rho = results.describe('rho', 'mean')\n",
    "rho_norm = results.describe('rho_norm', 'mean')"
   ]
  },
  {
   "cell_type": "markdown",
   "metadata": {},
   "source": [
    "Plot the calculated Te: mean, with std deviation, 10 and 90% and range."
   ]
  },
  {
   "cell_type": "code",
   "execution_count": null,
   "metadata": {},
   "outputs": [],
   "source": [
    "plt.figure() \n",
    "plt.plot(rho, results.describe('te', 'mean'), 'b-', label='Mean')\n",
    "plt.plot(rho, results.describe('te', 'mean')-results.describe('te', 'std'), 'b--', label='+1 std deviation')\n",
    "plt.plot(rho, results.describe('te', 'mean')+results.describe('te', 'std'), 'b--')\n",
    "plt.fill_between(rho, results.describe('te', 'mean')-results.describe('te', 'std'), results.describe('te', 'mean')+results.describe('te', 'std'), color='b', alpha=0.2)\n",
    "plt.plot(rho, results.describe('te', '10%'), 'b:', label='10 and 90 percentiles')\n",
    "plt.plot(rho, results.describe('te', '90%'), 'b:')\n",
    "plt.fill_between(rho, results.describe('te', '10%'), results.describe('te', '90%'), color='b', alpha=0.1)\n",
    "plt.fill_between(rho, results.describe('te', 'min'), results.describe('te', 'max'), color='b', alpha=0.05)\n",
    "plt.legend(loc=0)\n",
    "plt.xlabel('rho [m]')\n",
    "plt.ylabel('Te [eV]')\n",
    "plt.title(my_campaign.campaign_dir);"
   ]
  },
  {
   "cell_type": "markdown",
   "metadata": {},
   "source": [
    "Plot the first Sobol results."
   ]
  },
  {
   "cell_type": "code",
   "execution_count": null,
   "metadata": {},
   "outputs": [],
   "source": [
    "plt.figure() \n",
    "for k in results.sobols_first()['te'].keys(): plt.plot(rho, results.sobols_first()['te'][k], label=k)\n",
    "plt.legend(loc=0)\n",
    "plt.xlabel('rho [m]')\n",
    "plt.ylabel('sobols_first')\n",
    "plt.title(my_campaign.campaign_dir);"
   ]
  },
  {
   "cell_type": "markdown",
   "metadata": {},
   "source": [
    "Plot the second Sobol results."
   ]
  },
  {
   "cell_type": "code",
   "execution_count": null,
   "metadata": {},
   "outputs": [],
   "source": [
    "plt.figure() \n",
    "for k1 in results.sobols_second()['te'].keys(): \n",
    "    for k2 in results.sobols_second()['te'][k1].keys():\n",
    "        plt.plot(rho, results.sobols_second()['te'][k1][k2], label=k1+'/'+k2)\n",
    "plt.legend(loc=0)    \n",
    "plt.xlabel('rho [m]')\n",
    "plt.ylabel('sobols_second')\n",
    "plt.title(my_campaign.campaign_dir+'\\n');"
   ]
  },
  {
   "cell_type": "markdown",
   "metadata": {},
   "source": [
    "Plot the total Sobol results."
   ]
  },
  {
   "cell_type": "code",
   "execution_count": null,
   "metadata": {},
   "outputs": [],
   "source": [
    "plt.figure() \n",
    "for k in results.sobols_total()['te'].keys(): plt.plot(rho, results.sobols_total()['te'][k], label=k)\n",
    "plt.legend(loc=0)    \n",
    "plt.xlabel('rho [m]')\n",
    "plt.ylabel('sobols_total')\n",
    "plt.title(my_campaign.campaign_dir);"
   ]
  },
  {
   "cell_type": "markdown",
   "metadata": {},
   "source": [
    "Plot the distributions."
   ]
  },
  {
   "cell_type": "code",
   "execution_count": null,
   "metadata": {},
   "outputs": [],
   "source": [
    "\n",
    "plt.figure() \n",
    "for i, D in enumerate(results.raw_data['output_distributions']['te']):\n",
    "    _Te = np.linspace(D.lower[0], D.upper[0], 101)\n",
    "    _DF = D.pdf(_Te)\n",
    "    plt.loglog(_Te, _DF, 'b-', alpha=0.25)\n",
    "    plt.loglog(results.describe('te', 'mean')[i], np.interp(results.describe('te', 'mean')[i], _Te, _DF), 'bo')\n",
    "    plt.loglog(results.describe('te', 'mean')[i]-results.describe('te', 'std')[i], np.interp(results.describe('te', 'mean')[i]-results.describe('te', 'std')[i], _Te, _DF), 'b*')\n",
    "    plt.loglog(results.describe('te', 'mean')[i]+results.describe('te', 'std')[i], np.interp(results.describe('te', 'mean')[i]+results.describe('te', 'std')[i], _Te, _DF), 'b*')\n",
    "    plt.loglog(results.describe('te', '10%')[i],  np.interp(results.describe('te', '10%')[i], _Te, _DF), 'b+')\n",
    "    plt.loglog(results.describe('te', '90%')[i],  np.interp(results.describe('te', '90%')[i], _Te, _DF), 'b+')\n",
    "plt.xlabel('Te')\n",
    "plt.ylabel('distribution function');"
   ]
  }
 ],
 "metadata": {
  "kernelspec": {
   "display_name": "Python 3",
   "language": "python",
   "name": "python3"
  },
  "language_info": {
   "codemirror_mode": {
    "name": "ipython",
    "version": 3
   },
   "file_extension": ".py",
   "mimetype": "text/x-python",
   "name": "python",
   "nbconvert_exporter": "python",
   "pygments_lexer": "ipython3",
   "version": "3.8.6"
  }
 },
 "nbformat": 4,
 "nbformat_minor": 4
}
